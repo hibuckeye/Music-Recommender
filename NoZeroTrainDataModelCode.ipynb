{
 "cells": [
  {
   "cell_type": "markdown",
   "metadata": {},
   "source": [
    "1.basic bias model\n",
    "=="
   ]
  },
  {
   "cell_type": "code",
<<<<<<< HEAD
   "execution_count": 1,
=======
   "execution_count": 14,
>>>>>>> 8b0747d3d30698f4aef1b4a378384d18273d3383
   "metadata": {
    "collapsed": false
   },
   "outputs": [
    {
     "name": "stdout",
     "output_type": "stream",
     "text": [
      "the number of users in trainning data is:9998\n",
      "\n"
     ]
    }
   ],
   "source": [
    "import json\n",
    "from math import sqrt\n",
    "\n",
    "def readData(filename, list):\n",
    "\twith open(filename, 'r') as f:\n",
    "\t\tfor line in f:\n",
    "\t\t\tlist.append(json.loads(line))\n",
    "\n",
    "#load the trainning data\n",
    "trainDatas = []\n",
<<<<<<< HEAD
    "# readData('data_preprocess/trainOut2w.json', trainDatas)\n",
    "readData('trainOutNoZero.json', trainDatas)\n",
    "# readData('trainOutNoExtreme.json', trainDatas)\n",
=======
    "readData('data_preprocess/trainOutNoZero.json', trainDatas)\n",
>>>>>>> 8b0747d3d30698f4aef1b4a378384d18273d3383
    "print(\"the number of users in trainning data is:\" + str(len(trainDatas)) + \"\\n\")\n",
    "#print(trainDatas[0])"
   ]
  },
  {
   "cell_type": "code",
<<<<<<< HEAD
   "execution_count": 2,
=======
   "execution_count": 15,
>>>>>>> 8b0747d3d30698f4aef1b4a378384d18273d3383
   "metadata": {
    "collapsed": false
   },
   "outputs": [
    {
     "name": "stdout",
     "output_type": "stream",
     "text": [
      "the number of distinct items is: 295455\n"
     ]
    }
   ],
   "source": [
    "#construct the dict by itemID\n",
    "trainReviews = {}#improve the speed of finding\n",
    "for review in trainDatas:\n",
    "    for rating in review[\"ratings\"]:\n",
    "        itemID = rating[\"itemID\"]\n",
    "        if itemID in trainReviews:\n",
    "            trainReviews[itemID].append(rating)\n",
    "        else:\n",
    "            trainReviews[itemID] = [rating]\n",
    "print('the number of distinct items is: ' + str(len(trainReviews)))"
   ]
  },
  {
   "cell_type": "code",
<<<<<<< HEAD
   "execution_count": 3,
=======
   "execution_count": 16,
>>>>>>> 8b0747d3d30698f4aef1b4a378384d18273d3383
   "metadata": {
    "collapsed": false
   },
   "outputs": [
    {
     "name": "stdout",
     "output_type": "stream",
     "text": [
      "the number of users in test data is:10000\n",
      "\n"
     ]
    }
   ],
   "source": [
    "#load the test data\n",
    "testDatas = []\n",
<<<<<<< HEAD
    "# readData('data_preprocess/testOut2w.json', testDatas)\n",
    "# readData('testOut10.json', testDatas)\n",
=======
>>>>>>> 8b0747d3d30698f4aef1b4a378384d18273d3383
    "readData('data_preprocess/testOut1w.json', testDatas)\n",
    "print(\"the number of users in test data is:\" + str(len(testDatas)) + \"\\n\")\n",
    "#print(testDatas[0])"
   ]
  },
  {
   "cell_type": "code",
<<<<<<< HEAD
   "execution_count": 4,
=======
   "execution_count": 17,
>>>>>>> 8b0747d3d30698f4aef1b4a378384d18273d3383
   "metadata": {
    "collapsed": false
   },
   "outputs": [
    {
     "name": "stdout",
     "output_type": "stream",
     "text": [
      "the overall average rating is: 71.2783178904\n"
     ]
    }
   ],
   "source": [
    "#the average of all rating\n",
    "aveRate = 0\n",
    "count = 0\n",
    "for review in trainDatas:\n",
    "    for rating in review[\"ratings\"]:\n",
    "        aveRate += int(rating[\"rating\"])\n",
    "        count += 1\n",
    "aveRate /= float(count)\n",
    "print('the overall average rating is: ' + str(aveRate))"
   ]
  },
  {
   "cell_type": "code",
<<<<<<< HEAD
   "execution_count": 5,
=======
   "execution_count": 18,
>>>>>>> 8b0747d3d30698f4aef1b4a378384d18273d3383
   "metadata": {
    "collapsed": false
   },
   "outputs": [],
   "source": [
    "def itemBias(itemID, aveRating):\n",
    "\n",
    "    #    use the trainReviews(dict) which is sorted by itemId\n",
    "\n",
    "    numRating = 0\n",
    "    sumRating = 0\n",
    "    if itemID in trainReviews:\n",
    "        for rating in trainReviews[itemID]:\n",
    "            numRating += 1\n",
    "            sumRating += float(rating['rating'])\n",
    "    else:#if there is no such itemID's rating the itemBias is zero\n",
    "        return 0\n",
    "    return sumRating / float(numRating) - aveRating\n",
    "\n",
    "def userBias(userID, aveRating):\n",
    "\n",
    "    #    use the trainOut format to find the userBias\n",
    "\n",
    "    numRating = 0\n",
    "    sumRating = 0\n",
    "    for review in trainDatas:\n",
    "        if review['userID'] == userID:\n",
    "            for rating in review[\"ratings\"]:\n",
    "                numRating += 1\n",
    "                sumRating += float(rating['rating'])\n",
    "            break#if get the user info then stop the loop\n",
    "    if numRating == 0:\n",
    "        return 0\n",
    "    return sumRating / float(numRating) - aveRating\n",
    "\n",
    "#get the user bias matrix from train data\n",
    "userBiases = {}\n",
    "for review in trainDatas:\n",
    "\tuserID = review['userID']\n",
    "\tuserBiases[userID] = userBias(userID, aveRate)\n",
    "\n",
    "#get the item bias matrix from train data\n",
    "itemBiases = {}\n",
    "for itemID in trainReviews:\n",
    "    itemBiases[itemID] = itemBias(itemID, aveRate)"
   ]
  },
  {
   "cell_type": "code",
<<<<<<< HEAD
   "execution_count": 6,
=======
   "execution_count": 19,
>>>>>>> 8b0747d3d30698f4aef1b4a378384d18273d3383
   "metadata": {
    "collapsed": false
   },
   "outputs": [
    {
     "name": "stdout",
     "output_type": "stream",
     "text": [
      "the basic model RMSE is: 33.7583316241\n",
      "the number of views in test data is: 59988\n"
     ]
    }
   ],
   "source": [
    "#check basic model RMSE\n",
    "errors = []\n",
    "count = 0\n",
    "squareSum = 0\n",
    "for review in testDatas:\n",
    "    userID = review['userID']\n",
    "    if userID not in userBiases:\n",
    "        continue\n",
    "    for rating in review['ratings']:\n",
    "        itemID = rating['itemID']\n",
    "        realRating = float(rating['rating'])\n",
    "        count += 1\n",
    "        if itemID in itemBiases:\n",
    "            squareSum += (aveRate + userBiases[userID] + itemBiases[itemID] - realRating) ** 2\n",
    "            errors.append(aveRate + userBiases[userID] + itemBiases[itemID] - realRating)\n",
    "        #if the current item does not exist in train data, the bias is zero\n",
    "        else:\n",
    "            squareSum += (aveRate + userBiases[userID] + 0 - realRating) ** 2\n",
    "            errors.append(aveRate + userBiases[userID] + 0 - realRating)\n",
    "\n",
    "RMSE = sqrt(squareSum / float(count))\n",
    "print('the basic model RMSE is: ' + str(RMSE))\n",
    "print('the number of views in test data is: ' + str(count))"
   ]
  },
  {
   "cell_type": "code",
<<<<<<< HEAD
   "execution_count": 7,
=======
   "execution_count": 20,
>>>>>>> 8b0747d3d30698f4aef1b4a378384d18273d3383
   "metadata": {
    "collapsed": false,
    "scrolled": true
   },
   "outputs": [
    {
<<<<<<< HEAD
     "data": {
      "text/plain": [
       "[<matplotlib.lines.Line2D at 0x1744e7090>]"
      ]
     },
     "execution_count": 7,
     "metadata": {},
     "output_type": "execute_result"
    },
    {
     "data": {
      "image/png": "iVBORw0KGgoAAAANSUhEUgAAAiYAAAFkCAYAAAAUtvC8AAAABHNCSVQICAgIfAhkiAAAAAlwSFlz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\n",
      "text/plain": [
       "<matplotlib.figure.Figure at 0x16a83c850>"
=======
     "name": "stdout",
     "output_type": "stream",
     "text": [
      "-94.4926036046\n",
      "124.849977364\n"
     ]
    },
    {
     "data": {
      "image/png": "iVBORw0KGgoAAAANSUhEUgAAAYMAAAD8CAYAAACVZ8iyAAAABHNCSVQICAgIfAhkiAAAAAlwSFlz\nAAALEgAACxIB0t1+/AAAIABJREFUeJzt3Xd4FOX6N/DvnYSEFqQkYKSFIEqTGikqohSpHuxixXLU\no9h99YBYjwdFPfyODVHsHex4BEEBRVBagCgBKQFCCS30UEOS5/1jZ8Ps7uzu7O7Mzm7y/VwXF7uz\nszPPk92d++kjSikQEVHVluB0AoiIyHkMBkRExGBAREQMBkREBAYDIiICgwEREYHBgIiIwGBARERg\nMCAiIgBJTifArLS0NJWZmel0MoiI4srSpUt3K6XSg+0XN8EgMzMTOTk5TieDiCiuiMgmM/uxmYiI\niBgMiIiIwYCIiMBgQEREYDAgIiIwGBARERgMiIgIDAaVyvqiQ1iwfo/TySCiOBQ3k84ouL7j5wIA\nCsYNcTglRBRvWDMgIqKqFQwyR03Dc9P/cjoZlVZe4QEopZxORlSM/3ENnp+x2ulkBFVWrnD924vY\nfEhBValgAABv/rrB6SRUSr+v342hr87He78VOJ2UqHh1Tj4m/rLe6WQEVVR8HPPzd+P+KcudTgrF\nuCoXDMgeW/YeAQCs3nHQ4ZQQUTgYDCjmLN20F+/M3+h0MqgK+Wb5VnyzfKvTyXAUgwHFnMsnLsAz\n369yOhlUSRw7UYai4uMe2xZv3IvMUdOw6+AxAMADU/7AA1P+cCJ5MYPBgCp8nrMF+4+UOJ2MSuU/\nM9fg85wtTicDVaRf39DVkxbi7LGzPLa9/7ur5rmkYJ/l5ztSUoruz87C7/m7LT+2nRgMCACwdmcx\nHvnyTzwwJTei41Tli46R137OxyNf/unY+UUcOzUAV1/SwWMngu6nlMIDU3Lx+3rrL6B/bNlv+TED\nWbOjGDsPHsfzM9f4vLb9wFHs1GojsabSB4O5a4swd22RrecoL1eYmluIsvL4vRIeP1EOACg6dDzI\nnsYEDl91bFS4/yimLNnsdDLiUq8XfsbFr84Pul+5Ar5ZXojr314UhVSdpBDd32zP5+ag+7Ozo3pO\nsyp9MBjx7mKMeHexref4ctlW3Dc5F+/9FrjT89iJspgtFThl18FjyCs84HQyArpm0kL886sVOHy8\n1OmkOG5G3nYU7j8a0ns27TliU2rCZ2fhZeu+0P4+saLSBwOz8goPoDxAyV4phY27Dxu+tueQq53d\nX6n6eGkZth84ir9/kBOzpQKn9H7xFww1UXJ00h7tc42Fet/+IyVYusn6dm6z/vHxMgx77beA+5SU\nlmPWqp1RSlHsueczbU5HnLWZMhjA1aY49NX5eP2XfL/7fLRwEy78zy+Bf4h+Pvt7Pl2Ons/NwfwI\nO5SUUrbP8I308MHePvrrFcgcNa3i+dETZZGdsIq59q1FuHzi7yG/z8pvze4gTYkvzFiNv3+Yg0Ub\nrJv1fMM7i9B3/C+WHc+f7/7YZvs5YhWDAYBtWrU3r9D/hKnlm12dUJv2+NYOgnXS/WhRKanF6Olh\nXQjMiLij0eT7P1vMtvdIrNoe2qQ+fx/Lz6t34WiJPYF4szYBcd8R447jX9cWYfnm0Go389btxvoi\n45q5le79zNxM7RVbDwTvGI/wR/XRggJMjuLvhcHApG+WFwbdx+oy++iv//TpfFu2eX9U1/+56o0F\nuG9yfCxlUFauMHPljiqzPpLexws3IWv0NFODGNbtLMbN7y/BmG9WAACufnNBRdPGxF/WY9wPwddc\nmppbGPIF3e3Gdxfj0tetK9SUlJZj2p/bo/a5K6Vw8WvzceM7QfoiQ0hPaVk5Ojw1s2ImPwA8PnUl\nRn29ItxkhozBIESPf5vns80d/8vLFX5YcfJLOeabFcj+9yyf/c36bPEWrDDoXDW7/o97uN6Sgr0m\n9nX9v3KbZ8lzccFeTM3dFvEPrdWY6Xjqu5URHSOYt+dtwB0fLcW0FdstPe5hrQTt/ht4X3APHS/F\njgO+AwMC9UF5K9x/FNn//smw5mnGM9+vQrkCTpSVB9334DFXR/hG7VyLNu7F/7TmkednrMYbc4Ov\nuXTf5NyKC/rijXt9JnWFq1y5AlsoXpq1FiM/XYaf1+wKuN/CCJqtPlxQUHGhzt91CACQa+GQ1X9+\ntQIHj5Wi1ws/+7z21dLozIyuMsFA304dicMBqtZvz9+IOz9ZhrfmuRbD+2TR5qDtq+HI22Zu9M3h\nkjJ8s7wQN1kwmsrf8Nx9h0uwdNPeoNWiE2UK7/9eUPF8Q9Ehyz4TN3dz3+4gF6bSsnKsLzqEIyWl\nyBw1DR8uKAi4v7eXZ6/zeD7klXno8ZznwIBFG/Yg69Hppo/57fJC7D5UgslL7Jug9t5vG8MONoFc\n9eYCDHttPpRSeHX2OsMRc2/OXY8cE4USAHjMoMAVyHYtEH+Xuw0fBQgkwyctDBowjBw6Xoonpq7E\n8EkLASDk0VRm7Asw2fOhL6IzM7rKBAO9zFHTkDlqWkU12VsoJTojwWY1PvLlH3E3J+HA0ZPto7sP\nHcebc9dDKYXOz/yEyycuwBRtlq3ZCsTsvzx/lIFma24oOoRfwvgRux0+XupRYn5x5hr0HT8Xyza5\nSnZPTF2JYhMTowDg4LETeMUrGBgNnYx0sIDVjhwvxdP/W4Wr31wY1vvLyxVWBiiEbDtwDKt3FGP8\nT2vxx1bXfvo29ed+WI0r3lgQ1rnN+jZ3m2HNXe+zRZuxalvgfpe/vPplyrUv9cGj5r4j3oqPnTD9\n/XJSlQwGbp8s8u2cmZpbiKxHp3uUoEpKA1e9Q+0n+jxnK9bsKA7tTSE6cPQE2j85E4CrhnD4eCle\nm7PObxDyzkPmqGl45EvjEskDU3Lx3A+rMfLTZRXbIp3leW2AyUZ9xs/FTe8tAeAq1U/4OR9HSvyP\n+ffOYbsnZ+KW95dUPF+slVCn551sTtJ3HP60aic2FLmaAl6e5Xnhf9RkG+7MlTs8nh8pKcWN7y7G\nY9+uwIqtB7Bq20FkjpqGhRv2YM7qnSg+ZtMcBu1zdX/s4V6YJs5djyGvBB4C7H2xfP1n/6Pz9HK3\n7Ee3sb7NqWt2FOOHFdtx83vWzRP6cdVODH5lXsVksxl5O9DDa7j3oJfnYf663fhk0SZ0f3YWRn/l\n+syLw5xnctZTP+Ksp340rDHlFLjWSJqzOvzCjlUsue2liLwLYCiAXUqp9tq2+gCmAMgEUADgKqXU\nPu210QBuBVAG4F6l1Ewr0mGF//3hukCs3lGM//tpLa7v0RyfeQWNsnKFxATrJq30eHY2emTVx0vD\nOxu+Pn/dbkzNDd6BrVdU7PnF+8fHSzFv3W40rV8Twzo19nit+NgJn5I64ApaRjZoozqmr9hh+Hq4\nysoV/tgaOKhMzd2GF2euwb7DJXhsaFsArpJ/uydnVgS0l2evw1XZTVEr5eTXe9663bjl/SV468bs\nim36dv6f1xRh9l870bdNI9z2YQ4A1+1D/ztrrcf59x42t3bT2p2HPJ7PXVOEX7Wmto8XbsZjQ9oA\ncLVF6/+O7gl4T0zNw4cLNlXcwnTNjmK/y4MfLy3D8SAFFj13YA3lGxyoVuB21yfLPJ4XmJhstv9I\nCS6ZYDxvYcBLv/psc/fbiK70Eskv8fs/jfuXrn/nZOFE3wc14t3FuPncTJ/9S0rLcaKs3OM7BwDL\ndJ3so77yXZbkmrfCq6nZwaqawfsABnptGwVgtlKqFYDZ2nOISFsAwwG0097zuogkWpSOkB0tKcN+\nrUQzY+UOzPrLNQx0am4hpuZuwy3vLcHXXiOJWj46veLivPPgMUxeHHo7797DJTimjbHfcfAYvs3d\nhsxR01Cw+zB2FR/zWFjr+ncW4Qs/nUirth3EkZJSfBtktNO8da5mC6OLxgNTcn0uev4cPHbCsM20\n1IJmr4m/5OOyAKNMHv82D8dKXX+zt+dvrOhzcPfLuJuo9h85gfE/+uZnzupd2Hu4pOLi4X33r1s/\nyKn4TKLFO6C6P6cPF7javvuM/wU7Dx7DgJd+xX2TT64bdbz0ZDoXbjBuiy8tK69oCnMz+ymZHTDw\nk27Y9B6TgVLvST+DCvz1J7V/cmbFvb4B19/B6gEDgRj1na3ZUYxzn5+Ddk96lml3Hyrx+D4b/UZO\nlBn/nfW17mixpGaglPpVRDK9Ng8DcIH2+AMAvwD4p7Z9slLqOICNIpIPoBsAexsU/Vi+ZR9GG1T9\ng5V675uci2GdGuOW95dgg5+ZyYFc/84idGlWF8PPbuaxfUWha/xysNEZ5eUKR0+UYfAr80I6b0lp\nOX5fvxvdWzSoqN14z6xeu9N/E9bWvYE7z7zXetl+4Ch6PjfHVNr+Y3AB/03X9v7Rwk0Ye2l7U8fa\nfuAouj7zE+7oneV3H6MJbx2f/vHk+RYUeLxm9LO97PXAs3HdvK8D0wNcwPQXwg1Fh/GlQUHgzMdm\nVDwef2XHisetH5+BJWP6IT01BQ9/+WfFkGijpsxlm/djxVbjEr9S5po/3bWocE3NDW2S1+GSsorf\n25zVO3HL+/7Pn1d4IOR5GWZ4H1Nfg9Hf/c670BTKgLxpfmosdrIkGPjRSCnlztEOAI20x40B6OtG\nW7VtjgjWHxConXDL3iM+QzEB89XWZZv3Y9lm35Lb3kPBS1iBRqr8sGI7WjWqbfiae6RGtxb1MeHa\nLkhPTfHZ56L/+lbP3dVyM8Gn3RMzKkZdTbi2i+E+m/eaW6/mOq++hN/zPUvzZeXK8DP8Ic8VzJ+d\n7jlm/sdVgYO8vub0+FTfUqv3BdL78/PHu6Rn9n1meAeLdbuKkZ6a4jE3xt+F6OLXjPsBojG8YVuE\no3Lmrgm8AKVdy5wEup90oPtiew8quOGd6C7KF0xUOpCVq84Z8vdLRG4XkRwRySkqsmflUXf7aTgK\nbBimt2rbQYz/KXCTzdfLAjcJ3fnJsqClkMUb9/qs8R7I8RNlHp2wgeiH327aa/w3CjQEMBDvJoF7\nJy9Hf4Pg5c878zdWjBOvLBYYjJ/ffsD4QnskwNBo/YQnpRSOlJRiXYBaYjhKdaO67FpAct66oop5\nE/Yc/+RFPZK5Bvrj6Dm1cKOdNYOdIpKhlNouIhkA3D2UhQCa6vZrom3zoZSaBGASAGRnZ8fcWEzv\nkSZuP67aGfYNTcxM+LFSXuEBU9P8l27aF9aIhxdm+K7pbqVwqtPhjgoJZuPuw2iRVsvy44azMJ13\n05yZNaD0E55OH/MDerVKw7x1u5E/dlDI5/dHX/haZ1NQviHYzGBYN/jBX+d3JL5w6GZIdtYMvgMw\nQns8AsBU3fbhIpIiIi0AtAJg7xrTNskJ8CN18oYmoTBblXZihYcJJocmhiSCfHyRsxW/5ftvInAP\ngYx0noo3p4Ydukuuyy2caWvV/ItuY2dhxkprR7NFU6d//ej3tQ8WhFdrjpQlwUBEPoOrA/hMEdkq\nIrcCGAegv4isA9BPew6l1EoAnwNYBWAGgJFKKS5dabFQmk6sZOV4+RcN7hTlpGD3ZXYPpXzj1+jW\n7rxZvVb/lW8sCNi85IRdxcex86D1s/ujZb+fRfycZNVoomv8vNTXz/5jAYy14twUW2L9BjDhjPwK\nxYszV2PCz84GAztuoPRLkM5ain9VegYymWd2lnWgtZuqAqcDAQDcH+F9rKlqYjAgU8wuoBbtm48T\nkTUYDIiIiMGAiIgYDIiICAwGREQEBgMiIgKDARERgcGAiIjAYEBERGAwICIiMBgQEREYDIiICAwG\nREQEBgMiIgKDARERgcGAiIjAYEBERGAwICIiMBgQEREYDIiICAwGREQEBgMiIgKDARERgcGAiIjA\nYEBERGAwICIiMBgQEREYDIiICAwGREQEBgMiIgKDARERgcGAiIjAYEBERGAwICIiMBgQERGAJLtP\nICIFAIoBlAEoVUpli0h9AFMAZAIoAHCVUmqf3WkhIiJj0aoZXKiU6qSUytaejwIwWynVCsBs7TkR\nETnEqWaiYQA+0B5/AOASh9JBRESITjBQAGaJyFIRuV3b1kgptV17vANAoyikg4iI/LC9zwDAeUqp\nQhFpCOAnEVmtf1EppUREGb1RCx63A0CzZs3sTykRURVle81AKVWo/b8LwDcAugHYKSIZAKD9v8vP\neycppbKVUtnp6el2J5WIqMqyNRiISC0RSXU/BnARgDwA3wEYoe02AsBUO9NBRESB2d1M1AjANyLi\nPtenSqkZIrIEwOciciuATQCusjkdREQUgK3BQCm1AUBHg+17APS189xERGQeZyATERGDARERMRgQ\nEREYDIiICAwGREQEBgMiIgKDARERgcGAiIjAYEBERGAwICIiMBgQEREYDIiICAwGREQEBgMiIgKD\nARERgcGAiIjAYEBERGAwICIiMBgQEREYDIiICAwGREQEBgMiIgKDARERgcGAiIjAYEBERGAwICIi\nMBgQEREYDIiICAwGREQEBgMiIgKDARERgcGAiIjAYEBERGAwICIiMBgQEREYDIiICA4GAxEZKCJr\nRCRfREY5lQ4iInIoGIhIIoAJAAYBaAvgGhFp60RaiIjIuZpBNwD5SqkNSqkSAJMBDHMoLUREMU0p\nZfs5nAoGjQFs0T3fqm0jIiIHxHQHsojcLiI5IpJTVFTkdHKIiCotp4JBIYCmuudNtG0elFKTlFLZ\nSqns9PT0qCWOiKiqcSoYLAHQSkRaiEgygOEAvnMoLUREVV6SEydVSpWKyN0AZgJIBPCuUmqlE2kh\nIiKHggEAKKWmA5ju1PmJiOKFUoCIveeI6Q5kIiKKDgYDIiJiMCAiIgYDIiICgwERUcyzfzEKBgMi\nophXXonXJiIiIpNKyxgMiIgoChgMiIiIwYCIKNapKHQhMxgQERGDARERMRgQEREYDIiIYp7A5iVL\nwWBARBTz2IFMRERRwWBAREQMBkRExGBARERgMCAiIjAYEBHFvBrVEm0/B4MBkeamczKdTgKRj4Jx\nQyDCeQZEUdOvTSOnk0DkmEofDFqk1XI6CRQn2jeu43QSiBxT6YNB47o1nE4CxYmkxEr/cyDyi99+\nIk1KEn8OVHXx22+AtYmqqVpiAq7s2sTUvj2zGticGqrKspvXi/o5GQx0Zj/UG9/dfS4m397DY/vN\n52Y6k6AwNa3PYGa3T2/rjoHtTvXZ3rHJKQ6khiqba7s3i/o5K30wSA6h6t8yvTY6NKmL1OpJHtuf\nvLid1cmiOCciOOd039pB/7bBRySd07Jy1CqqWod7xinVo3auy7qYq6FaqdIHg3GXn2W4/f2bz45y\nSmJfy/Ra+G1UH6eTYcoD/c6w5bihLBRcr2ayz7Zg48HrVE+KygSiaKhZLSn4TlEQSoEvEuMu7xDS\n/i9d3cmmlNij0geDhqm+0XzVvwbggjMb+n2Psn/p8KC+uvOcsN8b7EYYp9SoZri9Xs1kn/6SOtWj\n84OvW9M4Tf40a+C/Kcy7ZgfYU6ob2iHDZ1uwvxdHLNnj35e0xxvXd0WbDOtrK2/dmI1XrumMun5+\nN/4MOsu3GTGWVclvZs3k0C9w9/VtZUNK/OtqYwdSvZrVDEstRoXa+rV8S7926NostPwO7XAavvhH\nT5zZKNXnNaO5JT892NvUcZMSzM/0NKoFXNu9ecD3TPHqjyJrXN+jOQa2PxVTR54b1vsDDRzo37YR\n/tbxtHCTFlSPrPq2HTsUVSIYzDJ5IQikSb3IOmVHD2odcRq8JSVIyCVqt0s6N8bG5wZj5IUt8cIV\noVV/g7nj/CzD0nkgr17bGdPuPc/wtbsuaInnvZr7BMDZmfUNA5iR2im+6blO10k34douAIB/Dgzt\nc/I+bmKQYNLKIHgF0/rU0N8TioJxQ8J7oy6rRp3p0aL/i4fbZNS8QU1rEqO5Orspkk3WAjs2qevx\n/J4+p1uaFrOqRDAIobDnI1gQSKudYuo4d/RuaViKjUS3FpGVKEQEDw9ojWb1XT8Eq+6zOnpwG5yd\nGVraaiYnod1pxiNxOjWt6/c1vQ5+RvJcZKJTd4jW5FMvxJpQ3tMDTAf6QLUCf2kHgCtMDnf1p071\nJAxo5/s3GDO4DT66tVtEx3YzKpS0TA9v9r9RWq0Q6UivaiE08T1/RQeICG49r0Xwnb1+doPP8m1+\njIYqEQz0nhjaNug++tJFQpCi5+ND25g+d7ileAAVF2y9ge3DK439o3dLj+eN6rja089uYb6p5uxM\n1753XxidUoyZfhz7l/KKTPcAcxNCudAEYrTYXkKC4M0bsn2233Z+Fnq1SrfkvL3P8D2O2a63Vg1r\nezxvfWpk7f6Lx/RFr1ZpeM97kEiEi721yUjF038LbWShv/45vWjc7N6MKhEM9G27t5iI1LVSkjDx\nui4e2/x9sTNOqRG0mv39Pa7mjwnXdcGlnRsH3PfxoW3x8IAzfbYbbbuhh3H7dLDv/PBunmOYW6TV\nwpyHeuPB/r7n8Md9cY7CYopoe5rvxcFw1I6fxDzQP/KRR94XLKsFGh3l/XkF4i68NK1fA9d4ve8/\nV3YML3F+6P/agyIozfbwCpKRfqcaplbHR7d2x4UBBomEQ0QwwsTKtvrf5R29szBmcJuKSWSxPMvd\ntpSJyFMiUigiudq/wbrXRotIvoisEZEBdqUhEj4XoCDFnG4BmkXaN3ZVT9Nqp+CGnie/KCMvbOmz\n763ntcBIg9K20elFxLKRT1nptYO2dxvx9w5lUcIKxg1Bk3q+tSKj4/tLy+l+LuQi4Tdl6LmbmO41\nOcjAaL/U6klYMqaf4f61U5Jw1wW+35VAzm2Zhke8ChBXdG2CTIvbxo1U1DxtHpV3nQMTs8zQ19hT\nkhJx2/lZ+OS27sh9oj86Nq3rs/8lnY07p7+6s2dUh8DbHab+q5TqpP2bDgAi0hbAcADtAAwE8LqI\nxPzAaxXsmx1GaebhAa0DLmvw178GGjYPAcDfzbRFAvg2zNEVwRj9NUb0bI57ber8qpF88isy8sKW\nhkM0wylRzrj/fKx+ZqDha9d0a2rqGE3q1UTBuCF40GQNpGPTurjT4OKennqy/8mo2cUKVg69bFDb\nuH+lcQSDLdpm1PGp0fjzuIkmX3/Mdu5aJSUpEXVrJuPZS9v7vOY9+s39Pe7avH7AIfBWc6LOMgzA\nZKXUcaXURgD5AKzpxfLDaCRJMLW097iHeJ7v58cZaQm4UR3/HdA1khN9hjq2PjUVG54djMdM/hA6\nGZREwjWip0GzlO4K3K9tIzx4kbmmpv/dbTxyyB996f7hAcYdtuG0LlRLTEB1P5PAOuuGu0ajOUzv\n7RGebfw3nZtpyczl8VcFbyry7sxumOr5HXUP33zI5Gcdiun39arow7LT0I6ezVrRmlt0esNUnzkv\n1RISojq72R+7g8E9IvKniLwrIu5fVmMAW3T7bNW22SY91fiC66/5AHA16fxwXy88d5lrSGPGKdas\n93OitDyk/ccMaYMGtZJxfqs0pNVOwaOD2yDBT3POezd5VimHGLTjRjJfQt9Of4Y2MspMB9mwTqeh\nnlfn+Vm6C47ZEVmhpM9je5jH6+/gzW68By40TK2OT2/rgV8fvhAvD3fNEUmrnVzRke8WLGiZmWPz\n6GDXoIistFpY/cxAn9EtHZvWRcG4IWiZHrgfxez1dbhWA5v78AUV2wL9NsNVO0UX9LXEvXhFB+SP\nHWT5uUKRkCBYMLpvxfOsNHv7p/ymI5I3i8gsEckz+DcMwEQAWQA6AdgOYHwYx79dRHJEJKeoqCiS\npOKlqzv5TCzRT1A5q7HvsLM2GXU8So3ntGzgt9P2IZNNBEmJrl9r52bmSux92zTC0sf7o27NZOQ8\n1s9vDQUAMrXqpsDV1j7BqxP8jt5ZuL+f+WBwb99WPoHn1Ws64x+9W+LJi9ti8u09PH60Z+rGw4+9\n9OS8gOu6N8d5AUatzLi/l+k0edO3zxpdB6ff2yvsWb/6YabBLnxW89d906xBTZzTMs3WcycnJSD3\nif6Ydm8vv7Umq3Rp5ho2XDBuCJo3ONlcMvn2Hvj41u4B3+sOfGZXGe6i1fTu6J1VEagSRML+fniP\nyjNrQJA5GdFaXsNbRGdVSvVTSrU3+DdVKbVTKVWmlCoH8BZONgUVAtA3xjbRthkdf5JSKlsplZ2e\nHlkb6iWdG+NFr9EUtXTNR31aB2+b+/S2HnjiYuPmme5ZDQyXkPCtlVjb3mCmmeqbu87BG9d3xehB\nbUK6l+qD/c/AOyPORrXEk++5uONpGDWoNapXS/QZBaJf+uO0ujU8Sq3+gihgvmbw8vBO+O5uzz6Q\ne/ucDG5GIz2MRiK5hTKkz/u7Y7dw73lrRXOHAKhbM9mjnyba0mqn4LxW/oPemY1SkZKUiAnXdsFn\nIc7qrqWrHUXS/BfqxEq3x4a0ceyCH4ido4n0dctLAeRpj78DMFxEUkSkBYBWABbblQ6zjDr0QmX0\nxXruUuOF8qzi/sEG+nJ1blYv7DkJLdJqYfQg/3Mp3MGol8EPV39h6taivqmZrlkBblM6rFNjdPCa\nramvufjrbLdCOP1OgP8Jb+1NTKLzx/09i3YnqFlttBpioCVVjNZ1MmvRo33x9V2ugteQDhmm+hi8\nF2B0f1caRNBEGW5/YVJiAtItahq1kp2rkL0gIp3gap0rAHAHACilVorI5wBWASgFMFIpVWZjOgKa\n98iFqFO9mm3V4WpBSgDhlgDd2p12CnYe3IUXQlxR0WqB8qF/qW1GHazaftDvvrWjtDBeNKz99yAk\nJQiyHp3u89qQDhlod9oFuHfycvy59UBIx21QKxkP9DsDF3fMwD+/+tOq5AJwDbUNd9LXgtF9kJKU\niPq1krHo0b5Yt/MQvly61XDfm87JxPd/bg/p+BOv64LDJWVhdTDrm5KUci350KlpXdtGbcUj2355\nSqkbArw2FsBYu84diqY2liYB+2fFuksnqdWTLBvbb6cpd/TA7kMlpvZtYNMief8a1g5PTF1py7H1\ngjUFZBrUgu7pczpKggwyEBHcF0LfTyhmP3RB2O/VD7JoVKc61u085HffcMpAkUxsAzx/i0mJCbjQ\nRNNwNC1+tG/wnWwUm/XMGJYY7TGGJumTFWltw1ugEBNq+EmtXs1wVVEjowebX+rDW6w2oQTz0EVn\nRpRvPXdXWsm2AAALoklEQVRt16j0a3YsPwCcGuawR/fcHO81uYyaFJ0WTjEqkrLX3QbzcRrWqY6G\nURhW60/lqZNHSUKCoGDcEGSOmubzWqQF83A6ldzvsToAGAl0ilgLkcuf6I8yPx/IsI6N8f2f2y3p\nJ4qUe4lwq9Ym0quRnIh5j1yIhl5zWTY8OzikkvltvbLQtF5NjPx0WVjpSE9NQfGxE9h24BgAz4lv\nsVaXvafP6Xh1Tr7t57mmWzP0zGqAlGqxU2hhMIiQ0UW4c7O6qJWchPn5u00f56rsJrgvjLt3jb30\nLLRIq43zW6Vj057DIb8/Uu7x8PoRR1Y5NYJSUq0AHb6n1KyGz+/oGfaxrfTfqzphet72gKOeImHU\nDOpvnoo/iQmCIR0yMPJTq1IFhFp8MLPyrFlBVxMwfRxjZudIGDUTOonBwGZmS2A9shqYHi+tl1Y7\nBaO0JZTtKmUF6os47/Q03H5+Fv7ey9zyGGaNGdwm4NBCO828/3xsP3A0KueqVysZ1wW5IU688ve1\nCWfU16QbfVddtdvSx/qFvF5X2PeGiAEMBpWQXU02RuPyExOkYsaqlcK5V0PrjFR0b1EfY4ZElp4z\nT031mEDnpHAWDwzHwtF9KyZEWk1fIBp/ZUdc1qUxlm3eb8u5vDWtXwNb9noGdrPzSyIZdhqPGAxs\n4r4pTrDx6Vd0bYJvlhciu3ls3PrOiHtsf7cQ7ncQTU9d3BaZabWQkpSIKVFo/mla35qlSYL579Ud\nfeZV2CXcTuJQ9WjZICr9W24/3t8bJWWhLQFjVhwM3gsJg4FNnry4HXqfke6x2BkAtG9cB73PSK+4\nveK5p6fFfNWyW4v6WPpYv5gtKd10rrVNVME0qRtaM0dqShKKj5eGfJ5LO0d2hzOnGV0roz38uUZy\nImog5hdFjgkMBjapkZxoOC46JSkRH9xi6yKttrAjEPRp3RDlla14ZeC30X1w/IQ9pdNxl3fA//24\nFnnbDmDTniO2nMMK0awNBGNVB3JlEzvjmioB912M6ppYydMOqVqTlNENNGLRuzedjfdvjr/AGKo6\n1av5XTk3Ui3Ta2PCdV0qhqb2a9sQabVTTN3Rr8oJEJDCKZO4g0rrGOlfihRrBhZqd1odPP23dvhb\nR+M7F9mtYZ3q+P6e82xZ/jccLH9FX3rtFOQ8ZnzHtGhzrwR8W68sjP56RVjHEIlu23w49ZeL2p2K\n1TuKLU9LtDEYhKlhagp2FR/32Gb2Hql2am+wFLfTYqeBIDL1albDviMnbF0QL9a1b2x+PkT9WskR\n94ctHN0Xew+bW74k2ipbCyeDQZiaN6jpEwwott3fr1VESyHc0KM5XpmTj4y6zt+Vyls0Oman3Xue\n4f2ow+G+9/StQZqzGtWpbvmdz6z+U1WWwg6DAVUZ94cxw7tT07rI3eIaEz/orAy8Mic/6M1JnGRn\nP227CJbd9la3ZuS1Brsse7y/00lwBIMBUQAf3toNhftck5baZNSJ2QsYBWc2TtY3uVquvoLRvEFN\nn3tFxxsGA4opN/bMxP/74o+YaZevU70a6mQ4MzqM4oMIMPfhC51ORsQ4tJRiyhVdm6Bg3BCP+w/H\nm9vPzzK8BWpV9ujgNqiZnGjbENtIce4BgwGR5R4d3CbgLR+roiEdMrDqXwORkuT8bOCAl/0QOl3O\nbem6B/g5LWPv/gzhYDAgH7yQUWVkded696wGyB87KKxFFWMR+wzIx/s3n43C/dFZwpkoniXF6R31\njDAYkI/U6tXQ+lR2mhJVJZUnrBERUdgYDIioSujb2nXrzH5tGkZ0nO/vOQ+TbuhqRZJiCoMB2eae\nPqdDBDijkqzqSPHtrCanoGDcEMMbBvVrYz5QtG98Ci6K4Vno4WKfAdnmgjMbYuNznLFLsa9941Oq\n/Oxy1gyIiIjBgKgyePOGrrimWzNkpcXGvSwo/rCZiKgSOL1hKp677Cynk0FxjDUDIiJiMCAiIgaD\nsF3auQkA1zrmRETxjn0GYbqmW1MMP7spEhIqy03viKgqYzAIk4jYeotBIqJoYjMRERExGBAREYMB\nERGBfQZEFIGv7jwH63YWO50MskBENQMRuVJEVopIuYhke702WkTyRWSNiAzQbe8qIiu0114RYTcs\nUbzq2rwehndr5nQyyAKRNhPlAbgMwK/6jSLSFsBwAO0ADATwuoi474Q9EcBtAFpp/wZGmAYiIopQ\nRMFAKfWXUmqNwUvDAExWSh1XSm0EkA+gm4hkAKijlFqolFIAPgRwSSRpICKiyNnVgdwYwBbd863a\ntsbaY+/tRETkoKAdyCIyC4DRbX3GKKWmWp8kj3PfDuB2AGjWjO2SRER2CRoMlFL9wjhuIYCmuudN\ntG2F2mPv7f7OPQnAJADIzs5WYaSDiIhMsKuZ6DsAw0UkRURawNVRvFgptR3AQRHpoY0iuhGArbUL\nIiIKLtKhpZeKyFYAPQFME5GZAKCUWgngcwCrAMwAMFIpVaa97S4Ab8PVqbwewA+RpIGIiCInrkE9\nsS87O1vl5OQ4nQwiorgiIkuVUtlB94uXYCAiRQA2hfn2NAC7LUyOkypLXipLPgDmJVZVlrxEmo/m\nSqn0YDvFTTCIhIjkmImM8aCy5KWy5ANgXmJVZclLtPLBheqIiIjBgIiIqk4wmOR0AixUWfJSWfIB\nMC+xqrLkJSr5qBJ9BkREFFhVqRkQEVEAlToYiMhA7X4K+SIyyun0uInIuyKyS0TydNvqi8hPIrJO\n+7+e7rWQ7g2hzfyeom1fJCKZNuWjqYj8LCKrtPta3BfHeakuIotF5A8tL0/Ha160cyWKyHIR+T7O\n81GgpSFXRHLiPC91ReRLEVktIn+JSM+YyotSqlL+A5AI1wznLADJAP4A0NbpdGlpOx9AFwB5um0v\nABilPR4F4HntcVst7SkAWmh5StReWwygBwCBayb3IG37XQDe0B4PBzDFpnxkAOiiPU4FsFZLbzzm\nRQDU1h5XA7BIS0/c5UU7/oMAPgXwfbx+v7TjFwBI89oWr3n5AMDftcfJAOrGUl5syXQs/INriYyZ\nuuejAYx2Ol269GTCMxisAZChPc4AsMYo3QBmannLALBat/0aAG/q99EeJ8E1YUWikKepAPrHe14A\n1ASwDED3eMwLXAtAzgbQByeDQdzlQzt+AXyDQdzlBcApADZ6HzuW8lKZm4n83VMhVjVSroX8AGAH\ngEba43DuDVHxHqVUKYADABrYk2wXrUraGa4SdVzmRWtayQWwC8BPSql4zctLAB4BUK7bFo/5AAAF\nYJaILBXXkvZAfOalBYAiAO9pzXdvi0itWMpLZQ4GcUu5QnvcDPMSkdoAvgJwv1LqoP61eMqLUqpM\nKdUJrpJ1NxFp7/V6zOdFRIYC2KWUWupvn3jIh8552mcyCMBIETlf/2Ic5SUJrqbhiUqpzgAOw9Us\nVMHpvFTmYODvngqxaqe4bgsK7f9d2vZw7g1R8R4RSYKrirrHjkSLSDW4AsEnSqmvtc1xmRc3pdR+\nAD/DdX/ueMvLuQD+JiIFACYD6CMiH8dhPgAASqlC7f9dAL4B0C1O87IVwFattgkAX8IVHGImL5U5\nGCwB0EpEWohIMlwdKt85nKZAvgMwQns8Aifv8xDOvSH0x7oCwByt1GEp7bzvAPhLKfV/cZ6XdBGp\nqz2uAVffx+p4y4tSarRSqolSKhOu7/wcpdT18ZYPABCRWiKS6n4M4CIAefGYF6XUDgBbRORMbVNf\nuJb4j528WN1REkv/AAyGa4TLerhu0+l4mrR0fQZgO4ATcJUYboWrbW82gHUAZgGor9t/jJaHNdBG\nDmjbs+H6cawH8BpOTiKsDuALuO4ZsRhAlk35OA+uau2fAHK1f4PjNC8dACzX8pIH4Alte9zlRZeO\nC3CyAznu8gHXSMA/tH8r3b/heMyLdq5OAHK079i3AOrFUl44A5mIiCp1MxEREZnEYEBERAwGRETE\nYEBERGAwICIiMBgQEREYDIiICAwGREQE4P8DCNI+nejl7ZMAAAAASUVORK5CYII=\n",
      "text/plain": [
       "<matplotlib.figure.Figure at 0x17aa6b3d0>"
>>>>>>> 8b0747d3d30698f4aef1b4a378384d18273d3383
      ]
     },
     "metadata": {},
     "output_type": "display_data"
    }
   ],
   "source": [
    "%matplotlib inline\n",
    "import matplotlib.pyplot as plt\n",
    "x = range(len(errors))\n",
    "y = errors\n",
<<<<<<< HEAD
    "plt.plot(x, y)"
   ]
  },
  {
   "cell_type": "code",
   "execution_count": 8,
   "metadata": {
    "collapsed": false
   },
   "outputs": [
    {
     "name": "stdout",
     "output_type": "stream",
     "text": [
      "-94.4926036046\n",
      "124.849977364\n"
     ]
    }
   ],
   "source": [
=======
    "plt.plot(x, y)\n",
>>>>>>> 8b0747d3d30698f4aef1b4a378384d18273d3383
    "print min(errors)\n",
    "print max(errors)"
   ]
  },
  {
   "cell_type": "markdown",
   "metadata": {},
   "source": [
    "2.Add the taxnomy biases\n",
    "====="
   ]
  },
  {
   "cell_type": "code",
<<<<<<< HEAD
   "execution_count": 9,
=======
   "execution_count": 21,
>>>>>>> 8b0747d3d30698f4aef1b4a378384d18273d3383
   "metadata": {
    "collapsed": false
   },
   "outputs": [
    {
     "name": "stdout",
     "output_type": "stream",
     "text": [
      "the length of track list is:507172\n",
      "the length of artistList is:27888\n",
      "the length of albumList is:88909\n",
      "the length of genreList is:992\n"
     ]
    }
   ],
   "source": [
    "#===============================================taxonomy method\n",
    "#read the 4 type's all ID\n",
    "def readIDData(filename):\n",
    "\tlist = []\n",
    "\twith open(filename, 'r') as f:\n",
    "\t\tfor line in f:\n",
    "\t\t\tlist.append(line[:-1])#eliminate the newline character\n",
    "\treturn list\n",
    "#use add taxonomy bias\n",
    "trackList = readIDData('data_preprocess/track_out_idOnly.txt')\n",
    "artistList = readIDData('data_preprocess/artistData1.txt')\n",
    "albumList = readIDData('data_preprocess/album_out_idOnly.txt')\n",
    "genreList = readIDData('data_preprocess/genreData1.txt')\n",
    "\n",
    "print('the length of track list is:' + str(len(trackList)))\n",
    "print('the length of artistList is:' + str(len(artistList)))\n",
    "print('the length of albumList is:' + str(len(albumList)))\n",
    "print('the length of genreList is:' + str(len(genreList)))\n",
    "#print(len(genreList[0]))"
   ]
  },
  {
   "cell_type": "code",
<<<<<<< HEAD
   "execution_count": 10,
=======
   "execution_count": 22,
>>>>>>> 8b0747d3d30698f4aef1b4a378384d18273d3383
   "metadata": {
    "collapsed": false
   },
   "outputs": [
    {
     "name": "stdout",
     "output_type": "stream",
     "text": [
      "the size of trackBiases is: 507172\n",
      "the size of albumBiases is: 88909\n",
      "the size of artistBiases is: 27888\n",
      "the size of genreBiases is: 992\n"
     ]
    }
   ],
   "source": [
    "##\n",
    "#  extract the items biases with different types from the partial trainData\n",
    "##\n",
    "#extract the track bias\n",
    "trackBiases = {}\n",
    "for itemID in trackList:\n",
    "\tif itemID in trainReviews:\n",
    "\t\tsumRating = 0\n",
    "\t\tnumRating = 0\n",
    "\t\tfor rating in trainReviews[itemID]:\n",
    "\t\t\tsumRating += float(rating['rating'])\n",
    "\t\t\tnumRating += 1\n",
    "\t\ttrackBiases[itemID] = float(sumRating) / float(numRating) - aveRate\n",
    "\telse:\n",
    "\t\ttrackBiases[itemID] = 0\n",
    "print('the size of trackBiases is: ' + str(len(trackBiases)))\n",
    "\n",
    "#extract the album bias\n",
    "albumBiases = {}\n",
    "for itemID in albumList:\n",
    "\tif itemID in trainReviews:\n",
    "\t\tsumRating = 0\n",
    "\t\tnumRating = 0\n",
    "\t\tfor rating in trainReviews[itemID]:\n",
    "\t\t\tsumRating += float(rating['rating'])\n",
    "\t\t\tnumRating += 1\n",
    "\t\talbumBiases[itemID] = float(sumRating) / float(numRating) - aveRate\n",
    "\telse:\n",
    "\t\talbumBiases[itemID] = 0\n",
    "print('the size of albumBiases is: ' + str(len(albumBiases)))\n",
    "\n",
    "#extract the artist bias\n",
    "artistBiases = {}\n",
    "for itemID in artistList:\n",
    "\tif itemID in trainReviews:\n",
    "\t\tsumRating = 0\n",
    "\t\tnumRating = 0\n",
    "\t\tfor rating in trainReviews[itemID]:\n",
    "\t\t\tsumRating += float(rating['rating'])\n",
    "\t\t\tnumRating += 1\n",
    "\t\tartistBiases[itemID] = float(sumRating) / float(numRating) - aveRate\n",
    "\telse:\n",
    "\t\tartistBiases[itemID] = 0\n",
    "print('the size of artistBiases is: ' + str(len(artistBiases)))\n",
    "\n",
    "#extract the genre bias\n",
    "genreBiases = {}\n",
    "for itemID in genreList:\n",
    "\tif itemID in trainReviews:\n",
    "\t\tsumRating = 0\n",
    "\t\tnumRating = 0\n",
    "\t\tfor rating in trainReviews[itemID]:\n",
    "\t\t\tsumRating += float(rating['rating'])\n",
    "\t\t\tnumRating += 1\n",
    "\t\tgenreBiases[itemID] = float(sumRating) / float(numRating) - aveRate\n",
    "\telse:\n",
    "\t\tgenreBiases[itemID] = 0\n",
    "print('the size of genreBiases is: ' + str(len(genreBiases)))"
   ]
  },
  {
   "cell_type": "code",
<<<<<<< HEAD
   "execution_count": 11,
=======
   "execution_count": 23,
>>>>>>> 8b0747d3d30698f4aef1b4a378384d18273d3383
   "metadata": {
    "collapsed": false
   },
   "outputs": [
    {
     "name": "stdout",
     "output_type": "stream",
     "text": [
      "the size of track is: 507172\n",
      "{u'trackID': u'0', u'artistID': u'587636', u'genreList': [u'349388', u'159199', u'303996', u'378770'], u'albumID': u'224058'}\n"
     ]
    }
   ],
   "source": [
    "#read the tracks\n",
    "trackDatas = []\n",
    "readData('data_preprocess/trackOut.json', trackDatas)\n",
    "print('the size of track is: ' + str(len(trackDatas)))\n",
    "print(trackDatas[0])"
   ]
  },
  {
   "cell_type": "code",
<<<<<<< HEAD
   "execution_count": 12,
=======
   "execution_count": 24,
>>>>>>> 8b0747d3d30698f4aef1b4a378384d18273d3383
   "metadata": {
    "collapsed": false
   },
   "outputs": [
    {
     "name": "stdout",
     "output_type": "stream",
     "text": [
      "the number of tracks is: 507172\n",
      "{u'trackID': u'0', u'artistID': u'587636', u'genreList': [u'349388', u'159199', u'303996', u'378770'], u'albumID': u'224058'}\n"
     ]
    }
   ],
   "source": [
    "#construct the dict by trackID\n",
    "trackDict = {}\n",
    "for track in trackDatas:\n",
    "    trackDict[track['trackID']] = track\n",
    "print('the number of tracks is: ' + str(len(trackDict)))\n",
    "print(trackDict['0'])"
   ]
  },
  {
   "cell_type": "code",
<<<<<<< HEAD
   "execution_count": 13,
=======
   "execution_count": 25,
>>>>>>> 8b0747d3d30698f4aef1b4a378384d18273d3383
   "metadata": {
    "collapsed": false
   },
   "outputs": [],
   "source": [
    "#expand the track bias\n",
    "def getTaxTrackBias(itemID):\n",
    "    if itemID in trackBiases:#should check this, since not all track in this partial train data\n",
    "        bi = trackBiases[itemID]\n",
    "    else:\n",
    "        return 0\n",
    "    \n",
    "    genreRateSum = 0\n",
    "    genreNum = 0\n",
    "    biGenre = 0\n",
    "    biAlbum = 0\n",
    "    biArtist = 0\n",
    "    \n",
    "    track = trackDict[itemID]\n",
    "    if track[\"albumID\"] in albumBiases:\n",
    "        #assume that the track only belong to exactly one album\n",
    "        biAlbum = albumBiases[track[\"albumID\"]]\n",
    "            \n",
    "    if track['artistID'] in artistBiases:\n",
    "        #assume that the track only belong to exactly one artist\n",
    "        biArtist = artistBiases[track[\"artistID\"]]\n",
    "            \n",
    "    for genreID in track['genreList']:\n",
    "        if genreID in genreBiases:\n",
    "            genreRateSum += genreBiases[genreID]\n",
    "            genreNum += 1\n",
    "        if genreNum != 0:\n",
    "            biGenre = float(genreRateSum) / float(genreNum)\n",
    "        \n",
    "    taxTrackBias = bi + biAlbum + biArtist + biGenre\n",
    "\n",
    "    return taxTrackBias"
   ]
  },
  {
   "cell_type": "code",
<<<<<<< HEAD
   "execution_count": 14,
=======
   "execution_count": 26,
>>>>>>> 8b0747d3d30698f4aef1b4a378384d18273d3383
   "metadata": {
    "collapsed": false
   },
   "outputs": [
    {
     "name": "stdout",
     "output_type": "stream",
     "text": [
      "the size of track tax biases is: 225515\n"
     ]
    }
   ],
   "source": [
    "#pre-build the trackTaxBiases\n",
    "trackTaxBiases = {}\n",
    "for itemID in trainReviews:\n",
    "    if itemID in trackBiases:\n",
    "        trackTaxBiases[itemID] = getTaxTrackBias(itemID)\n",
    "print('the size of track tax biases is: ' + str(len(trackTaxBiases)))\n",
    "# print(trackTaxBiases['0'])"
   ]
  },
  {
   "cell_type": "code",
<<<<<<< HEAD
   "execution_count": 15,
=======
   "execution_count": 27,
>>>>>>> 8b0747d3d30698f4aef1b4a378384d18273d3383
   "metadata": {
    "collapsed": false
   },
   "outputs": [
    {
     "name": "stdout",
     "output_type": "stream",
     "text": [
      "the size of album is: 88909\n",
      "{u'albumID': u'9', u'artistID': u'7863', u'genreList': [u'600770', u'584872', u'247563']}\n"
     ]
    }
   ],
   "source": [
    "#read the albums \n",
    "albumDatas = []\n",
    "readData('data_preprocess/albumOut.json', albumDatas)\n",
    "print('the size of album is: ' + str(len(albumDatas)))\n",
    "print(albumDatas[0])"
   ]
  },
  {
   "cell_type": "code",
<<<<<<< HEAD
   "execution_count": 16,
=======
   "execution_count": 28,
>>>>>>> 8b0747d3d30698f4aef1b4a378384d18273d3383
   "metadata": {
    "collapsed": false
   },
   "outputs": [
    {
     "name": "stdout",
     "output_type": "stream",
     "text": [
      "the number of albums is: 88909\n",
      "{u'albumID': u'9', u'artistID': u'7863', u'genreList': [u'600770', u'584872', u'247563']}\n"
     ]
    }
   ],
   "source": [
    "#construct the dict by albumID\n",
    "albumDict = {}\n",
    "for album in albumDatas:\n",
    "    albumDict[album['albumID']] = album\n",
    "print('the number of albums is: ' + str(len(albumDict)))\n",
    "print(albumDict['9'])"
   ]
  },
  {
   "cell_type": "code",
<<<<<<< HEAD
   "execution_count": 17,
=======
   "execution_count": 29,
>>>>>>> 8b0747d3d30698f4aef1b4a378384d18273d3383
   "metadata": {
    "collapsed": false
   },
   "outputs": [],
   "source": [
    "#expand the album bias\n",
    "def getTaxAlbumBias(itemID):\n",
    "    if itemID in albumBiases:#should check this, since not all album in this partial data\n",
    "\t\tbi = albumBiases[itemID]\n",
    "    else:\n",
    "\t\treturn 0\n",
    "    \n",
    "    genreRateSum = 0\n",
    "    genreNum = 0\n",
    "    biGenre = 0\n",
    "    biArtist = 0\n",
    "    \n",
    "    album = albumDict[itemID]\n",
    "    if album['artistID'] in artistBiases:\n",
    "        #assume that the album only belong to exactly one artist\n",
    "        biArtist = artistBiases[album[\"artistID\"]]\n",
    "            \n",
    "    for genreID in album['genreList']:\n",
    "        if genreID in genreBiases:\n",
    "            genreRateSum += genreBiases[genreID]\n",
    "            genreNum += 1\n",
    "        if genreNum != 0:\n",
    "            biGenre = float(genreRateSum) / float(genreNum)\n",
    "    \n",
    "    taxAlbumBias = bi + biArtist + biGenre\n",
    "    return taxAlbumBias"
   ]
  },
  {
   "cell_type": "code",
<<<<<<< HEAD
   "execution_count": 18,
=======
   "execution_count": 30,
>>>>>>> 8b0747d3d30698f4aef1b4a378384d18273d3383
   "metadata": {
    "collapsed": false
   },
   "outputs": [
    {
     "name": "stdout",
     "output_type": "stream",
     "text": [
      "the size of album tax biases is: 53033\n",
      "-2.10935849503\n"
     ]
    }
   ],
   "source": [
    "#pre-build the albumTaxBiases\n",
    "albumTaxBiases = {}\n",
    "for itemID in trainReviews:\n",
    "    if itemID in albumBiases:\n",
    "        albumTaxBiases[itemID] = getTaxAlbumBias(itemID)\n",
    "print('the size of album tax biases is: ' + str(len(albumTaxBiases)))\n",
    "print(albumTaxBiases['9'])"
   ]
  },
  {
   "cell_type": "code",
<<<<<<< HEAD
   "execution_count": 19,
=======
   "execution_count": 31,
>>>>>>> 8b0747d3d30698f4aef1b4a378384d18273d3383
   "metadata": {
    "collapsed": false
   },
   "outputs": [
    {
     "name": "stdout",
     "output_type": "stream",
     "text": [
<<<<<<< HEAD
      "2.9171878218\n",
      "6.27330452852\n",
      "80.4688102407\n",
      "90.0\n",
=======
>>>>>>> 8b0747d3d30698f4aef1b4a378384d18273d3383
      "the item taxonomy model RMSE is: 34.4441071989\n",
      "the number of views in test data is: 59988\n"
     ]
    }
   ],
   "source": [
    "#check the taxonomy bias model RMSE\n",
    "errors = []\n",
    "count = 0\n",
    "squareSum = 0\n",
    "for review in testDatas:\n",
    "    userID = review['userID']\n",
    "    if userID not in userBiases:\n",
    "        continue\n",
    "    for rating in review['ratings']:\n",
    "        itemID = rating['itemID']\n",
    "        realRating = float(rating['rating'])\n",
    "        count += 1\n",
    "        if itemID in itemBiases:\n",
    "            if itemID in trackBiases:\n",
    "                curItemBias = trackTaxBiases[itemID]              \n",
    "            elif itemID in albumBiases:\n",
    "                curItemBias = albumTaxBiases[itemID]               \n",
    "            else:\n",
    "                curItemBias = itemBiases[itemID]\n",
    "        #if the current item does not exist in train data, the bias is zero\n",
    "        else:\n",
    "            curItemBias = 0\n",
    "        curUserBias = userBiases[userID]\n",
    "            \n",
    "        squareSum += (aveRate + curItemBias + curUserBias - realRating) ** 2\n",
    "        errors.append(aveRate + curItemBias + curUserBias - realRating)\n",
<<<<<<< HEAD
    "        if count == 24356 + 1:\n",
    "#             print (len(errors))\n",
    "#             print errors[24356]\n",
    "            print curItemBias\n",
    "            print curUserBias\n",
    "            print aveRate + curItemBias + curUserBias\n",
    "            print realRating\n",
=======
    "\n",
>>>>>>> 8b0747d3d30698f4aef1b4a378384d18273d3383
    "RMSE = sqrt(squareSum / float(count))\n",
    "print('the item taxonomy model RMSE is: ' + str(RMSE))\n",
    "print('the number of views in test data is: ' + str(count))"
   ]
  },
  {
   "cell_type": "code",
<<<<<<< HEAD
   "execution_count": 20,
=======
   "execution_count": 32,
>>>>>>> 8b0747d3d30698f4aef1b4a378384d18273d3383
   "metadata": {
    "collapsed": false
   },
   "outputs": [
    {
<<<<<<< HEAD
     "data": {
      "text/plain": [
       "[<matplotlib.lines.Line2D at 0x17114b5d0>]"
      ]
     },
     "execution_count": 20,
     "metadata": {},
     "output_type": "execute_result"
    },
    {
     "data": {
      "image/png": "iVBORw0KGgoAAAANSUhEUgAAAiYAAAFkCAYAAAAUtvC8AAAABHNCSVQICAgIfAhkiAAAAAlwSFlz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\nRU5ErkJggg==\n",
      "text/plain": [
       "<matplotlib.figure.Figure at 0x1710f5450>"
=======
     "name": "stdout",
     "output_type": "stream",
     "text": [
      "-145.106025185\n",
      "150.946114448\n"
     ]
    },
    {
     "data": {
      "image/png": "iVBORw0KGgoAAAANSUhEUgAAAYMAAAD8CAYAAACVZ8iyAAAABHNCSVQICAgIfAhkiAAAAAlwSFlz\nAAALEgAACxIB0t1+/AAAIABJREFUeJzt3Xd8FGX+B/DPl4TQO6EHQwkdaZEiIiAqIKcgJwr+VPRU\nPMWuaLB7CnLn6Xl2kQP1LFg50VAUREGkhd6REpqUSJcWkjy/P3Y22ezO7s7MzmR2s5/368WLzezs\n7DO7s/N9+iNKKRARUXwr43YCiIjIfQwGRETEYEBERAwGREQEBgMiIgKDARERgcGAiIjAYEBERGAw\nICIiAIluJ8Co2rVrq9TUVLeTQUQUU5YvX/67Uio53H4xEwxSU1ORlZXldjKIiGKKiOw0sh+riYiI\niMGAiIgYDIiICAwGREQEBgMiIoJNwUBEJovIQRFZ57PtGRHZKyKrtH9X+Dw3VkS2ishmEelvRxqI\niMg6u0oG7wEYoLP9X0qpjtq/GQAgIm0ADAfQVnvNmyKSYFM6iIjIAluCgVJqPoDDBncfDGCqUuqs\nUmoHgK0AutqRDrLPrkOnsODXHLeTQUQlxOk2g3tEZI1WjVRD29YQwG6fffZo2yiKXPziPNz4n6Vu\nJ4OISoiTweAtAE0BdASwD8BLZg8gIqNEJEtEsnJymEslInKKY8FAKXVAKZWvlCoA8C6KqoL2Akjx\n2bWRtk3vGBOVUulKqfTk5LBTaxARkUWOBQMRqe/z59UAvD2NpgMYLiLlRKQJgDQArI8gInKRLRPV\nicgnAPoAqC0iewA8DaCPiHQEoABkA7gDAJRS60XkMwAbAOQBGK2UyrcjHUREZI0twUApNUJn839C\n7D8OwDg73puISs6p3DyUS0xAQhlxOylks7gagXzt24vwxfI9bieDKGa1eWo2xny+2u1kkAPiKhgs\nzT6Mh3khE0Xkq5W6/T0oxsVVMKDQNu0/jty8AreTYdmRk7l4+PPVOJWb53ZSKIqcys3DwRNn3E5G\n1GMwIADA7sOnMOCVBXju2w0l+r7Zv5+0baTzK3O24Ivle/Dpst3hd6a4cfUbv6DruLluJyPqMRgQ\nAODoqXMAgJW7j1h6/dm8fIz9ag1+/+Osqdf1+eePto90ZtMm+dp84ITbSYgJDAZkixlr9+GTpbsx\nLnOj20kp1c6cy8feo6cdO/7hk7lYtO2QLcfaf+wMer84D7sPnzK0/9yNB1id4yIGAzLtt6OnMX7G\nRhQUqMJtSoV4Adnmzg+Xo+eEHxw7/oiJizHi3cW2HOvLFXuw89ApfLx0V9h9CwoUbn0/C8Pfsee9\nyby4DAY3TV6KTfuPu52MmHX/1FWYOH87Vu056nZSisk+5MmBlua4NG+zs3N0uVWl4v3Osg+ddOX9\nI/H1qr1YuPV3t5MRsbgMBvO35ODJ/60L2D5z7T58uix8LibenSvw9DiKptLA4ZO5+GkLJzOkknff\n1FX4v0lLCv9WSuG1ub/i4PHYqvKKy2AQzJ0frcCjX651Oxkx45YpRQ2/bgeGE2fOuZuAUkaV8Bdq\n5/st2nYIczcesO14Zq3bexwvfb8F901d5VoarGAwsNGWAyeQmpGJ7Tl/uJ2UEnH8TGB/fvbkoUiI\nRH4FjXh3MW59P8uG1FiTp5WcT52LrSnXGAxsNE0bmTlz3X6XU1J6HfrjLPq8OA/bQgRct0sp8U4p\nhQMxVkUSSn6BQn5B6b+o4jYYOHHDmK0FgeOng1dZ/HE2D3M2uFeEDSfab6Sz1u9H9qFTmLRgh23H\n3H/sDFIzMktFI2A0+GDRTnQbPxeb95eO/v3tn5mNHi/MRV5+AVbvjq5OE3aK22Dgb+2eY2H3Gfjv\nBWj39Oygz2//3dMTIlSu9eHPVuO2D7KQ/Xt09ZqwoXQes5bv9Ay0+2jJTtfSsHHfcaRmZGJVlNxs\nwmUKuo6bg9O5+tUg3qC606dnUNunZuHVub8Gfz+dbdm/n8S0lc5OLPnTlhykZmTi8MncYtsPn8zF\nGq233KncfBw8cRavzPkVg99YiHV7Q98rzOanlmw/hAGvzMcZl6uVGAwArNx1BFe+/nPQ58/lF2D5\nziPYuO84/jhrft6bIydz8Yv2A/F2nTsV5IdUUmat24+nv15X7O9IRHmBwrJN+4/jiN+Nwgk/bDoI\nAJi9PjaqGA+eOBsy0+PvZG4+Xv5+S9j9fPMkA/+9AA98at/EklMW7sDZvOK/u3fnbwcArP+t+A1+\n8Bs/46rXFxbb5t3H6MA4o/mrp75ej037T7jerZbBAJ5qglAmzNyEP7/1i+Xjj5yyFNdPWlLsQoy0\nSiI3r8D01A++/vrhcry/yJMTXrvnGF6ftxWAJ/BFxKUShvi8sZnA9HnW7pCf44BXFuBPrwXPKJg1\nfsZGPDN9vW3HKynn8gswb/NBQ/vuMjjiWI8CsPWgpyPG6SA55YICZek6ffabDXhj3jZD++4+7Nwo\n72gVt8HAzA1j477QA9Ry8wrwWogisLfuVCmgQCt/j5vhmbZh56GTlvojP/DpKqQ/P8f06/ScOFvU\nxrHlQHz0hAKAfcdOY8wXa/B0mJuzndM/TJy/He/9kh12v7N5+QFVF2b554LN8P99/HvOr7hlyjLd\nfVMzMvHSd5sL/95koq1g0/7jGPDKfPzh0zMtXHvQXR+tQNrjMwv/zssvwJwNBwx1Tw3VnhdOpKXf\nrOzDQavWokHcBgM7fbxkJ14qVgQOnj32v9n2fvFHdB3vmVHx+JlzSM3IxLC3fwl7YWeu3Wc5vWbs\nO2ZvDikvvwCpGZlIzcgMKJqbU/zz2RAmYJ/KzQv4TPPyi/9dko3n936yMuTzN09ehs7PfW/5+Jlr\n9qHlE7Nsa8TdGSa3/9oPWwM3GmiIevm7Ldi0/wQWbvOUlPMLFKaGmXV2ll9V2ms/bMVtH2ThRxOj\ns0+ezcOUhTugfK6j5TsPY+vB4J+XmeP7++3oaVzz9iI8+uUay8dwWqkPBp8t243UjEzc/kHwfseh\nrtnUjEz8EmbirtPn7FkD4DctB7os+wiWZXsaNbfn/IHRH61wbZ2BHi/8gAkzN5l6zab9x3E6Nx+H\ndKpfTp4tyhl9uTz8IimpGZl49pv1GP3RCtz+QVax6iCv3/84i79+uLzYtoIChU+X7cK5/AIcPZWL\nNk/NxqtzdW5YFpzOzceDn63C9e8uNjwJm7/pq38L+fyi7ZFNFjdHG3QVWcCNDbuPeL6DQyZKUuNn\nbMSz32zAwq1Fn/Of31qES1+eb/tI9v3HzuBCbT6pcLUMvpZlH8aKXdZmEbai1AeDR7RI/L2D3Tmd\n6IlzUlugJeOrtchcuy/sRaGUwt++2YAtDswt8/ZPxupZAc9U2ANeWYDWT81Cl+fn6AaEon2N/Xin\nLMxG5tp9Qb/DkzqN+p8v341Hv1yLSQt2FLYJTF9tzwpdHy7eia9W7MUv2w6V+PoPoazbewxXvf5z\n0MV9Zq/fj9SMzIDS3urdR4tNOggYGxGclX242N+b9h/HXR8tD7J3oIIChZ2HrLcv+Fu+83D4nTRH\nQ1QXjZxs75Tq3V+wtpbCsLcXYeib1tsqzSr1wSCYcBf7qdy8yBtTTdrl98PIyy8oVpd6Ni8fefkF\nOP+ZwO6t+46dweSFO3CTzWsD+DuXX4CVu4J3f/S/MR/RbvgtnpiJZ78pXjevt3ziiTPnkGfwcz9z\nLh9XvvYzsrIDA6V3fYYjOgHnWIgbQWpGJm7wmWdGT4HPteNEzdKUhUV15r8eOIEmYzPxf5PCz+b5\nfOYGrNlzLGj31M+06pf1e4typ4u2HcLgNxZi0s/bTafzmW+KB8IBryzAjLWBvaE+WlzUZff7DQeQ\nmpGJA8fP4K2fthVOjGdHFd0nS4tXLw2fuAjtdX4rZ/PykbnGWDXr0h3GA4wRRk7zXH4BWj05M/yO\nNovbYBBOm6dmB20w86dXMMhcsw8tnpiJIydzcdZgFc9dH60ofHzybB4e/Gx1sbrwlk/MQvPHZ+pO\nA1GYFpOllAc+XYXr3w198/OVc8JcD6aPlngm/svNK8CUhdl4Z37wUkZBgUL7Z75Dxlfh54fKOZGL\nrQf/wNq9x8I2APvauO84Ojz7Hb5YHrz/+s8lPPgsv0AV6776rM9N9rJ/zYdSKFadoee/i3di8fbA\nG5feTVYBePn7LThw/Exh47iZRl+zfK/Xj7WxHH+fuanYjTaSpUr1qg4BYPH2wzih81sxU7V37TuL\nArYp5RmTsiPIWCHvZ251zMj+Y2dwxqaqZzPiPhg88Okq3dwMENlN4e+zNiE3rwCfZhXlVvSqM3zl\n+/xy7/54ZbF6ZaM5p31+3WR/O3oaHy8pPhOrb1faaTYtbv7w557+4P7BaMrC7GJ/v/lj8GDgPcWv\nVoQfaDTH4ERk/p+Ht0HV7FKbD35WNOmY7zl6v5eVu44UG4Py4uxNmLSgeG47WInklveWYdLPntKA\n1bYh/1l4Q+UJ1uw5ilfn/or7poZuxPa68T9L8E2YNg6jvFNw+5cKQ00QmZqRGVHPKLspBTw+bR2u\nfrP4OIT5W3ICRij790TzrZFY/9sxRxcqMivR7QS4zerNcOrSXdhz5DQe7t/ScG78Br8qnGOnnJ9p\n86bJS7H14B+YuW4f/ntrN5zOzbdch6knNSMTg86vb9vxvCYt2I6UmhUDtpst+Xyz+jcM7dQwYPvG\nfccDjpUXYv6Zr1bsxcvXdgzYvnj7IaRmZAIAeqXVxn9v7QYAhf3Z+7RMRvM6VQAAHZ79TvfY830a\nLP/zs33TbATjnWfnbF4Bxs/QX5mu+eMz8fOjfdGoRkUs+NVapsjOprSWT8wCAGRPGFS4zfp8Qfak\n7Kjf7/cmra1hUPui30OohYgGveoZv9KybhVb0hOpuC0ZrNh1FMMnBhYBjcr4am3hQC3/OvRgNyz/\nngQd/qZ/c9BjpYfDT1tyCgcAeX/QTgx5961/DVZkN6NAAc9nbsQd/zXeGOlLKVXsO/hCp6Sx5cAf\n2JZTvJhvpJPBjt9PYvyMot5VvqWBtTrTFExf5clR67U/tQ8xtUk4S0L0NjqbV1AssH1X2HBcvJS0\nctfRwrEMSgFvzCve28rIQjo/hhiI5vTUGn3+OQ+tn5xlKoPw3i/Z+GWbs9WAVrt9D3hlAcZlbnBt\nfjBbgoGITBaRgyKyzmdbTRH5XkR+1f6v4fPcWBHZKiKbRaS/HWmwQq+O1axjp87pzlKqTDYtLssO\nnRYzPXoAT/F05OSlxaodUjMysdXi9Nre44T74VntWWV0OoyxPu0J3h912DEZWrDyvxla6TXy+LTw\n7Rm+VVDelHmnm/B1wuTUJr5To183MXiD8i1TlhVWMT70+WqM0oKqt/3pqxWBpeGftuTgxdmbi280\ncFe62WC7ml18ezDtPnwauRY6eczdaGwktRFm12HQ29t3dbl3F+zA7yetzywQCbtKBu8BGOC3LQPA\nXKVUGoC52t8QkTYAhgNoq73mTRFJsCkdtgi3HoG3WgAAZm8IfRObbLDYP+ztRZZyBFnZh3HizLli\n9ezjZ2zE6SANcisN9Fv272YIBA70CcZqMPhi+R7TVXa+OXQjTuXmF3bZDWfExMW6P/RQVUlej08r\nqr/PXLsPSqmg3+0LQapp9Fzy0k+B6ckvMPSd+tqvM+Jdr63CvxokGlzzdmBp/utVRdeNkUyT3jX6\nVoi2rFCcmFrErTkjbWkzUErNF5FUv82DAfTRHr8P4EcAj2rbpyqlzgLYISJbAXQFYL3OxmZ6P7pg\nHvkicEThniNFjUIHTfa+MUvvxzFx/nZcm97I8jH/ptN33ntjnO3QWg3HTucWNkKb5X9/fj5zIzqm\nVNfd1+gNbtH2Q+j3cuB1YLar4fack5gwcxPKl9XP77wz33yXTi9vpuS5wW0tHyOUl77fgnv6pTly\nbDud8xlJbmSApN7NNtzAUl/rfAbyeef3spNbkz462WZQVynlrTzbD6Cu9rghAN8OwXu0bQFEZJSI\nZIlIVk5O7Kxvu3Hf8ahdF+D9X8JfvMHmzvli+Z6AvuX+9LpAGuk2uExnrIBRehOaBauvDqgKCWF7\njrlZJIPl6N6Zvx3/DjF3VaScXMQ+XA+4SISbQsQpRtpCQnlljvXvcnvOyWI1C9GkRBqQlSdbafr2\nqJSaqJRKV0qlJycnO5Ay5/iWDtwQLBhZ7cp239RVlnPubZ6y3lAaS46cOodv19jTBdOM345GvqpY\nsKnZ20bQyB2O2TErpUmonlD+XZD9u4Y7xclgcEBE6gOA9r+31WYvgBSf/Rpp28hGI0wMJCNjhvr1\nK9fz7oIdEU3hbIVe4zRFt2aPzQj6nP9g18cMdFqwg5PBYDqAkdrjkQC+9tk+XETKiUgTAGkAnJ1D\nIQ5FstYB6VsRYhoOL+/qWESxxpYGZBH5BJ7G4toisgfA0wAmAPhMRG4FsBPAtQCglFovIp8B2AAg\nD8BopVT0DC8kikC0thURhWNXb6IRQZ7qF2T/cQDG2fHeREQUubgdgUxEREUYDIiIiMGAiIgYDIiI\nCAwGREQEBgMiIgKDARERgcGAiIjAYEBERGAwICIiMBgQEREYDIiICAwGREQEBgMiIgKDARERgcGA\niIjAYEBERGAwICIiMBgQEREYDIiICAwGREQEBgMiIgKDARERgcGAiIgAJDr9BiKSDeAEgHwAeUqp\ndBGpCeBTAKkAsgFcq5Q64nRaiIhIX0mVDPoqpToqpdK1vzMAzFVKpQGYq/1NREQucauaaDCA97XH\n7wMY4lI6iIgIJRMMFIA5IrJcREZp2+oqpfZpj/cDqFsC6SAioiAcbzMAcJFSaq+I1AHwvYhs8n1S\nKaVEROm9UAseowCgcePGzqeUiChOOV4yUErt1f4/CGAagK4ADohIfQDQ/j8Y5LUTlVLpSqn05ORk\np5NKRBS3HA0GIlJJRKp4HwO4HMA6ANMBjNR2GwngayfTQUREoTldTVQXwDQR8b7Xx0qpWSKyDMBn\nInIrgJ0ArnU4HUREFIKjwUAptR1AB53thwD0c/K9iYjIOI5AJiIiBgMiominlG6HS1sxGBAREYMB\nERExGBARERgMiIgIDAZERAQGAyIiAoMBERGBwYCIiMBgQEREYDAgIiIwGBARERgMiIgIDAZERAQG\nAyIiAoMBERGBwYCIiMBgQEREYDAgIiIwGBARERgMiIgIDAZERAQGAyIigovBQEQGiMhmEdkqIhlu\npYOIiFwKBiKSAOANAAMBtAEwQkTauJEWIiJyr2TQFcBWpdR2pVQugKkABruUFiKiuOdWMGgIYLfP\n33u0bURE5Ecp598jqhuQRWSUiGSJSFZOTo7bySEiKrXcCgZ7AaT4/N1I21aMUmqiUipdKZWenJxc\nYokjIoo3bgWDZQDSRKSJiCQBGA5guktpISKKe4luvKlSKk9E7gYwG0ACgMlKqfVupIWIKNrl5heg\nfJkER9/DlWAAAEqpGQBmuPX+RERUJKobkImIqGQwGBAREYMBERExGBARERgMiIgIDAZERAQGAyIi\nAoMBERGBwYCIKOqJOP8eDAZERMRgQEREDAZERAQGAyKiqCdwvtGAwYCIiBgMiIiIwYCIiBAHwaBO\nlXJuJ4GIKOqV+mDQom4Vt5NARBQRDjojIqISwWBARESlPxgM6dTQ7SQQEUW9Uh8MrunSyO0kEBFZ\ndlmbuiib4PytutQHAyKiWPbuTekl8j5xEQw6NKrmdhKIiKJaXAQDIiMevrwF/ntrV0P7Nq9TGUPZ\nHkWliGPBQESeEZG9IrJK+3eFz3NjRWSriGwWkf5OpYHIjLsvSXM7CTFrcMcGbieBIuR0yeBfSqmO\n2r8ZACAibQAMB9AWwAAAb4pIgsPpICIH/Xt4J7eTQBFyo5poMICpSqmzSqkdALYCMFY2t0g5eXCK\nSwJeV1S6OB0M7hGRNSIyWURqaNsaAtjts88ebVsAERklIlkikpWTk2M5EVXLl7X8WiP+cc35jh4/\nErdd1MTtJJRaSjEcRLPeLZLdTkJMiSgYiMgcEVmn828wgLcANAXQEcA+AC+ZPb5SaqJSKl0plZ6c\nbP2LrVEpqdjflcslmnp9/WrlQz7fLLmy6TSVlGCD7uY8eHEJpyQ+dGpc3dX3v7R1XdOvuf/S0tlW\n8tDlLVx9/18yLnH1/c2KKBgopS5VSrXT+fe1UuqAUipfKVUA4F0UVQXtBZDic5hG2rYSo/eDvb5b\n46D7/zSmb8jjlcQkUnarUTEp/E5RrGyCux/6NV0a6VYTTR3VPexr2ze01tX550dDX4cAcF6tiqaP\ne/+l7t40S6NW9aqUyEAxOznZm6i+z59XA1inPZ4OYLiIlBORJgDSACx1Kh2AsRtHpaTgbdhJibH1\npfrr0zKwVFWrsvGpvUN9NvHqtl5NdbeXS3Tms3r52g5oVMP8jT6cb++5yPZjXtislu3HNCpaZhzo\nlVYbtSvHVobLybvcP0RkrYisAdAXwAMAoJRaD+AzABsAzAIwWimV72A68OSgNob3bVq7kunj14zi\nXHajGhXw3i1dddd1qFExfFvKvf3S8NDlLZ1ImmE1KyUFBLSSWBM2FAFgtclAWWh6rl+tgqH9gn0q\nwUos7SyWUkK5rZd77VTDtGAQDRkYibEqA8eCgVLqRqVUe6XU+Uqpq5RS+3yeG6eUaqaUaqmUmulU\nGrx82wxu6nEehnQMPljIbClgTP+WSLUQQEJJqVkB2RMGAQAaVjd2Ewimuhao9G4/WU9cFraO+YFL\n0xyrBnv7hi6Gjj11VHc8dJn9AUmvcb1HU/dytdPuujDiY+h9z0sf64fuLp5XSbn5wtTCx20bOD/r\ngJHMVCyJ7foPC/42uB16pdUO+nyZMHenjinF2xu89b//GZmO8Ve3jzyBPqbf3RPT7+6p+1zXJjUj\nPn5CGUG4ak0RCcgB2xUcBrSrhx0vDCr8e0z/4Dd8K7npcMqVDTz5xIQyuLR1HUOvtzNFHRpVQ6fG\nNcLvaMLQzg2RPWEQ6lQN3QGitHjmqraFjxWU5ZKbUaFy/rFWKgDiMBgAQJ2q5Qtz3l7eH+K9/Zqj\nm86N1lvs9J+uwPud92tdF92bRn6D9nV+o+qm6vbt8P5fHB3yEdLovs1xvs48UtUqRJ4DK2Pitzlp\n5AWG9vN2La1aPnjvNL3qCr2blNH71svXdsBrI0rnAK9QvfzevqGzoWM4cRO+q08z3e2lrWtxXAYD\nf6+N6ISB7eohe8IgDGhXH63qBS6VOe/hPvh6dE+ULxu8LrKpgS6mt9rY799M91DvdfvRbd3w9JVF\nbSi+de8XpNYw1DfbyG/gvn5pSKkZWRWXV10bcrbbXxgUfieLGofowXOfzd02h3ZuhMvaeKr2bux+\nHtLPs7c0URL8q+fmPNgbAFCpXPDfVst6VU29h1LFS7Bj+re01B4IAI8MaIVRFzdFhRC//dKAwQDA\nlR0ahM1R1KlaHh1SArukGmnIrOXTZjGyRypev74Trmhfr9g+b1xvLOfjq3mdKrq50lAXfVrdyril\np35AirRR9sk/FQWZBy5rgUbV7e/94vX69Z7ccdsG5m4SvsJVCYYiUpSbT7KhC2FimKKLbzVZ+bIJ\nWP305cWqRQrTFXFKnNeyXpViGYVgJYJZ9/cqfNykdiX8NKZP2GMH+0pH922OahHU8T92RWtsfG6A\n4f29yVj6eD8seayf5fctSQwGOuwu/C0a2w/zx/TFvVpu+U/nNwj4AfQw2R3vhaHB2yfamughUtkn\nmAT7IRn9PFrULV4yMlrPnzGwVdgugf6Bql/rutg2/grc0P28gH2N9iS5o3czXN+tMabccgFm3tcr\n/AuC+L9ugWkwqmVdTyn0YZM9tqpVKIsEM3VfJhip7uzZ3HqDtF47lJ5alYpXkZ5XKzCT894twav0\nAtq6DKWuuL463bK9WtQNrEHwV6dK+ZAl27//2d52xkiYG4pLAYxkLpMSy6BxrYp48DL9wT0z7u2F\nmpXMdU/1jnpuWa8KlmUfwcge5+H9RTsBAP/48/n4ZvVvho7z1JVt0KR2Jew/dgZ39NbvO2+U1ZLF\nX3vr18kCRT1E9AJLsJth87pVsHr30bDvW7lcYmSN/lqSzPZA871JlU30nEPlEO0OVlUxOdLeK9wI\n/ZVPXoaK5RIwc+1+3P/pKkvvUZJqW2x32/L8wJDfba+02liy47DVZAEALmwWvDNLSWPJIAqZual6\nf7i9fXIwFXRzxvpZsarly2J03+Z4bki7iAc1mS3dGKFXFeIr3Cc1f0xfQ6OCrfAGqFAZgnDfpZPj\nJR4d2Mr2Yz43pB1qVEpCucSEiNYXj7SdN1SPQH8NqltrcwoX5EOWbmz6Wp0q/elhMNDh+/GHy7HH\nQh2tLys3H/9eE/8c1iFgn15ptQMu3FDvFa6O3KzL2tTFqzq9bBrXquh4H3uzn2lJ9Dq8Lj0FFZOC\n5/BH922G9c+aX0rkqvOtrVuQUEbQqEZRO4FujyoL9bPB2vpKsp+Pme/TbNvgtvFXhN/JJgwGIVyX\nnoJ5D/cx9RqrPRZiiV79vtkufbMfsHeivBoVyyLF52bz6IBWtvVmCqZPS894hLS65iYqTHRwzhoj\nN8HsCYMwpn8rVLJYjWRFpaQEW8bGhON7FabU9JR0h1/gmXcs2DVqdfCY97Me3ae54dcMOr9++J1c\nEtdtBo9f0Vq3X7tX6/pVAvq4l00ogycGtcbzmRt1X1O6eh4HN6Z/S7w4e7Pl14eb6XXSTekRFZHv\n7NMMdwbpH26Xa9NTMKBdPdNTpNfWSpt//3N7fLh4FwDrU1sEo3ffm3hjF1vGbFghvt2voH++dpSY\nvLMBDL8gBTUrJRUbTxTs8FNu6Yohbyy0/J566b7lQmNdyKNpbFpclwxuv7gpulmoQgg2SZmeD2wc\nxBVuwr1rujTCWAfqifWM7ms8N+Q1495eaFzTWLtEcpVy6Nsq/Ehgp35MSYllDDWo6wWCreMGGhpP\n4t9bJpRgVT5mzv/ytvUMXu/2fKgNfKZ+961/t/Mr8z9W7crlkD1hEIalpwTs623TujY9dM+1G7uf\nh3du7GI5TVNuvgD1wkx7H43iOhgEc1uvpmhVrwqu7GCgftTvavSvX7fzZrX0sUsDtnm721WrkIR/\nDuuAO4IkmcQQAAAPkElEQVT0zHFjsKR/D6A2Darif6N72jpTplPnteX5gRg7sLWl1yYmlDF9wwt1\nnbx8bYeAaVBKitX3/fj2bvjf3T0xoK1nPM0Dl7YodjWMvNDTHTfSubfM8JY061WrgD/5Vdd4A1eH\nlOp4bkg79G9bL+D1/vSuvewJgwxlYnxNvjk9aE/DksRgoCOlZkXMuv/iEp8K4u4wuW3/RXoAYOwV\nrTD55nR0MTgS1e1iac1KSY7MlFkS0uoUVW2FayPxfldVKyRiWJdGGNnDc/O7t5/5EclDO4eflvml\nYR1wV59maK6l0Y4geUfvprpTsxhxYbPaqFOlPJokezIrvo3HIkCX8zzHTdaZTdeISM/v9es7o4NP\nFfF1WrvCxSZ6KXkZ+UnNur8XFmqL3dzQvfjaKZe0qmvpurAbg0GE/HuSRHKNDgtTfAWAn8b0KZaz\nLpeYgEtamV/dygjvSk1Gfnh2xRjvzcxov/uSCm6z778YX9xpfFbRURc3xQtD22NYlxS8OKwDnh3c\nDtkTBgXNAXo/4xVPXmYpfSk1K+KRAa1s+R6u75aC3i2ScdtF1sadJFcuqiJ54NIWeOfGLrjYb5oT\nu743N49jZvLEVvWqFpaCnh8SPQPNfMV1A7IdrF6MF6Ul47OsPaZfpzcK0ykNdIrwRicMs2rckPYY\n2qmR4aVEq2h19nqlJjs1r1PZVIN22YQyGNE1+Op5Xv7XT81KSahXtTz2Hz9j6H2u6tAAy7KPGG6L\nMaJahaSACQsvbFYLefnKUJBu75PjTkosU1jl0rVJTUxbuRfNkisj34V6y1subIJN+07gLz1TAVjL\nuH17z0Uo0NL+w6aDno02RaQP/tIVN012dJ2vkOIqGNRzYCpfq5fBVR0a4O8zN2Hv0dO2psdJt13U\nBAPa6XeNs+unXSEpARfpFNWD3TsGtquH8Ve3x9DODbFx33GbUhE9wq03cUP383DdBY0jXo2vU+Pq\nWLkr+KjtXmnJEffOGn5BCvq0TEb9ahWwfOeRiI5lRbWKZfG2TsOwmd+wbxVnYTCAZwp7MxPZNaxe\nIeC37196KmlxEwzmPtS72IRxTjGT4alisCrkw1u7Gc4pBhPJzTrStQSeGNQaA9qFb5CzQkRCrl9t\n2/s4/g5FvJ/3zPt6hS0hiQiSEiNP3bS7emLIGwuxavfR4hldG09cRAJWbPP0ODV/fTmxvoXpNPgk\noV+YoB0L4qbNoFly5cJVv+wUqiExpWYFW3qBXJRW27a1XSP5bVstDbdpUNWR9XtLg2evaouOKdXR\nUmfa9BoVk8zPe2RXwlxgZXS8QEytVRHMkI4NUSkpwVBjfWAazLtFq6oyOyeZk+ImGJSUoZ0987X8\npWcTLHjkksI67XjknYCuTX3r00yXRt62hHYNPaub/S/MOhlWWGsQdZ+VUt73D/bGv64LnCLFjMa1\nKmL93wagiYkZBCL5vG7r1RTZEwaFnDKkpEVPSkqJ+/ql4a+9m9n+43ZTsKqvKzs0KJwdVe/e06dl\nnYAV5axyu0usnS5tUzfk5+Kte3brnN38qMdf3R7frd+P3//IDbmf7zXZLLmy4Q4HTigt1yZLBjYT\nEcuBwFuKcHNRdjNeG9EJU0LMJ28nO+amj0RJ/uA/+Es3jOnfEnUs9sF3glN19HoZDe/6EFXKJ+LH\nh/vgyzt7BH19abkRRwMGgyhSs1ISfnioN54b0s72Yw/VphuOpFhqZDK6sgkSdvBcJNLqVMa8h/ug\nTAlO7evroSDjBBaP7RfRAjm+GteqiNF9m0fFoupm6/HLl438lnL/pWnYPv4KlC+bgNTalQoHqEUb\n7wC1i5pHz5oEkWA1UZQxso6yFY9d0RoPXNYiyFoHoZnJE/46ztkpdyskJZiq17XbPf3ScI/OaNF6\n1crH5Hw0vl65riPenLcV7S2OEF/x5GVIDDN/lj+9eCciQXP8395zEU6fy8fUpbsBABUtXM+F76P9\nb7XMk55a07Zq0GjAYBAnypSRiKcs1vt91tYmW2tex706W7JHk9qV8KLOWhVGWe0ZY6Y7treff9sG\nVdG7ZTI6NTY2DYue10Z0xqSft1sOfk6qUbGs4+tw+IuoTCciw0RkvYgUiEi633NjRWSriGwWkf4+\n27uIyFrtuVclGsrCZFn7RtXwye3d8eiAkpkt1S28TJ1n5iOumJSIq4xMJBlC41oV8bfB7Up0NTGj\nVj51Od66wfrMqVZEWsG3DsBQAPN9N4pIGwDDAbQFMADAmyLiLc+9BeB2AGnavwERpsEV8bCIjVe4\nnFuPZrUiHgEbTp2qnhLIxWnujtIkKq0iqjdQSm0EdHNNgwFMVUqdBbBDRLYC6Coi2QCqKqUWa6/7\nAMAQADMjSYcbalVOwvbfT7qdjJLlYgaqfrUKWDy2n+VZLuNFi7qewWvpqfY2uroxBTqVLKfaDBoC\nWOzz9x5t2zntsf/2uHRR89rYtP9EVI1CjGax3kBbErqcVwOLxl4SMO2DVU7Vjnm/S5b0okfYYCAi\ncwDoTSzzuFLqa/uTVOy9RwEYBQCNGzs//0xJyxjYCiMvTI36m5y3v7sTE/2R/ewKBE5qWL0CljzW\nD8mVy0U87xbZI2wwUEoFLq8V3l4AvuvONdK27dUe+28P9t4TAUwEgPT09FJXUE1MKFO4aHc0G9q5\nISqVS8TlbaJ7Mq7zG1XH8AtSgq72dkfvpujbsg6GT1ys+zyVrLrMXEQVp6qJpgP4WEReBtAAnobi\npUqpfBE5LiLdASwBcBOA1xxKA9lERBybddROCWUEE/58ftDnrS5jGc/YVhA/Iu1aerWI7AHQA0Cm\niMwGAKXUegCfAdgAYBaA0UqpfO1ldwGYBGArgG2IwcZjIrKPd/xLn5ZsP3BTpL2JpgGYFuS5cQDG\n6WzPAmD/fAtUzDNXtsFcn8U3iKwoieEV1SqUxcKMS6JqLia3jOnfEvNc+t1yBHIpdXPPJri5ZxO3\nk0FkSEOdJVbj0ei+zTHawbm9QuFEdURExGBAREQMBkQhteYqbRQn2GZAcSelZgXc2P08Q/t+cnu3\n+Jt2hOISgwHFnQWPXGJ43+oVk9C5cfxOFxJ983mSU1hNREREDAZERMRgQEREYDAgIiKwAZl0fD26\nJ77fcMDtZFAUUZyxrtRjMKAAHVKqo0NKdbeTQVGASz/HD1YTERERgwERETEYEBERGAyIKISKSZ5m\nxQpJbF4s7fgNW/T8kPZ4YeZGdEip5nZSiBxzW68mKCOCm3oYm8uJYheDgUUt61XBe7d0dTsZRI4q\nl5iAO/s0czsZVAJYTURERAwGRETEYEBERGAwICIiMBgQEREYDIiICAwGRESECIOBiAwTkfUiUiAi\n6T7bU0XktIis0v697fNcFxFZKyJbReRVEc6LSBSrXhvRCR/8heNtSoNIB52tAzAUwDs6z21TSnXU\n2f4WgNsBLAEwA8AAADMjTAcRueDKDg3cTgLZJKKSgVJqo1Jqs9H9RaQ+gKpKqcXKs1rGBwCGRJIG\nIiKKnJNtBk20KqKfRKSXtq0hgD0+++zRtukSkVEikiUiWTk5OQ4mlYgovoWtJhKROQDq6Tz1uFLq\n6yAv2wegsVLqkIh0AfA/EWlrNnFKqYkAJgJAeno6190jInJI2GCglLrU7EGVUmcBnNUeLxeRbQBa\nANgLoJHPro20bURE5CJHqolEJFlEErTHTQGkAdiulNoH4LiIdNd6Ed0EIFjpgoiISkikXUuvFpE9\nAHoAyBSR2dpTFwNYIyKrAHwB4K9KqcPac3cBmARgK4BtYE8iIiLXiadTT/RLT09XWVlZbieDiCim\niMhypVR6uP04ApmIiGKnZCAiOQB2Wnx5bQC/25gcN5WWcykt5wHwXKJVaTmXSM/jPKVUcridYiYY\nREJEsowUk2JBaTmX0nIeAM8lWpWWcymp82A1ERERMRgQEVH8BIOJbifARqXlXErLeQA8l2hVWs6l\nRM4jLtoMiIgotHgpGRARUQilOhiIyAAR2awtpJPhdnq8RGSyiBwUkXU+22qKyPci8qv2fw2f58Zq\n57BZRPr7bNddKEhEyonIp9r2JSKS6tB5pIjIPBHZoC1ydF8Mn0t5EVkqIqu1c3k2Vs9Fe68EEVkp\nIt/G+Hlka2lYJSJZMX4u1UXkCxHZJCIbRaRHVJ2LUqpU/gOQAM90F00BJAFYDaCN2+nS0nYxgM4A\n1vls+weADO1xBoC/a4/baGkvB6CJdk4J2nNLAXQHIPBM6zFQ234XgLe1x8MBfOrQedQH0Fl7XAXA\nFi29sXguAqCy9rgsPIsvdY/Fc9GO/yCAjwF8G6vXl3b8bAC1/bbF6rm8D+A27XESgOrRdC6OnHQ0\n/INnvqTZPn+PBTDW7XT5pCcVxYPBZgD1tcf1AWzWSzeA2dq51QewyWf7CADv+O6jPU6EZ8CKlMA5\nfQ3gslg/FwAVAawA0C0WzwWe2YDnArgERcEg5s5DO342AoNBzJ0LgGoAdvgfO5rOpTRXEzUEsNvn\n75AL6USBusozqysA7AdQV3sc7DxCLRRU+BqlVB6AYwBqOZNsD61I2gmeHHVMnotWtbIKwEEA3yul\nYvVcXgHwCIACn22xeB4AoADMEZHlIjJK2xaL59IEQA6AKVr13SQRqRRN51Kag0HMUp7QHjPdvESk\nMoAvAdyvlDru+1wsnYtSKl951u1uBKCriLTzez7qz0VE/gTgoFJqebB9YuE8fFykfScDAYwWkYt9\nn4yhc0mEp2r4LaVUJwAn4akWKuT2uZTmYLAXQIrP39G+kM4B8awR7V0r+qC2Pdh5hFooqPA1IpII\nTxH1kBOJFpGy8ASCj5RSX2mbY/JcvJRSRwHMAzAAsXcuPQFcJSLZAKYCuEREPozB8wAAKKX2av8f\nBDANQNcYPZc9APZopU3AM7V/Z0TRuZTmYLAMQJqINBGRJHgaVKa7nKZQpgMYqT0eiaJFf6YDGK71\nFGgCz0JBS1XohYJ8j3UNgB+0XIettPf9D4CNSqmXY/xckkWkuva4AjxtH5ti7VyUUmOVUo2UUqnw\nXPM/KKVuiLXzAAARqSQiVbyPAVwOYF0snotSaj+A3SLSUtvUD8CGqDoXuxtKoukfgCvg6eGyDZ41\nm11Pk5auT+BZJ/ocPDmGW+Gp25sL4FcAcwDU9Nn/ce0cNkPrOaBtT4fnx7ENwOsoGkRYHsDn8Cwg\ntBRAU4fO4yJ4irVrAKzS/l0Ro+dyPoCV2rmsA/CUtj3mzsUnHX1Q1IAcc+cBT0/A1dq/9d7fcCye\ni/ZeHQFkadfY/wDUiKZz4QhkIiIq1dVERERkEIMBERExGBAREYMBERGBwYCIiMBgQEREYDAgIiIw\nGBAREYD/ByyW2lECDseUAAAAAElFTkSuQmCC\n",
      "text/plain": [
       "<matplotlib.figure.Figure at 0x17abe3990>"
>>>>>>> 8b0747d3d30698f4aef1b4a378384d18273d3383
      ]
     },
     "metadata": {},
     "output_type": "display_data"
    }
   ],
   "source": [
    "%matplotlib inline\n",
    "import matplotlib.pyplot as plt\n",
    "x = range(len(errors))\n",
    "y = errors\n",
<<<<<<< HEAD
    "plt.plot(x, y)"
   ]
  },
  {
   "cell_type": "code",
   "execution_count": 21,
   "metadata": {
    "collapsed": false
   },
   "outputs": [
    {
     "name": "stdout",
     "output_type": "stream",
     "text": [
      "-145.106025185\n",
      "150.946114448\n"
     ]
    }
   ],
   "source": [
=======
    "plt.plot(x, y)\n",
>>>>>>> 8b0747d3d30698f4aef1b4a378384d18273d3383
    "print min(errors)\n",
    "print max(errors)"
   ]
  },
  {
   "cell_type": "code",
   "execution_count": 22,
   "metadata": {
    "collapsed": false
   },
   "outputs": [
    {
     "name": "stdout",
     "output_type": "stream",
     "text": [
      "15422\n",
      "-9.53118975932\n"
     ]
    }
   ],
   "source": [
    "import numpy as np\n",
    "ind = np.argmax(errors)\n",
    "print ind\n",
    "print errors[24356]"
   ]
  },
  {
   "cell_type": "markdown",
   "metadata": {},
   "source": [
    "3.add user taxonomy bias\n",
    "=="
   ]
  },
  {
   "cell_type": "code",
<<<<<<< HEAD
   "execution_count": 23,
=======
   "execution_count": 33,
>>>>>>> 8b0747d3d30698f4aef1b4a378384d18273d3383
   "metadata": {
    "collapsed": true
   },
   "outputs": [],
   "source": [
    "def userTaxBias(userID):\n",
    "    bu = userBiases[userID]\n",
    "    userTaxBiases = {'track':0,'album':0,'artist':0,'genre':0}\n",
    "    numTrackRate = 0\n",
    "    numAlbumRate = 0\n",
    "    numArtistRate = 0\n",
    "    numGenreRate = 0\n",
    "    \n",
    "    sumTrackRate = 0\n",
    "    sumAlbumRate = 0\n",
    "    sumArtistRate = 0\n",
    "    sumGenreRate = 0\n",
    "\n",
    "#     review = trainDatas[int(userID) - 30000]#since the ID of users is continuous\n",
    "    for curReview in trainDatas:\n",
    "        if curReview['userID'] == userID:\n",
    "            review = curReview#since the ID of users is continuous\n",
    "            break\n",
    "    \n",
    "    for rating in review['ratings']:\n",
    "        itemID = rating['itemID']\n",
    "        score = float(rating['rating'])\n",
    "        if itemID in trackBiases:\n",
    "            sumTrackRate += score\n",
    "            numTrackRate += 1\n",
    "        elif itemID in albumBiases:\n",
    "            sumAlbumRate += score\n",
    "            numAlbumRate += 1\n",
    "        elif itemID in artistBiases:\n",
    "            sumArtistRate += score\n",
    "            numArtistRate += 1\n",
    "        elif itemID in genreBiases:\n",
    "            sumGenreRate += score\n",
    "            numGenreRate += 1\n",
    "    if numTrackRate != 0:\n",
    "        userTaxBiases['track'] = sumTrackRate / float(numTrackRate) - aveRate\n",
    "    if numAlbumRate != 0:   \n",
    "        userTaxBiases['album'] = sumAlbumRate / float(numAlbumRate) - aveRate\n",
    "    if numArtistRate != 0:\n",
    "        userTaxBiases['artist'] = sumArtistRate / float(numArtistRate) - aveRate\n",
    "    if numGenreRate != 0:\n",
    "        userTaxBiases['genre'] = sumGenreRate / float(numGenreRate) - aveRate\n",
    "    \n",
    "    return userTaxBiases"
   ]
  },
  {
   "cell_type": "code",
<<<<<<< HEAD
   "execution_count": 24,
=======
   "execution_count": 34,
>>>>>>> 8b0747d3d30698f4aef1b4a378384d18273d3383
   "metadata": {
    "collapsed": false
   },
   "outputs": [
    {
     "name": "stdout",
     "output_type": "stream",
     "text": [
      "the number of users in train data is: 9998\n"
     ]
    }
   ],
   "source": [
    "#pre-build the tax user biases\n",
    "userTaxBiases = {}\n",
    "for review in trainDatas:\n",
    "    userID = review['userID']\n",
    "    userTaxBiases[userID] = userTaxBias(userID)\n",
    "print('the number of users in train data is: ' + str(len(userTaxBiases)))\n",
    "# print(userTaxBiases['0'])"
   ]
  },
  {
   "cell_type": "code",
<<<<<<< HEAD
   "execution_count": 25,
=======
   "execution_count": 35,
>>>>>>> 8b0747d3d30698f4aef1b4a378384d18273d3383
   "metadata": {
    "collapsed": false
   },
   "outputs": [
    {
     "name": "stdout",
     "output_type": "stream",
     "text": [
      "the full taxonomy model RMSE is: 33.8114327785\n",
      "the number of views in test data is: 59988\n"
     ]
    }
   ],
   "source": [
    "#check the RMSE with full taxonomy bias model\n",
    "errors = []\n",
    "count = 0\n",
    "squareSum = 0\n",
    "for review in testDatas:\n",
    "    userID = review['userID']\n",
    "    if userID not in userBiases:\n",
    "        continue\n",
    "    for rating in review['ratings']:\n",
    "        itemID = rating['itemID']\n",
    "        realRating = float(rating['rating'])\n",
    "        count += 1\n",
    "        if itemID in itemBiases:\n",
    "            if itemID in trackBiases:\n",
    "                curItemBias = trackTaxBiases[itemID]\n",
    "                curUserBias = userTaxBiases[userID]['track']\n",
    "            elif itemID in albumBiases:\n",
    "                curItemBias = albumTaxBiases[itemID]\n",
    "                curUserBias = userTaxBiases[userID]['album']\n",
    "            else:\n",
    "                if itemID in artistBiases:\n",
    "                    curUserBias = userTaxBiases[userID]['artist']\n",
    "                elif itemID in genreBiases:\n",
    "                    curUserBias = userTaxBiases[userID]['genre']\n",
    "                curItemBias = itemBiases[itemID]\n",
    "        #if the current item does not exist in train data, the bias is zero\n",
    "        else:\n",
    "            curItemBias = 0\n",
    "        squareSum += (aveRate + curItemBias + curUserBias - realRating) ** 2 \n",
    "        errors.append(aveRate + curItemBias + curUserBias - realRating)\n",
    "#         squareSum += (aveRate + userBiases[userID] + curItemBias + curUserBias - realRating) ** 2\n",
    "\n",
    "            \n",
    "RMSE = sqrt(squareSum / float(count))\n",
    "print('the full taxonomy model RMSE is: ' + str(RMSE))\n",
    "print('the number of views in test data is: ' + str(count))"
   ]
  },
  {
   "cell_type": "code",
<<<<<<< HEAD
   "execution_count": 26,
=======
   "execution_count": 37,
>>>>>>> 8b0747d3d30698f4aef1b4a378384d18273d3383
   "metadata": {
    "collapsed": false
   },
   "outputs": [
    {
<<<<<<< HEAD
     "data": {
      "text/plain": [
       "[<matplotlib.lines.Line2D at 0x1a09d9790>]"
      ]
     },
     "execution_count": 26,
     "metadata": {},
     "output_type": "execute_result"
    },
    {
     "data": {
      "image/png": "iVBORw0KGgoAAAANSUhEUgAAAiYAAAFkCAYAAAAUtvC8AAAABHNCSVQICAgIfAhkiAAAAAlwSFlz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\ngg==\n",
      "text/plain": [
       "<matplotlib.figure.Figure at 0x1710f5f10>"
=======
     "name": "stdout",
     "output_type": "stream",
     "text": [
      "-141.361893729\n",
      "143.008363309\n"
     ]
    },
    {
     "data": {
      "image/png": "iVBORw0KGgoAAAANSUhEUgAAAYMAAAD8CAYAAACVZ8iyAAAABHNCSVQICAgIfAhkiAAAAAlwSFlz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\n",
      "text/plain": [
       "<matplotlib.figure.Figure at 0x17abd62d0>"
>>>>>>> 8b0747d3d30698f4aef1b4a378384d18273d3383
      ]
     },
     "metadata": {},
     "output_type": "display_data"
    }
   ],
   "source": [
    "%matplotlib inline\n",
    "import matplotlib.pyplot as plt\n",
    "x = range(len(errors))\n",
    "y = errors\n",
<<<<<<< HEAD
    "plt.plot(x, y)"
=======
    "plt.plot(x, y)\n",
    "print min(errors)\n",
    "print max(errors)"
>>>>>>> 8b0747d3d30698f4aef1b4a378384d18273d3383
   ]
  },
  {
   "cell_type": "markdown",
   "metadata": {
    "collapsed": true
   },
   "source": [
    "the full taxonomy model RMSE is: 54.6062826709 (the userItem add the original one)\n",
    "\n",
    "the full taxonomy model RMSE is: 37.4768260566"
   ]
  },
  {
   "cell_type": "markdown",
   "metadata": {},
   "source": [
    "go to use the other 1w users to test the model and to see the different RMSE"
   ]
  },
  {
   "cell_type": "markdown",
   "metadata": {},
   "source": [
    "4. add user session model\n",
    "==="
   ]
  },
  {
   "cell_type": "code",
<<<<<<< HEAD
   "execution_count": 27,
=======
   "execution_count": 38,
>>>>>>> 8b0747d3d30698f4aef1b4a378384d18273d3383
   "metadata": {
    "collapsed": false
   },
   "outputs": [],
   "source": [
    "def getUserSessionBias(ratings):\n",
    "    userSessionBias = {}\n",
    "    count = {}\n",
    "    for rating in ratings:\n",
    "        number = rating['number']\n",
    "        if number in userSessionBias:\n",
    "            userSessionBias[number] += float(rating['rating'])\n",
    "            count[number] += 1\n",
    "        else:\n",
    "            userSessionBias[number] = float(rating['rating'])\n",
    "            count[number] = 1\n",
    "    for number in userSessionBias.keys():\n",
    "        userSessionBias[number] = userSessionBias[number] / float(count[number]) - aveRate\n",
    "    return userSessionBias"
   ]
  },
  {
   "cell_type": "code",
<<<<<<< HEAD
   "execution_count": 28,
=======
   "execution_count": 39,
>>>>>>> 8b0747d3d30698f4aef1b4a378384d18273d3383
   "metadata": {
    "collapsed": true
   },
   "outputs": [],
   "source": [
    "#get the user's session biases \n",
    "userSessionBiases = {}\n",
    "for review in trainDatas:\n",
    "    userID = review['userID']\n",
    "    userSessionBiases[userID] = getUserSessionBias(review['ratings'])"
   ]
  },
  {
   "cell_type": "code",
<<<<<<< HEAD
   "execution_count": 29,
=======
   "execution_count": 40,
>>>>>>> 8b0747d3d30698f4aef1b4a378384d18273d3383
   "metadata": {
    "collapsed": false
   },
   "outputs": [
    {
     "name": "stdout",
     "output_type": "stream",
     "text": [
      "the full taxonomy model with user session bias RMSE is: 37.9934142785\n",
      "the number of views in test data is: 59988\n"
     ]
    }
   ],
   "source": [
    "#check the RMSE with addtion of user session bias\n",
    "predRatings = []\n",
    "realRatings = []\n",
    "errors = []\n",
    "count = 0\n",
    "squareSum = 0\n",
    "for review in testDatas:\n",
    "    userID = review['userID']\n",
    "    if userID not in userBiases:\n",
    "        continue\n",
    "    for rating in review['ratings']:\n",
    "        itemID = rating['itemID']\n",
    "        realRating = float(rating['rating'])\n",
    "        count += 1\n",
    "        if itemID in itemBiases:\n",
    "            if itemID in trackBiases:\n",
    "                curItemBias = trackTaxBiases[itemID]\n",
    "                curUserBias = userTaxBiases[userID]['track']\n",
    "            elif itemID in albumBiases:\n",
    "                curItemBias = albumTaxBiases[itemID]\n",
    "                curUserBias = userTaxBiases[userID]['album']\n",
    "            else:\n",
    "                if itemID in artistBiases:\n",
    "                    curUserBias = userTaxBiases[userID]['artist']\n",
    "                elif itemID in genreBiases:\n",
    "                    curUserBias = userTaxBiases[userID]['genre']\n",
    "                curItemBias = itemBiases[itemID]\n",
    "        #if the current item does not exist in train data, the bias is zero\n",
    "        else:\n",
    "            curItemBias = 0\n",
    "        #check if user has session bias\n",
    "        if rating['number'] in userSessionBiases[userID]:\n",
    "            curUserBias += userSessionBiases[userID][rating['number']]\n",
    "        \n",
    "        \n",
    "        squareSum += (aveRate + curItemBias + curUserBias - realRating) ** 2 \n",
    "        predRatings.append(aveRate + curItemBias + curUserBias)\n",
    "        realRatings.append(realRating)\n",
    "        errors.append(aveRate + curItemBias + curUserBias - realRating)\n",
    "#         squareSum += (aveRate + userBiases[userID] + curItemBias + curUserBias - realRating) ** 2\n",
    "\n",
    "            \n",
    "RMSE = sqrt(squareSum / float(count))\n",
    "print('the full taxonomy model with user session bias RMSE is: ' + str(RMSE))\n",
    "print('the number of views in test data is: ' + str(count))"
   ]
  },
  {
   "cell_type": "code",
<<<<<<< HEAD
   "execution_count": 30,
=======
   "execution_count": 41,
>>>>>>> 8b0747d3d30698f4aef1b4a378384d18273d3383
   "metadata": {
    "collapsed": false
   },
   "outputs": [
    {
<<<<<<< HEAD
     "data": {
      "text/plain": [
       "[<matplotlib.lines.Line2D at 0x1a08e2b50>]"
      ]
     },
     "execution_count": 30,
     "metadata": {},
     "output_type": "execute_result"
    },
    {
     "data": {
      "image/png": "iVBORw0KGgoAAAANSUhEUgAAAiYAAAFkCAYAAAAUtvC8AAAABHNCSVQICAgIfAhkiAAAAAlwSFlz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\niIhIafw/m7atopJm7mcAAAAASUVORK5CYII=\n",
      "text/plain": [
       "<matplotlib.figure.Figure at 0x1a09f4a90>"
=======
     "name": "stdout",
     "output_type": "stream",
     "text": [
      "-183.806635781\n",
      "214.886728439\n"
     ]
    },
    {
     "data": {
      "image/png": "iVBORw0KGgoAAAANSUhEUgAAAYMAAAD8CAYAAACVZ8iyAAAABHNCSVQICAgIfAhkiAAAAAlwSFlz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\n",
      "text/plain": [
       "<matplotlib.figure.Figure at 0x13ed417d0>"
>>>>>>> 8b0747d3d30698f4aef1b4a378384d18273d3383
      ]
     },
     "metadata": {},
     "output_type": "display_data"
    }
   ],
   "source": [
    "%matplotlib inline\n",
    "import matplotlib.pyplot as plt\n",
    "x = range(len(errors))\n",
    "y = errors\n",
<<<<<<< HEAD
    "plt.plot(x, y)"
=======
    "plt.plot(x, y)\n",
    "print min(errors)\n",
    "print max(errors)"
>>>>>>> 8b0747d3d30698f4aef1b4a378384d18273d3383
   ]
  },
  {
   "cell_type": "markdown",
   "metadata": {},
   "source": [
    "the data shows that the user could rate too many items in one minute which is not useful to do user dynamics bias model"
   ]
  },
  {
<<<<<<< HEAD
   "cell_type": "code",
   "execution_count": 32,
   "metadata": {
    "collapsed": false
   },
   "outputs": [
    {
     "name": "stdout",
     "output_type": "stream",
     "text": [
      "371740\n"
     ]
    }
   ],
   "source": [
    "print(len(trainReviews.keys()))\n",
    "itemsKeys = trainReviews.keys()"
   ]
  },
  {
=======
>>>>>>> 8b0747d3d30698f4aef1b4a378384d18273d3383
   "cell_type": "markdown",
   "metadata": {},
   "source": [
    "5. Add Shining Point to Model\n",
    "==="
   ]
  },
  {
   "cell_type": "code",
<<<<<<< HEAD
   "execution_count": 63,
=======
   "execution_count": 12,
>>>>>>> 8b0747d3d30698f4aef1b4a378384d18273d3383
   "metadata": {
    "collapsed": false
   },
   "outputs": [],
   "source": [
    "#delete users who rating=0 \n",
    "import json\n",
    "def cutDataNoZero(input_filename, output_filename,lines):\n",
<<<<<<< HEAD
=======
    "    '''\n",
    "        to eliminate the rating with 0 from the preproccessed file\n",
    "    '''\n",
>>>>>>> 8b0747d3d30698f4aef1b4a378384d18273d3383
    "    with open(input_filename, 'r') as f:\n",
    "        for i in range(lines):\n",
    "            curlist = []\n",
    "            curUserReview = json.loads(f.readline())\n",
    "            for j in range (len(curUserReview['ratings'])):\n",
    "                if int(curUserReview['ratings'][j]['rating']) != 0:\n",
    "                    curlist.append(curUserReview['ratings'][j])\n",
    "            if len(curlist)==0:\n",
    "                continue\n",
    "            curUserReview['ratings'] = curlist\n",
    "            with open (output_filename,'a') as wf:\n",
    "                json.dump(curUserReview,wf)\n",
    "                wf.write('\\n')"
   ]
  },
  {
   "cell_type": "code",
<<<<<<< HEAD
   "execution_count": 64,
   "metadata": {
    "collapsed": true
   },
   "outputs": [],
   "source": [
    "cutDataNoZero('trainOut1w.json', 'trainOutNoZero.json',10000)"
   ]
  },
  {
   "cell_type": "code",
   "execution_count": 65,
=======
   "execution_count": 13,
>>>>>>> 8b0747d3d30698f4aef1b4a378384d18273d3383
   "metadata": {
    "collapsed": true
   },
   "outputs": [],
   "source": [
<<<<<<< HEAD
    "cutDataNoZero('testOut1w.json', 'testOutNoZero.json',10000)"
   ]
  },
  {
   "cell_type": "code",
   "execution_count": 91,
   "metadata": {
    "collapsed": false
   },
   "outputs": [],
   "source": [
    "#delete users who rating=0 and 100\n",
    "import json\n",
    "def cutDataNoExtreme(input_filename, output_filename,lines):\n",
    "    with open(input_filename, 'r') as f:\n",
    "        for i in range(lines):\n",
    "            curlist = []\n",
    "            curUserReview = json.loads(f.readline())\n",
    "            for j in range (len(curUserReview['ratings'])):\n",
    "                if (int(curUserReview['ratings'][j]['rating']) != 0) and (int(curUserReview['ratings'][j]['rating']) != 100):\n",
    "                    curlist.append(curUserReview['ratings'][j])\n",
    "            if len(curlist)==0:\n",
    "                continue\n",
    "            curUserReview['ratings'] = curlist\n",
    "            with open (output_filename,'a') as wf:\n",
    "                json.dump(curUserReview,wf)\n",
    "                wf.write('\\n')"
   ]
  },
  {
   "cell_type": "code",
   "execution_count": 92,
   "metadata": {
    "collapsed": true
   },
   "outputs": [],
   "source": [
    "cutDataNoExtreme('trainOut1w.json', 'trainOutNoExtreme.json',10000)\n",
    "cutDataNoExtreme('testOut1w.json', 'testOutNoExtreme.json',10000)"
=======
    "cutDataNoZero('data_preprocess/trainOut1w.json', 'data_preprocess/trainOutNoZero.json',10000)"
   ]
  },
  {
   "cell_type": "markdown",
   "metadata": {
    "collapsed": true
   },
   "source": [
    "Then redo the modeling we could get the better evaluation"
>>>>>>> 8b0747d3d30698f4aef1b4a378384d18273d3383
   ]
  },
  {
   "cell_type": "code",
   "execution_count": null,
   "metadata": {
    "collapsed": true
   },
   "outputs": [],
   "source": []
  }
 ],
 "metadata": {
  "kernelspec": {
   "display_name": "Python 2",
   "language": "python",
   "name": "python2"
  },
  "language_info": {
   "codemirror_mode": {
    "name": "ipython",
    "version": 2
   },
   "file_extension": ".py",
   "mimetype": "text/x-python",
   "name": "python",
   "nbconvert_exporter": "python",
   "pygments_lexer": "ipython2",
   "version": "2.7.13"
  }
 },
 "nbformat": 4,
 "nbformat_minor": 2
}
