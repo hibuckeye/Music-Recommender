{
 "cells": [
  {
   "cell_type": "markdown",
   "metadata": {},
   "source": [
    "1.basic bias model\n",
    "=="
   ]
  },
  {
   "cell_type": "code",
   "execution_count": 1,
   "metadata": {
    "collapsed": false
   },
   "outputs": [
    {
     "name": "stdout",
     "output_type": "stream",
     "text": [
      "the number of users in trainning data is:9998\n",
      "\n"
     ]
    }
   ],
   "source": [
    "import json\n",
    "from math import sqrt\n",
    "\n",
    "def readData(filename, list):\n",
    "\twith open(filename, 'r') as f:\n",
    "\t\tfor line in f:\n",
    "\t\t\tlist.append(json.loads(line))\n",
    "\n",
    "#load the trainning data\n",
    "trainDatas = []\n",
    "# readData('data_preprocess/trainOut2w.json', trainDatas)\n",
    "readData('trainOutNoZero.json', trainDatas)\n",
    "# readData('trainOutNoExtreme.json', trainDatas)\n",
    "print(\"the number of users in trainning data is:\" + str(len(trainDatas)) + \"\\n\")\n",
    "#print(trainDatas[0])"
   ]
  },
  {
   "cell_type": "code",
   "execution_count": 2,
   "metadata": {
    "collapsed": false
   },
   "outputs": [
    {
     "name": "stdout",
     "output_type": "stream",
     "text": [
      "the number of distinct items is: 295455\n"
     ]
    }
   ],
   "source": [
    "#construct the dict by itemID\n",
    "trainReviews = {}#improve the speed of finding\n",
    "for review in trainDatas:\n",
    "    for rating in review[\"ratings\"]:\n",
    "        itemID = rating[\"itemID\"]\n",
    "        if itemID in trainReviews:\n",
    "            trainReviews[itemID].append(rating)\n",
    "        else:\n",
    "            trainReviews[itemID] = [rating]\n",
    "print('the number of distinct items is: ' + str(len(trainReviews)))"
   ]
  },
  {
   "cell_type": "code",
   "execution_count": 3,
   "metadata": {
    "collapsed": false
   },
   "outputs": [
    {
     "name": "stdout",
     "output_type": "stream",
     "text": [
      "the number of users in test data is:10000\n",
      "\n"
     ]
    }
   ],
   "source": [
    "#load the test data\n",
    "testDatas = []\n",
    "# readData('data_preprocess/testOut2w.json', testDatas)\n",
    "# readData('testOut10.json', testDatas)\n",
    "readData('data_preprocess/testOut1w.json', testDatas)\n",
    "print(\"the number of users in test data is:\" + str(len(testDatas)) + \"\\n\")\n",
    "#print(testDatas[0])"
   ]
  },
  {
   "cell_type": "code",
   "execution_count": 4,
   "metadata": {
    "collapsed": false
   },
   "outputs": [
    {
     "name": "stdout",
     "output_type": "stream",
     "text": [
      "the overall average rating is: 71.2783178904\n"
     ]
    }
   ],
   "source": [
    "#the average of all rating\n",
    "aveRate = 0\n",
    "count = 0\n",
    "for review in trainDatas:\n",
    "    for rating in review[\"ratings\"]:\n",
    "        aveRate += int(rating[\"rating\"])\n",
    "        count += 1\n",
    "aveRate /= float(count)\n",
    "print('the overall average rating is: ' + str(aveRate))"
   ]
  },
  {
   "cell_type": "code",
   "execution_count": 5,
   "metadata": {
    "collapsed": false
   },
   "outputs": [],
   "source": [
    "def itemBias(itemID, aveRating):\n",
    "\n",
    "    #    use the trainReviews(dict) which is sorted by itemId\n",
    "\n",
    "    numRating = 0\n",
    "    sumRating = 0\n",
    "    if itemID in trainReviews:\n",
    "        for rating in trainReviews[itemID]:\n",
    "            numRating += 1\n",
    "            sumRating += float(rating['rating'])\n",
    "    else:#if there is no such itemID's rating the itemBias is zero\n",
    "        return 0\n",
    "    return sumRating / float(numRating) - aveRating\n",
    "\n",
    "def userBias(userID, aveRating):\n",
    "\n",
    "    #    use the trainOut format to find the userBias\n",
    "\n",
    "    numRating = 0\n",
    "    sumRating = 0\n",
    "    for review in trainDatas:\n",
    "        if review['userID'] == userID:\n",
    "            for rating in review[\"ratings\"]:\n",
    "                numRating += 1\n",
    "                sumRating += float(rating['rating'])\n",
    "            break#if get the user info then stop the loop\n",
    "    if numRating == 0:\n",
    "        return 0\n",
    "    return sumRating / float(numRating) - aveRating\n",
    "\n",
    "#get the user bias matrix from train data\n",
    "userBiases = {}\n",
    "for review in trainDatas:\n",
    "\tuserID = review['userID']\n",
    "\tuserBiases[userID] = userBias(userID, aveRate)\n",
    "\n",
    "#get the item bias matrix from train data\n",
    "itemBiases = {}\n",
    "for itemID in trainReviews:\n",
    "    itemBiases[itemID] = itemBias(itemID, aveRate)"
   ]
  },
  {
   "cell_type": "code",
   "execution_count": 6,
   "metadata": {
    "collapsed": false
   },
   "outputs": [
    {
     "name": "stdout",
     "output_type": "stream",
     "text": [
      "the basic model RMSE is: 33.7583316241\n",
      "the number of views in test data is: 59988\n"
     ]
    }
   ],
   "source": [
    "#check basic model RMSE\n",
    "errors = []\n",
    "count = 0\n",
    "squareSum = 0\n",
    "for review in testDatas:\n",
    "    userID = review['userID']\n",
    "    if userID not in userBiases:\n",
    "        continue\n",
    "    for rating in review['ratings']:\n",
    "        itemID = rating['itemID']\n",
    "        realRating = float(rating['rating'])\n",
    "        count += 1\n",
    "        if itemID in itemBiases:\n",
    "            squareSum += (aveRate + userBiases[userID] + itemBiases[itemID] - realRating) ** 2\n",
    "            errors.append(aveRate + userBiases[userID] + itemBiases[itemID] - realRating)\n",
    "        #if the current item does not exist in train data, the bias is zero\n",
    "        else:\n",
    "            squareSum += (aveRate + userBiases[userID] + 0 - realRating) ** 2\n",
    "            errors.append(aveRate + userBiases[userID] + 0 - realRating)\n",
    "\n",
    "RMSE = sqrt(squareSum / float(count))\n",
    "print('the basic model RMSE is: ' + str(RMSE))\n",
    "print('the number of views in test data is: ' + str(count))"
   ]
  },
  {
   "cell_type": "code",
   "execution_count": 7,
   "metadata": {
    "collapsed": false,
    "scrolled": true
   },
   "outputs": [
    {
     "data": {
      "text/plain": [
       "[<matplotlib.lines.Line2D at 0x1744e7090>]"
      ]
     },
     "execution_count": 7,
     "metadata": {},
     "output_type": "execute_result"
    },
    {
     "data": {
      "image/png": "[encoded data removed]",
      "text/plain": [
       "<matplotlib.figure.Figure at 0x16a83c850>"
      ]
     },
     "metadata": {},
     "output_type": "display_data"
    }
   ],
   "source": [
    "%matplotlib inline\n",
    "import matplotlib.pyplot as plt\n",
    "x = range(len(errors))\n",
    "y = errors\n",
    "plt.plot(x, y)"
   ]
  },
  {
   "cell_type": "code",
   "execution_count": 8,
   "metadata": {
    "collapsed": false
   },
   "outputs": [
    {
     "name": "stdout",
     "output_type": "stream",
     "text": [
      "-94.4926036046\n",
      "124.849977364\n"
     ]
    }
   ],
   "source": [
    "print min(errors)\n",
    "print max(errors)"
   ]
  },
  {
   "cell_type": "markdown",
   "metadata": {},
   "source": [
    "2.Add the taxnomy biases\n",
    "====="
   ]
  },
  {
   "cell_type": "code",
   "execution_count": 9,
   "metadata": {
    "collapsed": false
   },
   "outputs": [
    {
     "name": "stdout",
     "output_type": "stream",
     "text": [
      "the length of track list is:507172\n",
      "the length of artistList is:27888\n",
      "the length of albumList is:88909\n",
      "the length of genreList is:992\n"
     ]
    }
   ],
   "source": [
    "#===============================================taxonomy method\n",
    "#read the 4 type's all ID\n",
    "def readIDData(filename):\n",
    "\tlist = []\n",
    "\twith open(filename, 'r') as f:\n",
    "\t\tfor line in f:\n",
    "\t\t\tlist.append(line[:-1])#eliminate the newline character\n",
    "\treturn list\n",
    "#use add taxonomy bias\n",
    "trackList = readIDData('data_preprocess/track_out_idOnly.txt')\n",
    "artistList = readIDData('data_preprocess/artistData1.txt')\n",
    "albumList = readIDData('data_preprocess/album_out_idOnly.txt')\n",
    "genreList = readIDData('data_preprocess/genreData1.txt')\n",
    "\n",
    "print('the length of track list is:' + str(len(trackList)))\n",
    "print('the length of artistList is:' + str(len(artistList)))\n",
    "print('the length of albumList is:' + str(len(albumList)))\n",
    "print('the length of genreList is:' + str(len(genreList)))\n",
    "#print(len(genreList[0]))"
   ]
  },
  {
   "cell_type": "code",
   "execution_count": 10,
   "metadata": {
    "collapsed": false
   },
   "outputs": [
    {
     "name": "stdout",
     "output_type": "stream",
     "text": [
      "the size of trackBiases is: 507172\n",
      "the size of albumBiases is: 88909\n",
      "the size of artistBiases is: 27888\n",
      "the size of genreBiases is: 992\n"
     ]
    }
   ],
   "source": [
    "##\n",
    "#  extract the items biases with different types from the partial trainData\n",
    "##\n",
    "#extract the track bias\n",
    "trackBiases = {}\n",
    "for itemID in trackList:\n",
    "\tif itemID in trainReviews:\n",
    "\t\tsumRating = 0\n",
    "\t\tnumRating = 0\n",
    "\t\tfor rating in trainReviews[itemID]:\n",
    "\t\t\tsumRating += float(rating['rating'])\n",
    "\t\t\tnumRating += 1\n",
    "\t\ttrackBiases[itemID] = float(sumRating) / float(numRating) - aveRate\n",
    "\telse:\n",
    "\t\ttrackBiases[itemID] = 0\n",
    "print('the size of trackBiases is: ' + str(len(trackBiases)))\n",
    "\n",
    "#extract the album bias\n",
    "albumBiases = {}\n",
    "for itemID in albumList:\n",
    "\tif itemID in trainReviews:\n",
    "\t\tsumRating = 0\n",
    "\t\tnumRating = 0\n",
    "\t\tfor rating in trainReviews[itemID]:\n",
    "\t\t\tsumRating += float(rating['rating'])\n",
    "\t\t\tnumRating += 1\n",
    "\t\talbumBiases[itemID] = float(sumRating) / float(numRating) - aveRate\n",
    "\telse:\n",
    "\t\talbumBiases[itemID] = 0\n",
    "print('the size of albumBiases is: ' + str(len(albumBiases)))\n",
    "\n",
    "#extract the artist bias\n",
    "artistBiases = {}\n",
    "for itemID in artistList:\n",
    "\tif itemID in trainReviews:\n",
    "\t\tsumRating = 0\n",
    "\t\tnumRating = 0\n",
    "\t\tfor rating in trainReviews[itemID]:\n",
    "\t\t\tsumRating += float(rating['rating'])\n",
    "\t\t\tnumRating += 1\n",
    "\t\tartistBiases[itemID] = float(sumRating) / float(numRating) - aveRate\n",
    "\telse:\n",
    "\t\tartistBiases[itemID] = 0\n",
    "print('the size of artistBiases is: ' + str(len(artistBiases)))\n",
    "\n",
    "#extract the genre bias\n",
    "genreBiases = {}\n",
    "for itemID in genreList:\n",
    "\tif itemID in trainReviews:\n",
    "\t\tsumRating = 0\n",
    "\t\tnumRating = 0\n",
    "\t\tfor rating in trainReviews[itemID]:\n",
    "\t\t\tsumRating += float(rating['rating'])\n",
    "\t\t\tnumRating += 1\n",
    "\t\tgenreBiases[itemID] = float(sumRating) / float(numRating) - aveRate\n",
    "\telse:\n",
    "\t\tgenreBiases[itemID] = 0\n",
    "print('the size of genreBiases is: ' + str(len(genreBiases)))"
   ]
  },
  {
   "cell_type": "code",
   "execution_count": 11,
   "metadata": {
    "collapsed": false
   },
   "outputs": [
    {
     "name": "stdout",
     "output_type": "stream",
     "text": [
      "the size of track is: 507172\n",
      "{u'trackID': u'0', u'artistID': u'587636', u'genreList': [u'349388', u'159199', u'303996', u'378770'], u'albumID': u'224058'}\n"
     ]
    }
   ],
   "source": [
    "#read the tracks\n",
    "trackDatas = []\n",
    "readData('data_preprocess/trackOut.json', trackDatas)\n",
    "print('the size of track is: ' + str(len(trackDatas)))\n",
    "print(trackDatas[0])"
   ]
  },
  {
   "cell_type": "code",
   "execution_count": 12,
   "metadata": {
    "collapsed": false
   },
   "outputs": [
    {
     "name": "stdout",
     "output_type": "stream",
     "text": [
      "the number of tracks is: 507172\n",
      "{u'trackID': u'0', u'artistID': u'587636', u'genreList': [u'349388', u'159199', u'303996', u'378770'], u'albumID': u'224058'}\n"
     ]
    }
   ],
   "source": [
    "#construct the dict by trackID\n",
    "trackDict = {}\n",
    "for track in trackDatas:\n",
    "    trackDict[track['trackID']] = track\n",
    "print('the number of tracks is: ' + str(len(trackDict)))\n",
    "print(trackDict['0'])"
   ]
  },
  {
   "cell_type": "code",
   "execution_count": 13,
   "metadata": {
    "collapsed": false
   },
   "outputs": [],
   "source": [
    "#expand the track bias\n",
    "def getTaxTrackBias(itemID):\n",
    "    if itemID in trackBiases:#should check this, since not all track in this partial train data\n",
    "        bi = trackBiases[itemID]\n",
    "    else:\n",
    "        return 0\n",
    "    \n",
    "    genreRateSum = 0\n",
    "    genreNum = 0\n",
    "    biGenre = 0\n",
    "    biAlbum = 0\n",
    "    biArtist = 0\n",
    "    \n",
    "    track = trackDict[itemID]\n",
    "    if track[\"albumID\"] in albumBiases:\n",
    "        #assume that the track only belong to exactly one album\n",
    "        biAlbum = albumBiases[track[\"albumID\"]]\n",
    "            \n",
    "    if track['artistID'] in artistBiases:\n",
    "        #assume that the track only belong to exactly one artist\n",
    "        biArtist = artistBiases[track[\"artistID\"]]\n",
    "            \n",
    "    for genreID in track['genreList']:\n",
    "        if genreID in genreBiases:\n",
    "            genreRateSum += genreBiases[genreID]\n",
    "            genreNum += 1\n",
    "        if genreNum != 0:\n",
    "            biGenre = float(genreRateSum) / float(genreNum)\n",
    "        \n",
    "    taxTrackBias = bi + biAlbum + biArtist + biGenre\n",
    "\n",
    "    return taxTrackBias"
   ]
  },
  {
   "cell_type": "code",
   "execution_count": 14,
   "metadata": {
    "collapsed": false
   },
   "outputs": [
    {
     "name": "stdout",
     "output_type": "stream",
     "text": [
      "the size of track tax biases is: 225515\n"
     ]
    }
   ],
   "source": [
    "#pre-build the trackTaxBiases\n",
    "trackTaxBiases = {}\n",
    "for itemID in trainReviews:\n",
    "    if itemID in trackBiases:\n",
    "        trackTaxBiases[itemID] = getTaxTrackBias(itemID)\n",
    "print('the size of track tax biases is: ' + str(len(trackTaxBiases)))\n",
    "# print(trackTaxBiases['0'])"
   ]
  },
  {
   "cell_type": "code",
   "execution_count": 15,
   "metadata": {
    "collapsed": false
   },
   "outputs": [
    {
     "name": "stdout",
     "output_type": "stream",
     "text": [
      "the size of album is: 88909\n",
      "{u'albumID': u'9', u'artistID': u'7863', u'genreList': [u'600770', u'584872', u'247563']}\n"
     ]
    }
   ],
   "source": [
    "#read the albums \n",
    "albumDatas = []\n",
    "readData('data_preprocess/albumOut.json', albumDatas)\n",
    "print('the size of album is: ' + str(len(albumDatas)))\n",
    "print(albumDatas[0])"
   ]
  },
  {
   "cell_type": "code",
   "execution_count": 16,
   "metadata": {
    "collapsed": false
   },
   "outputs": [
    {
     "name": "stdout",
     "output_type": "stream",
     "text": [
      "the number of albums is: 88909\n",
      "{u'albumID': u'9', u'artistID': u'7863', u'genreList': [u'600770', u'584872', u'247563']}\n"
     ]
    }
   ],
   "source": [
    "#construct the dict by albumID\n",
    "albumDict = {}\n",
    "for album in albumDatas:\n",
    "    albumDict[album['albumID']] = album\n",
    "print('the number of albums is: ' + str(len(albumDict)))\n",
    "print(albumDict['9'])"
   ]
  },
  {
   "cell_type": "code",
   "execution_count": 17,
   "metadata": {
    "collapsed": false
   },
   "outputs": [],
   "source": [
    "#expand the album bias\n",
    "def getTaxAlbumBias(itemID):\n",
    "    if itemID in albumBiases:#should check this, since not all album in this partial data\n",
    "\t\tbi = albumBiases[itemID]\n",
    "    else:\n",
    "\t\treturn 0\n",
    "    \n",
    "    genreRateSum = 0\n",
    "    genreNum = 0\n",
    "    biGenre = 0\n",
    "    biArtist = 0\n",
    "    \n",
    "    album = albumDict[itemID]\n",
    "    if album['artistID'] in artistBiases:\n",
    "        #assume that the album only belong to exactly one artist\n",
    "        biArtist = artistBiases[album[\"artistID\"]]\n",
    "            \n",
    "    for genreID in album['genreList']:\n",
    "        if genreID in genreBiases:\n",
    "            genreRateSum += genreBiases[genreID]\n",
    "            genreNum += 1\n",
    "        if genreNum != 0:\n",
    "            biGenre = float(genreRateSum) / float(genreNum)\n",
    "    \n",
    "    taxAlbumBias = bi + biArtist + biGenre\n",
    "    return taxAlbumBias"
   ]
  },
  {
   "cell_type": "code",
   "execution_count": 18,
   "metadata": {
    "collapsed": false
   },
   "outputs": [
    {
     "name": "stdout",
     "output_type": "stream",
     "text": [
      "the size of album tax biases is: 53033\n",
      "-2.10935849503\n"
     ]
    }
   ],
   "source": [
    "#pre-build the albumTaxBiases\n",
    "albumTaxBiases = {}\n",
    "for itemID in trainReviews:\n",
    "    if itemID in albumBiases:\n",
    "        albumTaxBiases[itemID] = getTaxAlbumBias(itemID)\n",
    "print('the size of album tax biases is: ' + str(len(albumTaxBiases)))\n",
    "print(albumTaxBiases['9'])"
   ]
  },
  {
   "cell_type": "code",
   "execution_count": 19,
   "metadata": {
    "collapsed": false
   },
   "outputs": [
    {
     "name": "stdout",
     "output_type": "stream",
     "text": [
      "2.9171878218\n",
      "6.27330452852\n",
      "80.4688102407\n",
      "90.0\n",
      "the item taxonomy model RMSE is: 34.4441071989\n",
      "the number of views in test data is: 59988\n"
     ]
    }
   ],
   "source": [
    "#check the taxonomy bias model RMSE\n",
    "errors = []\n",
    "count = 0\n",
    "squareSum = 0\n",
    "for review in testDatas:\n",
    "    userID = review['userID']\n",
    "    if userID not in userBiases:\n",
    "        continue\n",
    "    for rating in review['ratings']:\n",
    "        itemID = rating['itemID']\n",
    "        realRating = float(rating['rating'])\n",
    "        count += 1\n",
    "        if itemID in itemBiases:\n",
    "            if itemID in trackBiases:\n",
    "                curItemBias = trackTaxBiases[itemID]              \n",
    "            elif itemID in albumBiases:\n",
    "                curItemBias = albumTaxBiases[itemID]               \n",
    "            else:\n",
    "                curItemBias = itemBiases[itemID]\n",
    "        #if the current item does not exist in train data, the bias is zero\n",
    "        else:\n",
    "            curItemBias = 0\n",
    "        curUserBias = userBiases[userID]\n",
    "            \n",
    "        squareSum += (aveRate + curItemBias + curUserBias - realRating) ** 2\n",
    "        errors.append(aveRate + curItemBias + curUserBias - realRating)\n",
    "        if count == 24356 + 1:\n",
    "#             print (len(errors))\n",
    "#             print errors[24356]\n",
    "            print curItemBias\n",
    "            print curUserBias\n",
    "            print aveRate + curItemBias + curUserBias\n",
    "            print realRating\n",
    "RMSE = sqrt(squareSum / float(count))\n",
    "print('the item taxonomy model RMSE is: ' + str(RMSE))\n",
    "print('the number of views in test data is: ' + str(count))"
   ]
  },
  {
   "cell_type": "code",
   "execution_count": 20,
   "metadata": {
    "collapsed": false
   },
   "outputs": [
    {
     "data": {
      "text/plain": [
       "[<matplotlib.lines.Line2D at 0x17114b5d0>]"
      ]
     },
     "execution_count": 20,
     "metadata": {},
     "output_type": "execute_result"
    },
    {
     "data": {
      "image/png": "[encoded data removed]",
      "text/plain": [
       "<matplotlib.figure.Figure at 0x1710f5450>"
      ]
     },
     "metadata": {},
     "output_type": "display_data"
    }
   ],
   "source": [
    "%matplotlib inline\n",
    "import matplotlib.pyplot as plt\n",
    "x = range(len(errors))\n",
    "y = errors\n",
    "plt.plot(x, y)"
   ]
  },
  {
   "cell_type": "code",
   "execution_count": 21,
   "metadata": {
    "collapsed": false
   },
   "outputs": [
    {
     "name": "stdout",
     "output_type": "stream",
     "text": [
      "-145.106025185\n",
      "150.946114448\n"
     ]
    }
   ],
   "source": [
    "print min(errors)\n",
    "print max(errors)"
   ]
  },
  {
   "cell_type": "code",
   "execution_count": 22,
   "metadata": {
    "collapsed": false
   },
   "outputs": [
    {
     "name": "stdout",
     "output_type": "stream",
     "text": [
      "15422\n",
      "-9.53118975932\n"
     ]
    }
   ],
   "source": [
    "import numpy as np\n",
    "ind = np.argmax(errors)\n",
    "print ind\n",
    "print errors[24356]"
   ]
  },
  {
   "cell_type": "markdown",
   "metadata": {},
   "source": [
    "3.add user taxonomy bias\n",
    "=="
   ]
  },
  {
   "cell_type": "code",
   "execution_count": 23,
   "metadata": {
    "collapsed": true
   },
   "outputs": [],
   "source": [
    "def userTaxBias(userID):\n",
    "    bu = userBiases[userID]\n",
    "    userTaxBiases = {'track':0,'album':0,'artist':0,'genre':0}\n",
    "    numTrackRate = 0\n",
    "    numAlbumRate = 0\n",
    "    numArtistRate = 0\n",
    "    numGenreRate = 0\n",
    "    \n",
    "    sumTrackRate = 0\n",
    "    sumAlbumRate = 0\n",
    "    sumArtistRate = 0\n",
    "    sumGenreRate = 0\n",
    "\n",
    "#     review = trainDatas[int(userID) - 30000]#since the ID of users is continuous\n",
    "    for curReview in trainDatas:\n",
    "        if curReview['userID'] == userID:\n",
    "            review = curReview#since the ID of users is continuous\n",
    "            break\n",
    "    \n",
    "    for rating in review['ratings']:\n",
    "        itemID = rating['itemID']\n",
    "        score = float(rating['rating'])\n",
    "        if itemID in trackBiases:\n",
    "            sumTrackRate += score\n",
    "            numTrackRate += 1\n",
    "        elif itemID in albumBiases:\n",
    "            sumAlbumRate += score\n",
    "            numAlbumRate += 1\n",
    "        elif itemID in artistBiases:\n",
    "            sumArtistRate += score\n",
    "            numArtistRate += 1\n",
    "        elif itemID in genreBiases:\n",
    "            sumGenreRate += score\n",
    "            numGenreRate += 1\n",
    "    if numTrackRate != 0:\n",
    "        userTaxBiases['track'] = sumTrackRate / float(numTrackRate) - aveRate\n",
    "    if numAlbumRate != 0:   \n",
    "        userTaxBiases['album'] = sumAlbumRate / float(numAlbumRate) - aveRate\n",
    "    if numArtistRate != 0:\n",
    "        userTaxBiases['artist'] = sumArtistRate / float(numArtistRate) - aveRate\n",
    "    if numGenreRate != 0:\n",
    "        userTaxBiases['genre'] = sumGenreRate / float(numGenreRate) - aveRate\n",
    "    \n",
    "    return userTaxBiases"
   ]
  },
  {
   "cell_type": "code",
   "execution_count": 24,
   "metadata": {
    "collapsed": false
   },
   "outputs": [
    {
     "name": "stdout",
     "output_type": "stream",
     "text": [
      "the number of users in train data is: 9998\n"
     ]
    }
   ],
   "source": [
    "#pre-build the tax user biases\n",
    "userTaxBiases = {}\n",
    "for review in trainDatas:\n",
    "    userID = review['userID']\n",
    "    userTaxBiases[userID] = userTaxBias(userID)\n",
    "print('the number of users in train data is: ' + str(len(userTaxBiases)))\n",
    "# print(userTaxBiases['0'])"
   ]
  },
  {
   "cell_type": "code",
   "execution_count": 25,
   "metadata": {
    "collapsed": false
   },
   "outputs": [
    {
     "name": "stdout",
     "output_type": "stream",
     "text": [
      "the full taxonomy model RMSE is: 33.8114327785\n",
      "the number of views in test data is: 59988\n"
     ]
    }
   ],
   "source": [
    "#check the RMSE with full taxonomy bias model\n",
    "errors = []\n",
    "count = 0\n",
    "squareSum = 0\n",
    "for review in testDatas:\n",
    "    userID = review['userID']\n",
    "    if userID not in userBiases:\n",
    "        continue\n",
    "    for rating in review['ratings']:\n",
    "        itemID = rating['itemID']\n",
    "        realRating = float(rating['rating'])\n",
    "        count += 1\n",
    "        if itemID in itemBiases:\n",
    "            if itemID in trackBiases:\n",
    "                curItemBias = trackTaxBiases[itemID]\n",
    "                curUserBias = userTaxBiases[userID]['track']\n",
    "            elif itemID in albumBiases:\n",
    "                curItemBias = albumTaxBiases[itemID]\n",
    "                curUserBias = userTaxBiases[userID]['album']\n",
    "            else:\n",
    "                if itemID in artistBiases:\n",
    "                    curUserBias = userTaxBiases[userID]['artist']\n",
    "                elif itemID in genreBiases:\n",
    "                    curUserBias = userTaxBiases[userID]['genre']\n",
    "                curItemBias = itemBiases[itemID]\n",
    "        #if the current item does not exist in train data, the bias is zero\n",
    "        else:\n",
    "            curItemBias = 0\n",
    "        squareSum += (aveRate + curItemBias + curUserBias - realRating) ** 2 \n",
    "        errors.append(aveRate + curItemBias + curUserBias - realRating)\n",
    "#         squareSum += (aveRate + userBiases[userID] + curItemBias + curUserBias - realRating) ** 2\n",
    "\n",
    "            \n",
    "RMSE = sqrt(squareSum / float(count))\n",
    "print('the full taxonomy model RMSE is: ' + str(RMSE))\n",
    "print('the number of views in test data is: ' + str(count))"
   ]
  },
  {
   "cell_type": "code",
   "execution_count": 26,
   "metadata": {
    "collapsed": false
   },
   "outputs": [
    {
     "data": {
      "text/plain": [
       "[<matplotlib.lines.Line2D at 0x1a09d9790>]"
      ]
     },
     "execution_count": 26,
     "metadata": {},
     "output_type": "execute_result"
    },
    {
     "data": {
      "image/png": "[encoded data removed]",
      "text/plain": [
       "<matplotlib.figure.Figure at 0x1710f5f10>"
      ]
     },
     "metadata": {},
     "output_type": "display_data"
    }
   ],
   "source": [
    "%matplotlib inline\n",
    "import matplotlib.pyplot as plt\n",
    "x = range(len(errors))\n",
    "y = errors\n",
    "plt.plot(x, y)"
   ]
  },
  {
   "cell_type": "markdown",
   "metadata": {
    "collapsed": true
   },
   "source": [
    "the full taxonomy model RMSE is: 54.6062826709 (the userItem add the original one)\n",
    "\n",
    "the full taxonomy model RMSE is: 37.4768260566"
   ]
  },
  {
   "cell_type": "markdown",
   "metadata": {},
   "source": [
    "go to use the other 1w users to test the model and to see the different RMSE"
   ]
  },
  {
   "cell_type": "markdown",
   "metadata": {},
   "source": [
    "4. add user session model\n",
    "==="
   ]
  },
  {
   "cell_type": "code",
   "execution_count": 27,
   "metadata": {
    "collapsed": false
   },
   "outputs": [],
   "source": [
    "def getUserSessionBias(ratings):\n",
    "    userSessionBias = {}\n",
    "    count = {}\n",
    "    for rating in ratings:\n",
    "        number = rating['number']\n",
    "        if number in userSessionBias:\n",
    "            userSessionBias[number] += float(rating['rating'])\n",
    "            count[number] += 1\n",
    "        else:\n",
    "            userSessionBias[number] = float(rating['rating'])\n",
    "            count[number] = 1\n",
    "    for number in userSessionBias.keys():\n",
    "        userSessionBias[number] = userSessionBias[number] / float(count[number]) - aveRate\n",
    "    return userSessionBias"
   ]
  },
  {
   "cell_type": "code",
   "execution_count": 28,
   "metadata": {
    "collapsed": true
   },
   "outputs": [],
   "source": [
    "#get the user's session biases \n",
    "userSessionBiases = {}\n",
    "for review in trainDatas:\n",
    "    userID = review['userID']\n",
    "    userSessionBiases[userID] = getUserSessionBias(review['ratings'])"
   ]
  },
  {
   "cell_type": "code",
   "execution_count": 29,
   "metadata": {
    "collapsed": false
   },
   "outputs": [
    {
     "name": "stdout",
     "output_type": "stream",
     "text": [
      "the full taxonomy model with user session bias RMSE is: 37.9934142785\n",
      "the number of views in test data is: 59988\n"
     ]
    }
   ],
   "source": [
    "#check the RMSE with addtion of user session bias\n",
    "predRatings = []\n",
    "realRatings = []\n",
    "errors = []\n",
    "count = 0\n",
    "squareSum = 0\n",
    "for review in testDatas:\n",
    "    userID = review['userID']\n",
    "    if userID not in userBiases:\n",
    "        continue\n",
    "    for rating in review['ratings']:\n",
    "        itemID = rating['itemID']\n",
    "        realRating = float(rating['rating'])\n",
    "        count += 1\n",
    "        if itemID in itemBiases:\n",
    "            if itemID in trackBiases:\n",
    "                curItemBias = trackTaxBiases[itemID]\n",
    "                curUserBias = userTaxBiases[userID]['track']\n",
    "            elif itemID in albumBiases:\n",
    "                curItemBias = albumTaxBiases[itemID]\n",
    "                curUserBias = userTaxBiases[userID]['album']\n",
    "            else:\n",
    "                if itemID in artistBiases:\n",
    "                    curUserBias = userTaxBiases[userID]['artist']\n",
    "                elif itemID in genreBiases:\n",
    "                    curUserBias = userTaxBiases[userID]['genre']\n",
    "                curItemBias = itemBiases[itemID]\n",
    "        #if the current item does not exist in train data, the bias is zero\n",
    "        else:\n",
    "            curItemBias = 0\n",
    "        #check if user has session bias\n",
    "        if rating['number'] in userSessionBiases[userID]:\n",
    "            curUserBias += userSessionBiases[userID][rating['number']]\n",
    "        \n",
    "        \n",
    "        squareSum += (aveRate + curItemBias + curUserBias - realRating) ** 2 \n",
    "        predRatings.append(aveRate + curItemBias + curUserBias)\n",
    "        realRatings.append(realRating)\n",
    "        errors.append(aveRate + curItemBias + curUserBias - realRating)\n",
    "#         squareSum += (aveRate + userBiases[userID] + curItemBias + curUserBias - realRating) ** 2\n",
    "\n",
    "            \n",
    "RMSE = sqrt(squareSum / float(count))\n",
    "print('the full taxonomy model with user session bias RMSE is: ' + str(RMSE))\n",
    "print('the number of views in test data is: ' + str(count))"
   ]
  },
  {
   "cell_type": "code",
   "execution_count": 30,
   "metadata": {
    "collapsed": false
   },
   "outputs": [
    {
     "data": {
      "text/plain": [
       "[<matplotlib.lines.Line2D at 0x1a08e2b50>]"
      ]
     },
     "execution_count": 30,
     "metadata": {},
     "output_type": "execute_result"
    },
    {
     "data": {
      "image/png": "[encoded data removed]",
      "text/plain": [
       "<matplotlib.figure.Figure at 0x1a09f4a90>"
      ]
     },
     "metadata": {},
     "output_type": "display_data"
    }
   ],
   "source": [
    "%matplotlib inline\n",
    "import matplotlib.pyplot as plt\n",
    "x = range(len(errors))\n",
    "y = errors\n",
    "plt.plot(x, y)"
   ]
  },
  {
   "cell_type": "markdown",
   "metadata": {},
   "source": [
    "the data shows that the user could rate too many items in one minute which is not useful to do user dynamics bias model"
   ]
  },
  {
   "cell_type": "code",
   "execution_count": 32,
   "metadata": {
    "collapsed": false
   },
   "outputs": [
    {
     "name": "stdout",
     "output_type": "stream",
     "text": [
      "371740\n"
     ]
    }
   ],
   "source": [
    "print(len(trainReviews.keys()))\n",
    "itemsKeys = trainReviews.keys()"
   ]
  },
  {
   "cell_type": "markdown",
   "metadata": {},
   "source": [
    "5. Add Shining Point to Model\n",
    "==="
   ]
  },
  {
   "cell_type": "code",
   "execution_count": 63,
   "metadata": {
    "collapsed": false
   },
   "outputs": [],
   "source": [
    "#delete users who rating=0 \n",
    "import json\n",
    "def cutDataNoZero(input_filename, output_filename,lines):\n",
    "    with open(input_filename, 'r') as f:\n",
    "        for i in range(lines):\n",
    "            curlist = []\n",
    "            curUserReview = json.loads(f.readline())\n",
    "            for j in range (len(curUserReview['ratings'])):\n",
    "                if int(curUserReview['ratings'][j]['rating']) != 0:\n",
    "                    curlist.append(curUserReview['ratings'][j])\n",
    "            if len(curlist)==0:\n",
    "                continue\n",
    "            curUserReview['ratings'] = curlist\n",
    "            with open (output_filename,'a') as wf:\n",
    "                json.dump(curUserReview,wf)\n",
    "                wf.write('\\n')"
   ]
  },
  {
   "cell_type": "code",
   "execution_count": 64,
   "metadata": {
    "collapsed": true
   },
   "outputs": [],
   "source": [
    "cutDataNoZero('trainOut1w.json', 'trainOutNoZero.json',10000)"
   ]
  },
  {
   "cell_type": "code",
   "execution_count": 65,
   "metadata": {
    "collapsed": true
   },
   "outputs": [],
   "source": [
    "cutDataNoZero('testOut1w.json', 'testOutNoZero.json',10000)"
   ]
  },
  {
   "cell_type": "code",
   "execution_count": 91,
   "metadata": {
    "collapsed": false
   },
   "outputs": [],
   "source": [
    "#delete users who rating=0 and 100\n",
    "import json\n",
    "def cutDataNoExtreme(input_filename, output_filename,lines):\n",
    "    with open(input_filename, 'r') as f:\n",
    "        for i in range(lines):\n",
    "            curlist = []\n",
    "            curUserReview = json.loads(f.readline())\n",
    "            for j in range (len(curUserReview['ratings'])):\n",
    "                if (int(curUserReview['ratings'][j]['rating']) != 0) and (int(curUserReview['ratings'][j]['rating']) != 100):\n",
    "                    curlist.append(curUserReview['ratings'][j])\n",
    "            if len(curlist)==0:\n",
    "                continue\n",
    "            curUserReview['ratings'] = curlist\n",
    "            with open (output_filename,'a') as wf:\n",
    "                json.dump(curUserReview,wf)\n",
    "                wf.write('\\n')"
   ]
  },
  {
   "cell_type": "code",
   "execution_count": 92,
   "metadata": {
    "collapsed": true
   },
   "outputs": [],
   "source": [
    "cutDataNoExtreme('trainOut1w.json', 'trainOutNoExtreme.json',10000)\n",
    "cutDataNoExtreme('testOut1w.json', 'testOutNoExtreme.json',10000)"
   ]
  },
  {
   "cell_type": "code",
   "execution_count": null,
   "metadata": {
    "collapsed": true
   },
   "outputs": [],
   "source": []
  }
 ],
 "metadata": {
  "kernelspec": {
   "display_name": "Python 2",
   "language": "python",
   "name": "python2"
  },
  "language_info": {
   "codemirror_mode": {
    "name": "ipython",
    "version": 2
   },
   "file_extension": ".py",
   "mimetype": "text/x-python",
   "name": "python",
   "nbconvert_exporter": "python",
   "pygments_lexer": "ipython2",
   "version": "2.7.13"
  }
 },
 "nbformat": 4,
 "nbformat_minor": 2
}
