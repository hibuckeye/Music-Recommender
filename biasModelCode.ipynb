{
 "cells": [
  {
   "cell_type": "markdown",
   "metadata": {},
   "source": [
    "1.basic bias model\n",
    "=="
   ]
  },
  {
   "cell_type": "code",
   "execution_count": 1,
   "metadata": {
    "collapsed": false
   },
   "outputs": [
    {
     "name": "stdout",
     "output_type": "stream",
     "text": [
      "the number of users in trainning data is:10000\n",
      "\n"
     ]
    }
   ],
   "source": [
    "import json\n",
    "from math import sqrt\n",
    "\n",
    "def readData(filename, list):\n",
    "\twith open(filename, 'r') as f:\n",
    "\t\tfor line in f:\n",
    "\t\t\tlist.append(json.loads(line))\n",
    "\n",
    "#load the trainning data\n",
    "trainDatas = []\n",
    "# readData('data_preprocess/trainOut2w.json', trainDatas)\n",
    "readData('data_preprocess/trainOut3WTo4W.json', trainDatas)\n",
    "print(\"the number of users in trainning data is:\" + str(len(trainDatas)) + \"\\n\")\n",
    "#print(trainDatas[0])"
   ]
  },
  {
   "cell_type": "code",
   "execution_count": 2,
   "metadata": {
    "collapsed": false
   },
   "outputs": [
    {
     "name": "stdout",
     "output_type": "stream",
     "text": [
      "the number of distinct items is: 348198\n"
     ]
    }
   ],
   "source": [
    "#construct the dict by itemID\n",
    "trainReviews = {}#improve the speed of finding\n",
    "for review in trainDatas:\n",
    "    for rating in review[\"ratings\"]:\n",
    "        itemID = rating[\"itemID\"]\n",
    "        if itemID in trainReviews:\n",
    "            trainReviews[itemID].append(rating)\n",
    "        else:\n",
    "            trainReviews[itemID] = [rating]\n",
    "print('the number of distinct items is: ' + str(len(trainReviews)))"
   ]
  },
  {
   "cell_type": "code",
   "execution_count": 3,
   "metadata": {
    "collapsed": false
   },
   "outputs": [
    {
     "name": "stdout",
     "output_type": "stream",
     "text": [
      "the number of users in test data is:10000\n",
      "\n"
     ]
    }
   ],
   "source": [
    "#load the test data\n",
    "testDatas = []\n",
    "# readData('data_preprocess/testOut2w.json', testDatas)\n",
    "readData('data_preprocess/testOut3WTo4W.json', testDatas)\n",
    "print(\"the number of users in test data is:\" + str(len(testDatas)) + \"\\n\")\n",
    "#print(testDatas[0])"
   ]
  },
  {
   "cell_type": "code",
   "execution_count": 4,
   "metadata": {
    "collapsed": false
   },
   "outputs": [
    {
     "name": "stdout",
     "output_type": "stream",
     "text": [
      "the overall average rating is: 47.3454812623\n"
     ]
    }
   ],
   "source": [
    "#the average of all rating\n",
    "aveRate = 0\n",
    "count = 0\n",
    "for review in trainDatas:\n",
    "    for rating in review[\"ratings\"]:\n",
    "        aveRate += int(rating[\"rating\"])\n",
    "        count += 1\n",
    "aveRate /= float(count)\n",
    "print('the overall average rating is: ' + str(aveRate))"
   ]
  },
  {
   "cell_type": "code",
   "execution_count": 5,
   "metadata": {
    "collapsed": false
   },
   "outputs": [],
   "source": [
    "def itemBias(itemID, aveRating):\n",
    "\n",
    "    #    use the trainReviews(dict) which is sorted by itemId\n",
    "\n",
    "    numRating = 0\n",
    "    sumRating = 0\n",
    "    if itemID in trainReviews:\n",
    "        for rating in trainReviews[itemID]:\n",
    "            numRating += 1\n",
    "            sumRating += float(rating['rating'])\n",
    "    else:#if there is no such itemID's rating the itemBias is zero\n",
    "        return 0\n",
    "    return sumRating / float(numRating) - aveRating\n",
    "\n",
    "def userBias(userID, aveRating):\n",
    "\n",
    "    #    use the trainOut format to find the userBias\n",
    "\n",
    "    numRating = 0\n",
    "    sumRating = 0\n",
    "    for review in trainDatas:\n",
    "        if review['userID'] == userID:\n",
    "            for rating in review[\"ratings\"]:\n",
    "                numRating += 1\n",
    "                sumRating += float(rating['rating'])\n",
    "            break#if get the user info then stop the loop\n",
    "    if numRating == 0:\n",
    "        return 0\n",
    "    return sumRating / float(numRating) - aveRating\n",
    "\n",
    "#get the user bias matrix from train data\n",
    "userBiases = {}\n",
    "for review in trainDatas:\n",
    "\tuserID = review['userID']\n",
    "\tuserBiases[userID] = userBias(userID, aveRate)\n",
    "\n",
    "#get the item bias matrix from train data\n",
    "itemBiases = {}\n",
    "for itemID in trainReviews:\n",
    "    itemBiases[itemID] = itemBias(itemID, aveRate)"
   ]
  },
  {
   "cell_type": "code",
   "execution_count": 6,
   "metadata": {
    "collapsed": false
   },
   "outputs": [
    {
     "name": "stdout",
     "output_type": "stream",
     "text": [
      "the basic model RMSE is: 33.4085123379\n",
      "the number of views in test data is: 60000\n"
     ]
    }
   ],
   "source": [
    "#check basic model RMSE\n",
    "errors = []\n",
    "count = 0\n",
    "squareSum = 0\n",
    "for review in testDatas:\n",
    "    userID = review['userID']\n",
    "    for rating in review['ratings']:\n",
    "        itemID = rating['itemID']\n",
    "        realRating = float(rating['rating'])\n",
    "        count += 1\n",
    "        if itemID in itemBiases:\n",
    "            squareSum += (aveRate + userBiases[userID] + itemBiases[itemID] - realRating) ** 2\n",
    "            errors.append(aveRate + userBiases[userID] + itemBiases[itemID] - realRating)\n",
    "        #if the current item does not exist in train data, the bias is zero\n",
    "        else:\n",
    "            squareSum += (aveRate + userBiases[userID] + 0 - realRating) ** 2\n",
    "            errors.append(aveRate + userBiases[userID] + 0 - realRating)\n",
    "\n",
    "RMSE = sqrt(squareSum / float(count))\n",
    "print('the basic model RMSE is: ' + str(RMSE))\n",
    "print('the number of views in test data is: ' + str(count))"
   ]
  },
  {
   "cell_type": "code",
   "execution_count": 7,
   "metadata": {
    "collapsed": false,
    "scrolled": true
   },
   "outputs": [
    {
     "data": {
      "text/plain": [
       "[<matplotlib.lines.Line2D at 0x198501dd0>]"
      ]
     },
     "execution_count": 7,
     "metadata": {},
     "output_type": "execute_result"
    },
    {
     "data": {
      "image/png": "[encoded data removed]",
      "text/plain": [
       "<matplotlib.figure.Figure at 0x18e870510>"
      ]
     },
     "metadata": {},
     "output_type": "display_data"
    }
   ],
   "source": [
    "%matplotlib inline\n",
    "import matplotlib.pyplot as plt\n",
    "x = range(len(errors))\n",
    "y = errors\n",
    "plt.plot(x, y)"
   ]
  },
  {
   "cell_type": "code",
   "execution_count": 8,
   "metadata": {
    "collapsed": false
   },
   "outputs": [
    {
     "name": "stdout",
     "output_type": "stream",
     "text": [
      "-132.39632872\n",
      "141.116057199\n"
     ]
    }
   ],
   "source": [
    "print min(errors)\n",
    "print max(errors)"
   ]
  },
  {
   "cell_type": "markdown",
   "metadata": {},
   "source": [
    "2.Add the taxnomy biases\n",
    "====="
   ]
  },
  {
   "cell_type": "code",
   "execution_count": 9,
   "metadata": {
    "collapsed": false
   },
   "outputs": [
    {
     "name": "stdout",
     "output_type": "stream",
     "text": [
      "the length of track list is:507172\n",
      "the length of artistList is:27888\n",
      "the length of albumList is:88909\n",
      "the length of genreList is:992\n"
     ]
    }
   ],
   "source": [
    "#===============================================taxonomy method\n",
    "#read the 4 type's all ID\n",
    "def readIDData(filename):\n",
    "\tlist = []\n",
    "\twith open(filename, 'r') as f:\n",
    "\t\tfor line in f:\n",
    "\t\t\tlist.append(line[:-1])#eliminate the newline character\n",
    "\treturn list\n",
    "#use add taxonomy bias\n",
    "trackList = readIDData('data_preprocess/track_out_idOnly.txt')\n",
    "artistList = readIDData('data_preprocess/artistData1.txt')\n",
    "albumList = readIDData('data_preprocess/album_out_idOnly.txt')\n",
    "genreList = readIDData('data_preprocess/genreData1.txt')\n",
    "\n",
    "print('the length of track list is:' + str(len(trackList)))\n",
    "print('the length of artistList is:' + str(len(artistList)))\n",
    "print('the length of albumList is:' + str(len(albumList)))\n",
    "print('the length of genreList is:' + str(len(genreList)))\n",
    "#print(len(genreList[0]))"
   ]
  },
  {
   "cell_type": "code",
   "execution_count": 10,
   "metadata": {
    "collapsed": false
   },
   "outputs": [
    {
     "name": "stdout",
     "output_type": "stream",
     "text": [
      "the size of trackBiases is: 507172\n",
      "the size of albumBiases is: 88909\n",
      "the size of artistBiases is: 27888\n",
      "the size of genreBiases is: 992\n"
     ]
    }
   ],
   "source": [
    "##\n",
    "#  extract the items biases with different types from the partial trainData\n",
    "##\n",
    "#extract the track bias\n",
    "trackBiases = {}\n",
    "for itemID in trackList:\n",
    "\tif itemID in trainReviews:\n",
    "\t\tsumRating = 0\n",
    "\t\tnumRating = 0\n",
    "\t\tfor rating in trainReviews[itemID]:\n",
    "\t\t\tsumRating += float(rating['rating'])\n",
    "\t\t\tnumRating += 1\n",
    "\t\ttrackBiases[itemID] = float(sumRating) / float(numRating) - aveRate\n",
    "\telse:\n",
    "\t\ttrackBiases[itemID] = 0\n",
    "print('the size of trackBiases is: ' + str(len(trackBiases)))\n",
    "\n",
    "#extract the album bias\n",
    "albumBiases = {}\n",
    "for itemID in albumList:\n",
    "\tif itemID in trainReviews:\n",
    "\t\tsumRating = 0\n",
    "\t\tnumRating = 0\n",
    "\t\tfor rating in trainReviews[itemID]:\n",
    "\t\t\tsumRating += float(rating['rating'])\n",
    "\t\t\tnumRating += 1\n",
    "\t\talbumBiases[itemID] = float(sumRating) / float(numRating) - aveRate\n",
    "\telse:\n",
    "\t\talbumBiases[itemID] = 0\n",
    "print('the size of albumBiases is: ' + str(len(albumBiases)))\n",
    "\n",
    "#extract the artist bias\n",
    "artistBiases = {}\n",
    "for itemID in artistList:\n",
    "\tif itemID in trainReviews:\n",
    "\t\tsumRating = 0\n",
    "\t\tnumRating = 0\n",
    "\t\tfor rating in trainReviews[itemID]:\n",
    "\t\t\tsumRating += float(rating['rating'])\n",
    "\t\t\tnumRating += 1\n",
    "\t\tartistBiases[itemID] = float(sumRating) / float(numRating) - aveRate\n",
    "\telse:\n",
    "\t\tartistBiases[itemID] = 0\n",
    "print('the size of artistBiases is: ' + str(len(artistBiases)))\n",
    "\n",
    "#extract the genre bias\n",
    "genreBiases = {}\n",
    "for itemID in genreList:\n",
    "\tif itemID in trainReviews:\n",
    "\t\tsumRating = 0\n",
    "\t\tnumRating = 0\n",
    "\t\tfor rating in trainReviews[itemID]:\n",
    "\t\t\tsumRating += float(rating['rating'])\n",
    "\t\t\tnumRating += 1\n",
    "\t\tgenreBiases[itemID] = float(sumRating) / float(numRating) - aveRate\n",
    "\telse:\n",
    "\t\tgenreBiases[itemID] = 0\n",
    "print('the size of genreBiases is: ' + str(len(genreBiases)))"
   ]
  },
  {
   "cell_type": "code",
   "execution_count": 11,
   "metadata": {
    "collapsed": false
   },
   "outputs": [
    {
     "name": "stdout",
     "output_type": "stream",
     "text": [
      "the size of track is: 507172\n",
      "{u'trackID': u'0', u'artistID': u'587636', u'genreList': [u'349388', u'159199', u'303996', u'378770'], u'albumID': u'224058'}\n"
     ]
    }
   ],
   "source": [
    "#read the tracks\n",
    "trackDatas = []\n",
    "readData('data_preprocess/trackOut.json', trackDatas)\n",
    "print('the size of track is: ' + str(len(trackDatas)))\n",
    "print(trackDatas[0])"
   ]
  },
  {
   "cell_type": "code",
   "execution_count": 12,
   "metadata": {
    "collapsed": false
   },
   "outputs": [
    {
     "name": "stdout",
     "output_type": "stream",
     "text": [
      "the number of tracks is: 507172\n",
      "{u'trackID': u'0', u'artistID': u'587636', u'genreList': [u'349388', u'159199', u'303996', u'378770'], u'albumID': u'224058'}\n"
     ]
    }
   ],
   "source": [
    "#construct the dict by trackID\n",
    "trackDict = {}\n",
    "for track in trackDatas:\n",
    "    trackDict[track['trackID']] = track\n",
    "print('the number of tracks is: ' + str(len(trackDict)))\n",
    "print(trackDict['0'])"
   ]
  },
  {
   "cell_type": "code",
   "execution_count": 13,
   "metadata": {
    "collapsed": false
   },
   "outputs": [],
   "source": [
    "#expand the track bias\n",
    "def getTaxTrackBias(itemID):\n",
    "    if itemID in trackBiases:#should check this, since not all track in this partial train data\n",
    "        bi = trackBiases[itemID]\n",
    "    else:\n",
    "        return 0\n",
    "    \n",
    "    genreRateSum = 0\n",
    "    genreNum = 0\n",
    "    biGenre = 0\n",
    "    biAlbum = 0\n",
    "    biArtist = 0\n",
    "    \n",
    "    track = trackDict[itemID]\n",
    "    if track[\"albumID\"] in albumBiases:\n",
    "        #assume that the track only belong to exactly one album\n",
    "        biAlbum = albumBiases[track[\"albumID\"]]\n",
    "            \n",
    "    if track['artistID'] in artistBiases:\n",
    "        #assume that the track only belong to exactly one artist\n",
    "        biArtist = artistBiases[track[\"artistID\"]]\n",
    "            \n",
    "    for genreID in track['genreList']:\n",
    "        if genreID in genreBiases:\n",
    "            genreRateSum += genreBiases[genreID]\n",
    "            genreNum += 1\n",
    "        if genreNum != 0:\n",
    "            biGenre = float(genreRateSum) / float(genreNum)\n",
    "        \n",
    "    taxTrackBias = bi + biAlbum + biArtist + biGenre\n",
    "\n",
    "    return taxTrackBias"
   ]
  },
  {
   "cell_type": "code",
   "execution_count": 15,
   "metadata": {
    "collapsed": false
   },
   "outputs": [
    {
     "name": "stdout",
     "output_type": "stream",
     "text": [
      "the size of track tax biases is: 266162\n"
     ]
    }
   ],
   "source": [
    "#pre-build the trackTaxBiases\n",
    "trackTaxBiases = {}\n",
    "for itemID in trainReviews:\n",
    "    if itemID in trackBiases:\n",
    "        trackTaxBiases[itemID] = getTaxTrackBias(itemID)\n",
    "print('the size of track tax biases is: ' + str(len(trackTaxBiases)))\n",
    "# print(trackTaxBiases['0'])"
   ]
  },
  {
   "cell_type": "code",
   "execution_count": 16,
   "metadata": {
    "collapsed": false
   },
   "outputs": [
    {
     "name": "stdout",
     "output_type": "stream",
     "text": [
      "the size of album is: 88909\n",
      "{u'albumID': u'9', u'artistID': u'7863', u'genreList': [u'600770', u'584872', u'247563']}\n"
     ]
    }
   ],
   "source": [
    "#read the albums \n",
    "albumDatas = []\n",
    "readData('data_preprocess/albumOut.json', albumDatas)\n",
    "print('the size of album is: ' + str(len(albumDatas)))\n",
    "print(albumDatas[0])"
   ]
  },
  {
   "cell_type": "code",
   "execution_count": 17,
   "metadata": {
    "collapsed": false
   },
   "outputs": [
    {
     "name": "stdout",
     "output_type": "stream",
     "text": [
      "the number of albums is: 88909\n",
      "{u'albumID': u'9', u'artistID': u'7863', u'genreList': [u'600770', u'584872', u'247563']}\n"
     ]
    }
   ],
   "source": [
    "#construct the dict by albumID\n",
    "albumDict = {}\n",
    "for album in albumDatas:\n",
    "    albumDict[album['albumID']] = album\n",
    "print('the number of albums is: ' + str(len(albumDict)))\n",
    "print(albumDict['9'])"
   ]
  },
  {
   "cell_type": "code",
   "execution_count": 18,
   "metadata": {
    "collapsed": false
   },
   "outputs": [],
   "source": [
    "#expand the album bias\n",
    "def getTaxAlbumBias(itemID):\n",
    "    if itemID in albumBiases:#should check this, since not all album in this partial data\n",
    "\t\tbi = albumBiases[itemID]\n",
    "    else:\n",
    "\t\treturn 0\n",
    "    \n",
    "    genreRateSum = 0\n",
    "    genreNum = 0\n",
    "    biGenre = 0\n",
    "    biArtist = 0\n",
    "    \n",
    "    album = albumDict[itemID]\n",
    "    if album['artistID'] in artistBiases:\n",
    "        #assume that the album only belong to exactly one artist\n",
    "        biArtist = artistBiases[album[\"artistID\"]]\n",
    "            \n",
    "    for genreID in album['genreList']:\n",
    "        if genreID in genreBiases:\n",
    "            genreRateSum += genreBiases[genreID]\n",
    "            genreNum += 1\n",
    "        if genreNum != 0:\n",
    "            biGenre = float(genreRateSum) / float(genreNum)\n",
    "    \n",
    "    taxAlbumBias = bi + biArtist + biGenre\n",
    "    return taxAlbumBias"
   ]
  },
  {
   "cell_type": "code",
   "execution_count": 19,
   "metadata": {
    "collapsed": false
   },
   "outputs": [
    {
     "name": "stdout",
     "output_type": "stream",
     "text": [
      "the size of album tax biases is: 60569\n",
      "-29.4375896378\n"
     ]
    }
   ],
   "source": [
    "#pre-build the albumTaxBiases\n",
    "albumTaxBiases = {}\n",
    "for itemID in trainReviews:\n",
    "    if itemID in albumBiases:\n",
    "        albumTaxBiases[itemID] = getTaxAlbumBias(itemID)\n",
    "print('the size of album tax biases is: ' + str(len(albumTaxBiases)))\n",
    "print(albumTaxBiases['9'])"
   ]
  },
  {
   "cell_type": "code",
   "execution_count": 20,
   "metadata": {
    "collapsed": false
   },
   "outputs": [
    {
     "name": "stdout",
     "output_type": "stream",
     "text": [
      "86.5834079882\n",
      "3.17399925721\n",
      "137.102888508\n",
      "0.0\n",
      "the item taxonomy model RMSE is: 41.5677396244\n",
      "the number of views in test data is: 60000\n"
     ]
    }
   ],
   "source": [
    "#check the taxonomy bias model RMSE\n",
    "errors = []\n",
    "count = 0\n",
    "squareSum = 0\n",
    "for review in testDatas:\n",
    "    userID = review['userID']\n",
    "    for rating in review['ratings']:\n",
    "        itemID = rating['itemID']\n",
    "        realRating = float(rating['rating'])\n",
    "        count += 1\n",
    "        if itemID in itemBiases:\n",
    "            if itemID in trackBiases:\n",
    "                curItemBias = trackTaxBiases[itemID]              \n",
    "            elif itemID in albumBiases:\n",
    "                curItemBias = albumTaxBiases[itemID]               \n",
    "            else:\n",
    "                curItemBias = itemBiases[itemID]\n",
    "        #if the current item does not exist in train data, the bias is zero\n",
    "        else:\n",
    "            curItemBias = 0\n",
    "        curUserBias = userBiases[userID]\n",
    "            \n",
    "        squareSum += (aveRate + curItemBias + curUserBias - realRating) ** 2\n",
    "        errors.append(aveRate + curItemBias + curUserBias - realRating)\n",
    "        if count == 24356 + 1:\n",
    "#             print (len(errors))\n",
    "#             print errors[24356]\n",
    "            print curItemBias\n",
    "            print curUserBias\n",
    "            print aveRate + curItemBias + curUserBias\n",
    "            print realRating\n",
    "RMSE = sqrt(squareSum / float(count))\n",
    "print('the item taxonomy model RMSE is: ' + str(RMSE))\n",
    "print('the number of views in test data is: ' + str(count))"
   ]
  },
  {
   "cell_type": "code",
   "execution_count": 146,
   "metadata": {
    "collapsed": false
   },
   "outputs": [
    {
     "data": {
      "text/plain": [
       "[<matplotlib.lines.Line2D at 0x1d511d8d0>]"
      ]
     },
     "execution_count": 146,
     "metadata": {},
     "output_type": "execute_result"
    },
    {
     "data": {
      "image/png": "[encoded data removed]",
      "text/plain": [
       "<matplotlib.figure.Figure at 0x1c8239710>"
      ]
     },
     "metadata": {},
     "output_type": "display_data"
    }
   ],
   "source": [
    "%matplotlib inline\n",
    "import matplotlib.pyplot as plt\n",
    "x = range(len(errors))\n",
    "y = errors\n",
    "plt.plot(x, y)"
   ]
  },
  {
   "cell_type": "code",
   "execution_count": 147,
   "metadata": {
    "collapsed": false
   },
   "outputs": [
    {
     "name": "stdout",
     "output_type": "stream",
     "text": [
      "-197.181682088\n",
      "204.919704386\n"
     ]
    }
   ],
   "source": [
    "print min(errors)\n",
    "print max(errors)"
   ]
  },
  {
   "cell_type": "code",
   "execution_count": 149,
   "metadata": {
    "collapsed": false
   },
   "outputs": [
    {
     "name": "stdout",
     "output_type": "stream",
     "text": [
      "24356\n",
      "204.919704386\n"
     ]
    }
   ],
   "source": [
    "import numpy as np\n",
    "ind = np.argmax(errors)\n",
    "print ind\n",
    "print errors[24356]"
   ]
  },
  {
   "cell_type": "code",
   "execution_count": 154,
   "metadata": {
    "collapsed": false
   },
   "outputs": [
    {
     "data": {
      "text/plain": [
       "[1, 2, 3, 4, 5, 6, 7, 8, 9]"
      ]
     },
     "execution_count": 154,
     "metadata": {},
     "output_type": "execute_result"
    }
   ],
   "source": [
    "range(1,10)"
   ]
  },
  {
   "cell_type": "markdown",
   "metadata": {},
   "source": [
    "3.add user taxonomy bias\n",
    "=="
   ]
  },
  {
   "cell_type": "code",
   "execution_count": 23,
   "metadata": {
    "collapsed": true
   },
   "outputs": [],
   "source": [
    "def userTaxBias(userID):\n",
    "    bu = userBiases[userID]\n",
    "    userTaxBiases = {'track':0,'album':0,'artist':0,'genre':0}\n",
    "    numTrackRate = 0\n",
    "    numAlbumRate = 0\n",
    "    numArtistRate = 0\n",
    "    numGenreRate = 0\n",
    "    \n",
    "    sumTrackRate = 0\n",
    "    sumAlbumRate = 0\n",
    "    sumArtistRate = 0\n",
    "    sumGenreRate = 0\n",
    "\n",
    "    review = trainDatas[int(userID) - 30000]#since the ID of users is continuous\n",
    "    for rating in review['ratings']:\n",
    "        itemID = rating['itemID']\n",
    "        score = float(rating['rating'])\n",
    "        if itemID in trackBiases:\n",
    "            sumTrackRate += score\n",
    "            numTrackRate += 1\n",
    "        elif itemID in albumBiases:\n",
    "            sumAlbumRate += score\n",
    "            numAlbumRate += 1\n",
    "        elif itemID in artistBiases:\n",
    "            sumArtistRate += score\n",
    "            numArtistRate += 1\n",
    "        elif itemID in genreBiases:\n",
    "            sumGenreRate += score\n",
    "            numGenreRate += 1\n",
    "    if numTrackRate != 0:\n",
    "        userTaxBiases['track'] = sumTrackRate / float(numTrackRate) - aveRate\n",
    "    if numAlbumRate != 0:   \n",
    "        userTaxBiases['album'] = sumAlbumRate / float(numAlbumRate) - aveRate\n",
    "    if numArtistRate != 0:\n",
    "        userTaxBiases['artist'] = sumArtistRate / float(numArtistRate) - aveRate\n",
    "    if numGenreRate != 0:\n",
    "        userTaxBiases['genre'] = sumGenreRate / float(numGenreRate) - aveRate\n",
    "    \n",
    "    return userTaxBiases"
   ]
  },
  {
   "cell_type": "code",
   "execution_count": 24,
   "metadata": {
    "collapsed": false
   },
   "outputs": [
    {
     "name": "stdout",
     "output_type": "stream",
     "text": [
      "the number of users in train data is: 10000\n"
     ]
    }
   ],
   "source": [
    "#pre-build the tax user biases\n",
    "userTaxBiases = {}\n",
    "for review in trainDatas:\n",
    "    userID = review['userID']\n",
    "    userTaxBiases[userID] = userTaxBias(userID)\n",
    "print('the number of users in train data is: ' + str(len(userTaxBiases)))\n",
    "# print(userTaxBiases['0'])"
   ]
  },
  {
   "cell_type": "code",
   "execution_count": 25,
   "metadata": {
    "collapsed": false
   },
   "outputs": [
    {
     "name": "stdout",
     "output_type": "stream",
     "text": [
      "the full taxonomy model RMSE is: 39.6906940983\n",
      "the number of views in test data is: 60000\n"
     ]
    }
   ],
   "source": [
    "#check the RMSE with full taxonomy bias model\n",
    "errors = []\n",
    "count = 0\n",
    "squareSum = 0\n",
    "for review in testDatas:\n",
    "    userID = review['userID']\n",
    "    for rating in review['ratings']:\n",
    "        itemID = rating['itemID']\n",
    "        realRating = float(rating['rating'])\n",
    "        count += 1\n",
    "        if itemID in itemBiases:\n",
    "            if itemID in trackBiases:\n",
    "                curItemBias = trackTaxBiases[itemID]\n",
    "                curUserBias = userTaxBiases[userID]['track']\n",
    "            elif itemID in albumBiases:\n",
    "                curItemBias = albumTaxBiases[itemID]\n",
    "                curUserBias = userTaxBiases[userID]['album']\n",
    "            else:\n",
    "                if itemID in artistBiases:\n",
    "                    curUserBias = userTaxBiases[userID]['artist']\n",
    "                elif itemID in genreBiases:\n",
    "                    curUserBias = userTaxBiases[userID]['genre']\n",
    "                curItemBias = itemBiases[itemID]\n",
    "        #if the current item does not exist in train data, the bias is zero\n",
    "        else:\n",
    "            curItemBias = 0\n",
    "        squareSum += (aveRate + curItemBias + curUserBias - realRating) ** 2 \n",
    "        errors.append(aveRate + curItemBias + curUserBias - realRating)\n",
    "#         squareSum += (aveRate + userBiases[userID] + curItemBias + curUserBias - realRating) ** 2\n",
    "\n",
    "            \n",
    "RMSE = sqrt(squareSum / float(count))\n",
    "print('the full taxonomy model RMSE is: ' + str(RMSE))\n",
    "print('the number of views in test data is: ' + str(count))"
   ]
  },
  {
   "cell_type": "code",
   "execution_count": 82,
   "metadata": {
    "collapsed": false
   },
   "outputs": [
    {
     "data": {
      "text/plain": [
       "[<matplotlib.lines.Line2D at 0x1c71ed5d0>]"
      ]
     },
     "execution_count": 82,
     "metadata": {},
     "output_type": "execute_result"
    },
    {
     "data": {
      "image/png": "[encoded data removed]",
      "text/plain": [
       "<matplotlib.figure.Figure at 0x1c2cf67d0>"
      ]
     },
     "metadata": {},
     "output_type": "display_data"
    }
   ],
   "source": [
    "%matplotlib inline\n",
    "import matplotlib.pyplot as plt\n",
    "x = range(len(errors))\n",
    "y = errors\n",
    "plt.plot(x, y)"
   ]
  },
  {
   "cell_type": "markdown",
   "metadata": {
    "collapsed": true
   },
   "source": [
    "the full taxonomy model RMSE is: 54.6062826709 (the userItem add the original one)\n",
    "\n",
    "the full taxonomy model RMSE is: 37.4768260566"
   ]
  },
  {
   "cell_type": "markdown",
   "metadata": {},
   "source": [
    "go to use the other 1w users to test the model and to see the different RMSE"
   ]
  },
  {
   "cell_type": "markdown",
   "metadata": {},
   "source": [
    "4. add user session model\n",
    "==="
   ]
  },
  {
   "cell_type": "code",
   "execution_count": 26,
   "metadata": {
    "collapsed": false
   },
   "outputs": [],
   "source": [
    "def getUserSessionBias(ratings):\n",
    "    userSessionBias = {}\n",
    "    count = {}\n",
    "    for rating in ratings:\n",
    "        number = rating['number']\n",
    "        if number in userSessionBias:\n",
    "            userSessionBias[number] += float(rating['rating'])\n",
    "            count[number] += 1\n",
    "        else:\n",
    "            userSessionBias[number] = float(rating['rating'])\n",
    "            count[number] = 1\n",
    "    for number in userSessionBias.keys():\n",
    "        userSessionBias[number] = userSessionBias[number] / float(count[number]) - aveRate\n",
    "    return userSessionBias"
   ]
  },
  {
   "cell_type": "code",
   "execution_count": 27,
   "metadata": {
    "collapsed": true
   },
   "outputs": [],
   "source": [
    "#get the user's session biases \n",
    "userSessionBiases = {}\n",
    "for review in trainDatas:\n",
    "    userID = review['userID']\n",
    "    userSessionBiases[userID] = getUserSessionBias(review['ratings'])"
   ]
  },
  {
   "cell_type": "code",
   "execution_count": 60,
   "metadata": {
    "collapsed": false
   },
   "outputs": [
    {
     "name": "stdout",
     "output_type": "stream",
     "text": [
      "{u'4220': 49.94871353874246}\n"
     ]
    }
   ],
   "source": [
    "print userSessionBiases['2']"
   ]
  },
  {
   "cell_type": "code",
   "execution_count": 54,
   "metadata": {
    "collapsed": false
   },
   "outputs": [
    {
     "name": "stdout",
     "output_type": "stream",
     "text": [
      "{u'itemID': u'238557', u'rating': u'90', u'number': u'4220', u'time': u'08:31:00'}\n",
      "{u'itemID': u'115200', u'rating': u'100', u'number': u'4220', u'time': u'10:16:00'}\n",
      "{u'itemID': u'176889', u'rating': u'100', u'number': u'4220', u'time': u'10:16:00'}\n",
      "{u'itemID': u'329058', u'rating': u'100', u'number': u'4220', u'time': u'10:16:00'}\n",
      "{u'itemID': u'456895', u'rating': u'100', u'number': u'4220', u'time': u'10:16:00'}\n",
      "{u'itemID': u'475878', u'rating': u'100', u'number': u'4220', u'time': u'10:16:00'}\n",
      "{u'itemID': u'5237', u'rating': u'100', u'number': u'4220', u'time': u'10:17:00'}\n",
      "{u'itemID': u'12332', u'rating': u'100', u'number': u'4220', u'time': u'10:17:00'}\n",
      "{u'itemID': u'29323', u'rating': u'100', u'number': u'4220', u'time': u'10:17:00'}\n",
      "{u'itemID': u'57791', u'rating': u'100', u'number': u'4220', u'time': u'10:17:00'}\n",
      "{u'itemID': u'99935', u'rating': u'100', u'number': u'4220', u'time': u'10:17:00'}\n",
      "{u'itemID': u'258003', u'rating': u'100', u'number': u'4220', u'time': u'10:17:00'}\n",
      "{u'itemID': u'377333', u'rating': u'100', u'number': u'4220', u'time': u'10:17:00'}\n",
      "{u'itemID': u'510603', u'rating': u'100', u'number': u'4220', u'time': u'10:17:00'}\n",
      "{u'itemID': u'533639', u'rating': u'100', u'number': u'4220', u'time': u'10:17:00'}\n",
      "{u'itemID': u'188675', u'rating': u'100', u'number': u'4220', u'time': u'10:18:00'}\n",
      "{u'itemID': u'268555', u'rating': u'100', u'number': u'4220', u'time': u'10:18:00'}\n",
      "{u'itemID': u'488564', u'rating': u'100', u'number': u'4220', u'time': u'10:18:00'}\n",
      "{u'itemID': u'48916', u'rating': u'100', u'number': u'4220', u'time': u'10:20:00'}\n",
      "{u'itemID': u'180618', u'rating': u'100', u'number': u'4220', u'time': u'10:20:00'}\n",
      "{u'itemID': u'316815', u'rating': u'100', u'number': u'4220', u'time': u'10:20:00'}\n",
      "{u'itemID': u'333784', u'rating': u'100', u'number': u'4220', u'time': u'10:20:00'}\n",
      "{u'itemID': u'507377', u'rating': u'100', u'number': u'4220', u'time': u'10:20:00'}\n",
      "{u'itemID': u'532650', u'rating': u'100', u'number': u'4220', u'time': u'10:20:00'}\n",
      "{u'itemID': u'27499', u'rating': u'100', u'number': u'4220', u'time': u'10:21:00'}\n",
      "{u'itemID': u'43628', u'rating': u'100', u'number': u'4220', u'time': u'10:21:00'}\n",
      "{u'itemID': u'78477', u'rating': u'100', u'number': u'4220', u'time': u'10:21:00'}\n",
      "{u'itemID': u'92450', u'rating': u'100', u'number': u'4220', u'time': u'10:21:00'}\n",
      "{u'itemID': u'182489', u'rating': u'100', u'number': u'4220', u'time': u'10:21:00'}\n",
      "{u'itemID': u'242450', u'rating': u'100', u'number': u'4220', u'time': u'10:21:00'}\n",
      "{u'itemID': u'296155', u'rating': u'100', u'number': u'4220', u'time': u'10:21:00'}\n",
      "{u'itemID': u'364374', u'rating': u'100', u'number': u'4220', u'time': u'10:21:00'}\n",
      "{u'itemID': u'387982', u'rating': u'100', u'number': u'4220', u'time': u'10:21:00'}\n",
      "{u'itemID': u'428863', u'rating': u'100', u'number': u'4220', u'time': u'10:21:00'}\n",
      "{u'itemID': u'16249', u'rating': u'100', u'number': u'4220', u'time': u'10:22:00'}\n",
      "{u'itemID': u'66765', u'rating': u'100', u'number': u'4220', u'time': u'10:22:00'}\n",
      "{u'itemID': u'210761', u'rating': u'100', u'number': u'4220', u'time': u'10:22:00'}\n",
      "{u'itemID': u'217921', u'rating': u'100', u'number': u'4220', u'time': u'10:22:00'}\n",
      "{u'itemID': u'319866', u'rating': u'100', u'number': u'4220', u'time': u'10:22:00'}\n",
      "{u'itemID': u'342087', u'rating': u'100', u'number': u'4220', u'time': u'10:22:00'}\n",
      "{u'itemID': u'402792', u'rating': u'100', u'number': u'4220', u'time': u'10:22:00'}\n",
      "{u'itemID': u'525951', u'rating': u'100', u'number': u'4220', u'time': u'10:22:00'}\n",
      "{u'itemID': u'528002', u'rating': u'100', u'number': u'4220', u'time': u'10:22:00'}\n",
      "{u'itemID': u'557544', u'rating': u'100', u'number': u'4220', u'time': u'10:22:00'}\n",
      "{u'itemID': u'602243', u'rating': u'100', u'number': u'4220', u'time': u'10:22:00'}\n",
      "{u'itemID': u'367509', u'rating': u'100', u'number': u'4220', u'time': u'10:23:00'}\n",
      "{u'itemID': u'17863', u'rating': u'0', u'number': u'4220', u'time': u'10:25:00'}\n",
      "{u'itemID': u'21683', u'rating': u'0', u'number': u'4220', u'time': u'10:25:00'}\n",
      "{u'itemID': u'57422', u'rating': u'0', u'number': u'4220', u'time': u'10:25:00'}\n",
      "{u'itemID': u'61148', u'rating': u'0', u'number': u'4220', u'time': u'10:25:00'}\n",
      "{u'itemID': u'85012', u'rating': u'100', u'number': u'4220', u'time': u'10:25:00'}\n",
      "{u'itemID': u'92066', u'rating': u'0', u'number': u'4220', u'time': u'10:25:00'}\n",
      "{u'itemID': u'103338', u'rating': u'0', u'number': u'4220', u'time': u'10:25:00'}\n",
      "{u'itemID': u'119752', u'rating': u'0', u'number': u'4220', u'time': u'10:25:00'}\n",
      "{u'itemID': u'120443', u'rating': u'0', u'number': u'4220', u'time': u'10:25:00'}\n",
      "{u'itemID': u'121082', u'rating': u'100', u'number': u'4220', u'time': u'10:25:00'}\n",
      "{u'itemID': u'142902', u'rating': u'0', u'number': u'4220', u'time': u'10:25:00'}\n",
      "{u'itemID': u'145897', u'rating': u'0', u'number': u'4220', u'time': u'10:25:00'}\n",
      "{u'itemID': u'155330', u'rating': u'0', u'number': u'4220', u'time': u'10:25:00'}\n",
      "{u'itemID': u'155522', u'rating': u'0', u'number': u'4220', u'time': u'10:25:00'}\n",
      "{u'itemID': u'187943', u'rating': u'100', u'number': u'4220', u'time': u'10:25:00'}\n",
      "{u'itemID': u'211566', u'rating': u'0', u'number': u'4220', u'time': u'10:25:00'}\n",
      "{u'itemID': u'224595', u'rating': u'0', u'number': u'4220', u'time': u'10:25:00'}\n",
      "{u'itemID': u'235514', u'rating': u'0', u'number': u'4220', u'time': u'10:25:00'}\n",
      "{u'itemID': u'246957', u'rating': u'0', u'number': u'4220', u'time': u'10:25:00'}\n",
      "{u'itemID': u'247563', u'rating': u'0', u'number': u'4220', u'time': u'10:25:00'}\n",
      "{u'itemID': u'257158', u'rating': u'0', u'number': u'4220', u'time': u'10:25:00'}\n",
      "{u'itemID': u'303423', u'rating': u'0', u'number': u'4220', u'time': u'10:25:00'}\n",
      "{u'itemID': u'315452', u'rating': u'0', u'number': u'4220', u'time': u'10:25:00'}\n",
      "{u'itemID': u'344158', u'rating': u'100', u'number': u'4220', u'time': u'10:25:00'}\n",
      "{u'itemID': u'349451', u'rating': u'0', u'number': u'4220', u'time': u'10:25:00'}\n",
      "{u'itemID': u'378073', u'rating': u'0', u'number': u'4220', u'time': u'10:25:00'}\n",
      "{u'itemID': u'406012', u'rating': u'0', u'number': u'4220', u'time': u'10:25:00'}\n",
      "{u'itemID': u'419241', u'rating': u'0', u'number': u'4220', u'time': u'10:25:00'}\n",
      "{u'itemID': u'419748', u'rating': u'100', u'number': u'4220', u'time': u'10:25:00'}\n",
      "{u'itemID': u'445463', u'rating': u'0', u'number': u'4220', u'time': u'10:25:00'}\n",
      "{u'itemID': u'484497', u'rating': u'0', u'number': u'4220', u'time': u'10:25:00'}\n",
      "{u'itemID': u'509188', u'rating': u'0', u'number': u'4220', u'time': u'10:25:00'}\n",
      "{u'itemID': u'517337', u'rating': u'100', u'number': u'4220', u'time': u'10:25:00'}\n",
      "{u'itemID': u'523223', u'rating': u'0', u'number': u'4220', u'time': u'10:25:00'}\n",
      "{u'itemID': u'525493', u'rating': u'0', u'number': u'4220', u'time': u'10:25:00'}\n",
      "{u'itemID': u'528166', u'rating': u'0', u'number': u'4220', u'time': u'10:25:00'}\n",
      "{u'itemID': u'538823', u'rating': u'0', u'number': u'4220', u'time': u'10:25:00'}\n",
      "{u'itemID': u'556298', u'rating': u'0', u'number': u'4220', u'time': u'10:25:00'}\n",
      "{u'itemID': u'563692', u'rating': u'0', u'number': u'4220', u'time': u'10:25:00'}\n",
      "{u'itemID': u'599530', u'rating': u'0', u'number': u'4220', u'time': u'10:25:00'}\n",
      "{u'itemID': u'600770', u'rating': u'0', u'number': u'4220', u'time': u'10:25:00'}\n",
      "{u'itemID': u'4283', u'rating': u'0', u'number': u'4220', u'time': u'10:26:00'}\n",
      "{u'itemID': u'13896', u'rating': u'0', u'number': u'4220', u'time': u'10:26:00'}\n",
      "{u'itemID': u'106447', u'rating': u'0', u'number': u'4220', u'time': u'10:26:00'}\n",
      "{u'itemID': u'144592', u'rating': u'0', u'number': u'4220', u'time': u'10:26:00'}\n",
      "{u'itemID': u'181286', u'rating': u'0', u'number': u'4220', u'time': u'10:26:00'}\n",
      "{u'itemID': u'181585', u'rating': u'0', u'number': u'4220', u'time': u'10:26:00'}\n",
      "{u'itemID': u'190762', u'rating': u'0', u'number': u'4220', u'time': u'10:26:00'}\n",
      "{u'itemID': u'283332', u'rating': u'0', u'number': u'4220', u'time': u'10:26:00'}\n",
      "{u'itemID': u'320706', u'rating': u'0', u'number': u'4220', u'time': u'10:26:00'}\n",
      "{u'itemID': u'336502', u'rating': u'0', u'number': u'4220', u'time': u'10:26:00'}\n",
      "{u'itemID': u'370371', u'rating': u'0', u'number': u'4220', u'time': u'10:26:00'}\n",
      "{u'itemID': u'382315', u'rating': u'0', u'number': u'4220', u'time': u'10:26:00'}\n",
      "{u'itemID': u'386887', u'rating': u'0', u'number': u'4220', u'time': u'10:26:00'}\n",
      "{u'itemID': u'427139', u'rating': u'0', u'number': u'4220', u'time': u'10:26:00'}\n"
     ]
    }
   ],
   "source": [
    "# print(trainDatas[0])\n",
    "for rating in trainDatas[2]['ratings']:\n",
    "    print(rating)"
   ]
  },
  {
   "cell_type": "code",
   "execution_count": 56,
   "metadata": {
    "collapsed": false
   },
   "outputs": [
    {
     "name": "stdout",
     "output_type": "stream",
     "text": [
      "{u'itemID': u'521716', u'rating': u'0', u'number': u'4220', u'time': u'10:26:00'}\n",
      "{u'itemID': u'531386', u'rating': u'0', u'number': u'4220', u'time': u'10:26:00'}\n",
      "{u'itemID': u'534002', u'rating': u'0', u'number': u'4220', u'time': u'10:26:00'}\n",
      "{u'itemID': u'602548', u'rating': u'0', u'number': u'4220', u'time': u'10:26:00'}\n",
      "{u'itemID': u'297989', u'rating': u'0', u'number': u'5332', u'time': u'13:11:00'}\n",
      "{u'itemID': u'532569', u'rating': u'90', u'number': u'5332', u'time': u'13:13:00'}\n"
     ]
    }
   ],
   "source": [
    "for rating in testDatas[2]['ratings']:\n",
    "    print(rating)"
   ]
  },
  {
   "cell_type": "code",
   "execution_count": 28,
   "metadata": {
    "collapsed": false
   },
   "outputs": [
    {
     "name": "stdout",
     "output_type": "stream",
     "text": [
      "the full taxonomy model with user session bias RMSE is: 53.9432833422\n",
      "the number of views in test data is: 60000\n"
     ]
    }
   ],
   "source": [
    "#check the RMSE with addtion of user session bias\n",
    "predRatings = []\n",
    "realRatings = []\n",
    "errors = []\n",
    "count = 0\n",
    "squareSum = 0\n",
    "for review in testDatas:\n",
    "    userID = review['userID']\n",
    "    for rating in review['ratings']:\n",
    "        itemID = rating['itemID']\n",
    "        realRating = float(rating['rating'])\n",
    "        count += 1\n",
    "        if itemID in itemBiases:\n",
    "            if itemID in trackBiases:\n",
    "                curItemBias = trackTaxBiases[itemID]\n",
    "                curUserBias = userTaxBiases[userID]['track']\n",
    "            elif itemID in albumBiases:\n",
    "                curItemBias = albumTaxBiases[itemID]\n",
    "                curUserBias = userTaxBiases[userID]['album']\n",
    "            else:\n",
    "                if itemID in artistBiases:\n",
    "                    curUserBias = userTaxBiases[userID]['artist']\n",
    "                elif itemID in genreBiases:\n",
    "                    curUserBias = userTaxBiases[userID]['genre']\n",
    "                curItemBias = itemBiases[itemID]\n",
    "        #if the current item does not exist in train data, the bias is zero\n",
    "        else:\n",
    "            curItemBias = 0\n",
    "        #check if user has session bias\n",
    "        if rating['number'] in userSessionBiases[userID]:\n",
    "            curUserBias += userSessionBiases[userID][rating['number']]\n",
    "        \n",
    "        \n",
    "        squareSum += (aveRate + curItemBias + curUserBias - realRating) ** 2 \n",
    "        predRatings.append(aveRate + curItemBias + curUserBias)\n",
    "        realRatings.append(realRating)\n",
    "        errors.append(aveRate + curItemBias + curUserBias - realRating)\n",
    "#         squareSum += (aveRate + userBiases[userID] + curItemBias + curUserBias - realRating) ** 2\n",
    "\n",
    "            \n",
    "RMSE = sqrt(squareSum / float(count))\n",
    "print('the full taxonomy model with user session bias RMSE is: ' + str(RMSE))\n",
    "print('the number of views in test data is: ' + str(count))"
   ]
  },
  {
   "cell_type": "code",
   "execution_count": 73,
   "metadata": {
    "collapsed": false
   },
   "outputs": [
    {
     "data": {
      "text/plain": [
       "[<matplotlib.lines.Line2D at 0x1c05c9c10>]"
      ]
     },
     "execution_count": 73,
     "metadata": {},
     "output_type": "execute_result"
    },
    {
     "data": {
      "image/png": "[encoded data removed]",
      "text/plain": [
       "<matplotlib.figure.Figure at 0x102b8de50>"
      ]
     },
     "metadata": {},
     "output_type": "display_data"
    }
   ],
   "source": [
    "%matplotlib inline\n",
    "import matplotlib.pyplot as plt\n",
    "x = range(len(errors))\n",
    "y = errors\n",
    "plt.plot(x, y)"
   ]
  },
  {
   "cell_type": "markdown",
   "metadata": {},
   "source": [
    "the data shows that the user could rate too many items in one minute which is not useful to do user dynamics bias model"
   ]
  },
  {
   "cell_type": "code",
   "execution_count": 32,
   "metadata": {
    "collapsed": false
   },
   "outputs": [
    {
     "name": "stdout",
     "output_type": "stream",
     "text": [
      "371740\n"
     ]
    }
   ],
   "source": [
    "print(len(trainReviews.keys()))\n",
    "itemsKeys = trainReviews.keys()"
   ]
  },
  {
   "cell_type": "code",
   "execution_count": 34,
   "metadata": {
    "collapsed": false
   },
   "outputs": [
    {
     "name": "stdout",
     "output_type": "stream",
     "text": [
      "287144\n"
     ]
    },
    {
     "data": {
      "text/plain": [
       "unicode"
      ]
     },
     "execution_count": 34,
     "metadata": {},
     "output_type": "execute_result"
    }
   ],
   "source": [
    "print(itemsKeys[0])\n",
    "type(itemsKeys[0])"
   ]
  },
  {
   "cell_type": "code",
   "execution_count": 47,
   "metadata": {
    "collapsed": false
   },
   "outputs": [
    {
     "name": "stdout",
     "output_type": "stream",
     "text": [
      "{u'itemID': u'287144', u'rating': u'0', u'number': u'4665', u'time': u'07:34:00'}\n",
      "{u'itemID': u'287144', u'rating': u'90', u'number': u'4831', u'time': u'14:18:00'}\n",
      "{u'itemID': u'287144', u'rating': u'50', u'number': u'5053', u'time': u'15:40:00'}\n",
      "{u'itemID': u'287144', u'rating': u'90', u'number': u'4933', u'time': u'18:40:00'}\n",
      "{u'itemID': u'287144', u'rating': u'0', u'number': u'4749', u'time': u'09:49:00'}\n",
      "{u'itemID': u'287144', u'rating': u'0', u'number': u'4855', u'time': u'12:17:00'}\n",
      "{u'itemID': u'287144', u'rating': u'50', u'number': u'5045', u'time': u'15:59:00'}\n",
      "{u'itemID': u'287144', u'rating': u'0', u'number': u'4722', u'time': u'00:57:00'}\n",
      "{u'itemID': u'287144', u'rating': u'70', u'number': u'5282', u'time': u'12:36:00'}\n",
      "{u'itemID': u'287144', u'rating': u'70', u'number': u'5498', u'time': u'12:53:00'}\n",
      "{u'itemID': u'287144', u'rating': u'70', u'number': u'4946', u'time': u'09:09:00'}\n",
      "{u'itemID': u'287144', u'rating': u'0', u'number': u'4688', u'time': u'17:19:00'}\n",
      "{u'itemID': u'287144', u'rating': u'0', u'number': u'4757', u'time': u'14:03:00'}\n",
      "{u'itemID': u'287144', u'rating': u'0', u'number': u'5423', u'time': u'08:56:00'}\n",
      "{u'itemID': u'287144', u'rating': u'70', u'number': u'5248', u'time': u'14:00:00'}\n",
      "{u'itemID': u'287144', u'rating': u'90', u'number': u'4962', u'time': u'12:58:00'}\n",
      "{u'itemID': u'287144', u'rating': u'0', u'number': u'4898', u'time': u'14:46:00'}\n",
      "{u'itemID': u'287144', u'rating': u'70', u'number': u'4914', u'time': u'20:48:00'}\n",
      "{u'itemID': u'287144', u'rating': u'50', u'number': u'5458', u'time': u'08:13:00'}\n",
      "{u'itemID': u'287144', u'rating': u'0', u'number': u'4783', u'time': u'15:34:00'}\n",
      "{u'itemID': u'287144', u'rating': u'30', u'number': u'5056', u'time': u'18:51:00'}\n",
      "{u'itemID': u'287144', u'rating': u'0', u'number': u'4576', u'time': u'14:19:00'}\n",
      "{u'itemID': u'287144', u'rating': u'0', u'number': u'4982', u'time': u'22:07:00'}\n",
      "{u'itemID': u'287144', u'rating': u'0', u'number': u'4908', u'time': u'16:22:00'}\n",
      "{u'itemID': u'287144', u'rating': u'30', u'number': u'4932', u'time': u'09:59:00'}\n",
      "{u'itemID': u'287144', u'rating': u'90', u'number': u'4605', u'time': u'09:56:00'}\n",
      "{u'itemID': u'287144', u'rating': u'70', u'number': u'5064', u'time': u'15:40:00'}\n",
      "{u'itemID': u'287144', u'rating': u'50', u'number': u'4746', u'time': u'09:09:00'}\n",
      "{u'itemID': u'287144', u'rating': u'0', u'number': u'4715', u'time': u'10:00:00'}\n",
      "{u'itemID': u'287144', u'rating': u'0', u'number': u'5442', u'time': u'17:19:00'}\n",
      "{u'itemID': u'287144', u'rating': u'0', u'number': u'4760', u'time': u'21:56:00'}\n",
      "{u'itemID': u'287144', u'rating': u'90', u'number': u'5897', u'time': u'08:36:00'}\n",
      "{u'itemID': u'287144', u'rating': u'100', u'number': u'3796', u'time': u'01:30:00'}\n",
      "{u'itemID': u'287144', u'rating': u'30', u'number': u'4763', u'time': u'20:24:00'}\n",
      "{u'itemID': u'287144', u'rating': u'0', u'number': u'5571', u'time': u'18:46:00'}\n",
      "{u'itemID': u'287144', u'rating': u'0', u'number': u'4784', u'time': u'18:16:00'}\n",
      "{u'itemID': u'287144', u'rating': u'50', u'number': u'4937', u'time': u'13:11:00'}\n",
      "{u'itemID': u'287144', u'rating': u'0', u'number': u'5754', u'time': u'11:50:00'}\n",
      "{u'itemID': u'287144', u'rating': u'70', u'number': u'5007', u'time': u'17:24:00'}\n",
      "{u'itemID': u'287144', u'rating': u'70', u'number': u'4442', u'time': u'17:12:00'}\n",
      "{u'itemID': u'287144', u'rating': u'0', u'number': u'5059', u'time': u'13:05:00'}\n",
      "{u'itemID': u'287144', u'rating': u'0', u'number': u'5421', u'time': u'15:39:00'}\n",
      "{u'itemID': u'287144', u'rating': u'10', u'number': u'4179', u'time': u'07:48:00'}\n",
      "{u'itemID': u'287144', u'rating': u'70', u'number': u'6156', u'time': u'18:02:00'}\n",
      "{u'itemID': u'287144', u'rating': u'70', u'number': u'4720', u'time': u'12:33:00'}\n",
      "{u'itemID': u'287144', u'rating': u'90', u'number': u'4859', u'time': u'07:49:00'}\n",
      "{u'itemID': u'287144', u'rating': u'70', u'number': u'5623', u'time': u'23:08:00'}\n",
      "{u'itemID': u'287144', u'rating': u'0', u'number': u'4831', u'time': u'13:00:00'}\n",
      "{u'itemID': u'287144', u'rating': u'0', u'number': u'4720', u'time': u'14:12:00'}\n",
      "{u'itemID': u'287144', u'rating': u'90', u'number': u'4832', u'time': u'15:51:00'}\n",
      "{u'itemID': u'287144', u'rating': u'0', u'number': u'4722', u'time': u'20:44:00'}\n",
      "{u'itemID': u'287144', u'rating': u'70', u'number': u'5214', u'time': u'15:01:00'}\n",
      "{u'itemID': u'287144', u'rating': u'50', u'number': u'5424', u'time': u'08:38:00'}\n",
      "{u'itemID': u'287144', u'rating': u'30', u'number': u'4689', u'time': u'20:26:00'}\n",
      "{u'itemID': u'287144', u'rating': u'0', u'number': u'4879', u'time': u'21:54:00'}\n",
      "{u'itemID': u'287144', u'rating': u'90', u'number': u'4956', u'time': u'07:36:00'}\n",
      "{u'itemID': u'287144', u'rating': u'0', u'number': u'4023', u'time': u'15:24:00'}\n",
      "{u'itemID': u'287144', u'rating': u'90', u'number': u'5090', u'time': u'21:22:00'}\n",
      "{u'itemID': u'287144', u'rating': u'30', u'number': u'4856', u'time': u'12:44:00'}\n",
      "{u'itemID': u'287144', u'rating': u'90', u'number': u'4950', u'time': u'14:47:00'}\n",
      "{u'itemID': u'287144', u'rating': u'50', u'number': u'5352', u'time': u'22:38:00'}\n",
      "{u'itemID': u'287144', u'rating': u'50', u'number': u'5046', u'time': u'01:17:00'}\n",
      "{u'itemID': u'287144', u'rating': u'90', u'number': u'4959', u'time': u'01:33:00'}\n",
      "{u'itemID': u'287144', u'rating': u'90', u'number': u'4458', u'time': u'08:59:00'}\n",
      "{u'itemID': u'287144', u'rating': u'40', u'number': u'4031', u'time': u'22:12:00'}\n",
      "{u'itemID': u'287144', u'rating': u'90', u'number': u'5693', u'time': u'18:32:00'}\n",
      "{u'itemID': u'287144', u'rating': u'50', u'number': u'4850', u'time': u'15:10:00'}\n",
      "{u'itemID': u'287144', u'rating': u'90', u'number': u'5455', u'time': u'09:34:00'}\n",
      "{u'itemID': u'287144', u'rating': u'0', u'number': u'4861', u'time': u'18:10:00'}\n",
      "{u'itemID': u'287144', u'rating': u'0', u'number': u'4849', u'time': u'15:10:00'}\n",
      "{u'itemID': u'287144', u'rating': u'30', u'number': u'5181', u'time': u'01:20:00'}\n",
      "{u'itemID': u'287144', u'rating': u'0', u'number': u'5242', u'time': u'09:32:00'}\n",
      "{u'itemID': u'287144', u'rating': u'0', u'number': u'4779', u'time': u'14:00:00'}\n",
      "{u'itemID': u'287144', u'rating': u'90', u'number': u'5051', u'time': u'17:46:00'}\n",
      "{u'itemID': u'287144', u'rating': u'30', u'number': u'5438', u'time': u'21:54:00'}\n",
      "{u'itemID': u'287144', u'rating': u'50', u'number': u'5098', u'time': u'18:12:00'}\n",
      "{u'itemID': u'287144', u'rating': u'90', u'number': u'6031', u'time': u'16:46:00'}\n",
      "{u'itemID': u'287144', u'rating': u'0', u'number': u'4770', u'time': u'01:17:00'}\n",
      "{u'itemID': u'287144', u'rating': u'90', u'number': u'4626', u'time': u'19:15:00'}\n",
      "{u'itemID': u'287144', u'rating': u'70', u'number': u'4455', u'time': u'15:51:00'}\n",
      "{u'itemID': u'287144', u'rating': u'0', u'number': u'4918', u'time': u'21:23:00'}\n",
      "{u'itemID': u'287144', u'rating': u'0', u'number': u'4707', u'time': u'17:12:00'}\n",
      "{u'itemID': u'287144', u'rating': u'30', u'number': u'5612', u'time': u'09:50:00'}\n",
      "{u'itemID': u'287144', u'rating': u'30', u'number': u'4861', u'time': u'10:55:00'}\n",
      "{u'itemID': u'287144', u'rating': u'0', u'number': u'4834', u'time': u'21:10:00'}\n",
      "{u'itemID': u'287144', u'rating': u'50', u'number': u'4593', u'time': u'00:38:00'}\n",
      "{u'itemID': u'287144', u'rating': u'90', u'number': u'5358', u'time': u'09:17:00'}\n",
      "{u'itemID': u'287144', u'rating': u'50', u'number': u'5443', u'time': u'12:12:00'}\n",
      "{u'itemID': u'287144', u'rating': u'100', u'number': u'3695', u'time': u'07:52:00'}\n",
      "{u'itemID': u'287144', u'rating': u'50', u'number': u'4891', u'time': u'11:52:00'}\n",
      "{u'itemID': u'287144', u'rating': u'0', u'number': u'4987', u'time': u'22:23:00'}\n",
      "{u'itemID': u'287144', u'rating': u'70', u'number': u'5337', u'time': u'05:51:00'}\n",
      "{u'itemID': u'287144', u'rating': u'30', u'number': u'4814', u'time': u'20:50:00'}\n",
      "{u'itemID': u'287144', u'rating': u'50', u'number': u'5430', u'time': u'16:24:00'}\n",
      "{u'itemID': u'287144', u'rating': u'0', u'number': u'4678', u'time': u'08:40:00'}\n",
      "{u'itemID': u'287144', u'rating': u'0', u'number': u'4547', u'time': u'19:29:00'}\n",
      "{u'itemID': u'287144', u'rating': u'90', u'number': u'5737', u'time': u'14:35:00'}\n",
      "{u'itemID': u'287144', u'rating': u'50', u'number': u'4837', u'time': u'01:30:00'}\n",
      "{u'itemID': u'287144', u'rating': u'60', u'number': u'5545', u'time': u'14:03:00'}\n",
      "{u'itemID': u'287144', u'rating': u'90', u'number': u'5008', u'time': u'19:21:00'}\n",
      "{u'itemID': u'287144', u'rating': u'30', u'number': u'4786', u'time': u'07:49:00'}\n",
      "{u'itemID': u'287144', u'rating': u'90', u'number': u'4980', u'time': u'18:12:00'}\n",
      "{u'itemID': u'287144', u'rating': u'30', u'number': u'5029', u'time': u'14:39:00'}\n"
     ]
    }
   ],
   "source": [
    "# print(trainReviews[itemsKeys[0]])\n",
    "numbers = []\n",
    "for rating in trainReviews[itemsKeys[0]]:\n",
    "    print(rating)\n",
    "    numbers.append(int(rating['number']))"
   ]
  },
  {
   "cell_type": "code",
   "execution_count": 48,
   "metadata": {
    "collapsed": false
   },
   "outputs": [
    {
     "name": "stdout",
     "output_type": "stream",
     "text": [
      "3695\n",
      "3796\n",
      "4023\n",
      "4031\n",
      "4179\n",
      "4442\n",
      "4455\n",
      "4458\n",
      "4547\n",
      "4576\n",
      "4593\n",
      "4605\n",
      "4626\n",
      "4665\n",
      "4678\n",
      "4688\n",
      "4689\n",
      "4707\n",
      "4715\n",
      "4720\n",
      "4720\n",
      "4722\n",
      "4722\n",
      "4746\n",
      "4749\n",
      "4757\n",
      "4760\n",
      "4763\n",
      "4770\n",
      "4779\n",
      "4783\n",
      "4784\n",
      "4786\n",
      "4814\n",
      "4831\n",
      "4831\n",
      "4832\n",
      "4834\n",
      "4837\n",
      "4849\n",
      "4850\n",
      "4855\n",
      "4856\n",
      "4859\n",
      "4861\n",
      "4861\n",
      "4879\n",
      "4891\n",
      "4898\n",
      "4908\n",
      "4914\n",
      "4918\n",
      "4932\n",
      "4933\n",
      "4937\n",
      "4946\n",
      "4950\n",
      "4956\n",
      "4959\n",
      "4962\n",
      "4980\n",
      "4982\n",
      "4987\n",
      "5007\n",
      "5008\n",
      "5029\n",
      "5045\n",
      "5046\n",
      "5051\n",
      "5053\n",
      "5056\n",
      "5059\n",
      "5064\n",
      "5090\n",
      "5098\n",
      "5181\n",
      "5214\n",
      "5242\n",
      "5248\n",
      "5282\n",
      "5337\n",
      "5352\n",
      "5358\n",
      "5421\n",
      "5423\n",
      "5424\n",
      "5430\n",
      "5438\n",
      "5442\n",
      "5443\n",
      "5455\n",
      "5458\n",
      "5498\n",
      "5545\n",
      "5571\n",
      "5612\n",
      "5623\n",
      "5693\n",
      "5737\n",
      "5754\n",
      "5897\n",
      "6031\n",
      "6156\n"
     ]
    }
   ],
   "source": [
    "# print numbers\n",
    "numbers.sort()\n",
    "for number in numbers:\n",
    "    print number"
   ]
  },
  {
   "cell_type": "code",
   "execution_count": 49,
   "metadata": {
    "collapsed": false
   },
   "outputs": [
    {
     "data": {
      "text/plain": [
       "2461"
      ]
     },
     "execution_count": 49,
     "metadata": {},
     "output_type": "execute_result"
    }
   ],
   "source": [
    "6156 - 3695"
   ]
  },
  {
   "cell_type": "code",
   "execution_count": 50,
   "metadata": {
    "collapsed": false
   },
   "outputs": [
    {
     "data": {
      "text/plain": [
       "6.742465753424658"
      ]
     },
     "execution_count": 50,
     "metadata": {},
     "output_type": "execute_result"
    }
   ],
   "source": [
    "2461 / 365.0"
   ]
  },
  {
   "cell_type": "code",
   "execution_count": null,
   "metadata": {
    "collapsed": true
   },
   "outputs": [],
   "source": []
  }
 ],
 "metadata": {
  "kernelspec": {
   "display_name": "Python 2",
   "language": "python",
   "name": "python2"
  },
  "language_info": {
   "codemirror_mode": {
    "name": "ipython",
    "version": 2
   },
   "file_extension": ".py",
   "mimetype": "text/x-python",
   "name": "python",
   "nbconvert_exporter": "python",
   "pygments_lexer": "ipython2",
   "version": "2.7.13"
  }
 },
 "nbformat": 4,
 "nbformat_minor": 2
}
