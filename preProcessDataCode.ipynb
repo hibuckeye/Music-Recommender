{
 "cells": [
  {
   "cell_type": "code",
   "execution_count": 8,
   "metadata": {
    "collapsed": false
   },
   "outputs": [],
   "source": [
    "def __items__preprocess__(input_filename, output_filename):\n",
    "    '''\n",
    "        This function is to split the raw trainning and test rating data JSON file\n",
    "        The filename should include the full directory.\n",
    "    '''    \n",
    "    import re\n",
    "    import json\n",
    "    data = []\n",
    "    userRecord = {}#each user's record of all rating\n",
    "    with open(input_filename,'r') as f:\n",
    "        for line in f:\n",
    "            if '|' in line:\n",
    "                data.append(userRecord.copy())#append former user record to data collection, use the value passing\n",
    "                userRecord.clear()#clear the former userRating record\n",
    "            \n",
    "                userRecord[\"ratings\"] = []\n",
    "                line_split = re.split(\"\\||\\n\", line)\n",
    "                if '' in line_split:\n",
    "                    line_split.remove('')\n",
    "                userRecord['userID'] = line_split[0]\n",
    "                userRecord['numRating'] = line_split[1]   \n",
    "            else:\n",
    "                line_split = re.split(\"\\t|\\n\", line)\n",
    "                if '' in line_split:\n",
    "                    line_split.remove('')\n",
    "                curRating = {}#current item rating of current user\n",
    "                curRating['itemID'] = line_split[0]\n",
    "                curRating['rating'] = line_split[1]\n",
    "                curRating['number'] = line_split[2]\n",
    "                curRating['time'] = line_split[3]\n",
    "                userRecord[\"ratings\"].append(curRating)\n",
    "    #store the last user\n",
    "    data.append(userRecord.copy())\n",
    "    #remove the first null dict\n",
    "    data = data[1:]\n",
    "        \n",
    "    # for rating  in data:\n",
    "    #     print(rating)\n",
    "    \n",
    "    with open(output_filename, 'w') as wf:\n",
    "        json.dump(data, wf)"
   ]
  },
  {
   "cell_type": "code",
   "execution_count": 24,
   "metadata": {
    "collapsed": false
   },
   "outputs": [],
   "source": [
    "def __track__preprocess__(input_filename, output_filename):\n",
    "    '''\n",
    "        This function is to split the track data into JSON file\n",
    "        The inputfile should in same directory of the python script    \n",
    "        python items_preprocess.py input_filename output_filename\n",
    "    '''\n",
    "    import re\n",
    "    import json\n",
    "    data = []\n",
    "    with open(input_filename, 'r') as f:\n",
    "        for line in f:\n",
    "            curTrack = {}#the information of current track\n",
    "            trackRecord = re.split('\\||\\n', line)\n",
    "            if '' in trackRecord:\n",
    "                trackRecord.remove('')\n",
    "            curTrack['trackID'] = trackRecord[0]\n",
    "            curTrack['albumID'] = trackRecord[1]\n",
    "            curTrack['artistID'] = trackRecord[2]\n",
    "            genreList = []\n",
    "            for i in range(3, len(trackRecord)):\n",
    "                genreList.append(trackRecord[i])\n",
    "            curTrack['genreList'] = genreList\n",
    "            data.append(curTrack.copy())\n",
    "    with open(output_filename, 'w') as wf:\n",
    "        json.dump(data, wf)\n",
    "#test trackData preprocess\n",
    "__track__preprocess__(\"testTrackIn.txt\", \"testTrackOut.txt\")\n"
   ]
  },
  {
   "cell_type": "code",
   "execution_count": 25,
   "metadata": {
    "collapsed": true
   },
   "outputs": [],
   "source": [
    "def __album__preprocess__(input_filename, output_filename):\n",
    "    '''\n",
    "        This function is to split the album data into JSON file\n",
    "        The inputfile should in same directory of the python script    \n",
    "        python items_preprocess.py input_filename output_filename\n",
    "    '''\n",
    "    import re\n",
    "    import json\n",
    "    data = []\n",
    "    with open(input_filename, 'r') as f:\n",
    "        for line in f:\n",
    "            curAlbum = {}#the information of current album\n",
    "            albumRecord = re.split('\\||\\n', line)\n",
    "            if '' in albumRecord:\n",
    "                albumRecord.remove('')\n",
    "            curAlbum['albumID'] = albumRecord[0]\n",
    "            curAlbum['artistID'] = albumRecord[1]\n",
    "            genreList = []\n",
    "            for i in range(2, len(albumRecord)):\n",
    "                genreList.append(albumRecord[i])\n",
    "            curAlbum['genreList'] = genreList\n",
    "            data.append(curAlbum.copy())\n",
    "    with open(output_filename, 'w') as wf:\n",
    "        json.dump(data, wf)\n",
    "#test albumData preprocess\n",
    "__album__preprocess(\"testAlbumIn.txt\", \"testAlbumOut.txt\")\n"
   ]
  }
 ],
 "metadata": {
  "kernelspec": {
   "display_name": "Python 2",
   "language": "python",
   "name": "python2"
  },
  "language_info": {
   "codemirror_mode": {
    "name": "ipython",
    "version": 2
   },
   "file_extension": ".py",
   "mimetype": "text/x-python",
   "name": "python",
   "nbconvert_exporter": "python",
   "pygments_lexer": "ipython2",
   "version": "2.7.13"
  }
 },
 "nbformat": 4,
 "nbformat_minor": 2
}
